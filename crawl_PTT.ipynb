{
 "cells": [
  {
   "cell_type": "code",
   "execution_count": 2,
   "metadata": {},
   "outputs": [
    {
     "ename": "ModuleNotFoundError",
     "evalue": "No module named 'MySQLdb'",
     "output_type": "error",
     "traceback": [
      "\u001b[0;31m---------------------------------------------------------------------------\u001b[0m",
      "\u001b[0;31mModuleNotFoundError\u001b[0m                       Traceback (most recent call last)",
      "\u001b[0;32m<ipython-input-2-c8605f505938>\u001b[0m in \u001b[0;36m<module>\u001b[0;34m\u001b[0m\n\u001b[1;32m      9\u001b[0m \u001b[0;32mimport\u001b[0m \u001b[0mopenpyxl\u001b[0m\u001b[0;34m\u001b[0m\u001b[0;34m\u001b[0m\u001b[0m\n\u001b[1;32m     10\u001b[0m \u001b[0;32mfrom\u001b[0m \u001b[0mopenpyxl\u001b[0m\u001b[0;34m.\u001b[0m\u001b[0mcell\u001b[0m\u001b[0;34m.\u001b[0m\u001b[0mcell\u001b[0m \u001b[0;32mimport\u001b[0m \u001b[0mILLEGAL_CHARACTERS_RE\u001b[0m\u001b[0;34m\u001b[0m\u001b[0;34m\u001b[0m\u001b[0m\n\u001b[0;32m---> 11\u001b[0;31m \u001b[0;32mimport\u001b[0m \u001b[0mMySQLdb\u001b[0m\u001b[0;34m\u001b[0m\u001b[0;34m\u001b[0m\u001b[0m\n\u001b[0m",
      "\u001b[0;31mModuleNotFoundError\u001b[0m: No module named 'MySQLdb'"
     ]
    }
   ],
   "source": [
    "import os\n",
    "import requests\n",
    "import shutil\n",
    "import time\n",
    "import sys\n",
    "import re\n",
    "import urllib\n",
    "from bs4 import BeautifulSoup\n",
    "import openpyxl\n",
    "from openpyxl.cell.cell import ILLEGAL_CHARACTERS_RE\n",
    "import MySQLdb"
   ]
  },
  {
   "cell_type": "code",
   "execution_count": 2,
   "metadata": {},
   "outputs": [],
   "source": [
    "def tx_coding(text):\n",
    "    # address UnicodeEncodeError: ‘cp950’ codec can’t encode character\n",
    "    return text.encode(sys.stdin.encoding, \"replace\").decode(sys.stdin.encoding)\n",
    "\n",
    "def get_web_page(url):\n",
    "    resp = requests.get(\n",
    "        url=url,\n",
    "        cookies={'over18': '1'}\n",
    "    )\n",
    "  \n",
    "    if resp.status_code != 200:\n",
    "        return None\n",
    "    else:\n",
    "        return tx_coding(resp.text)\n",
    "    \n",
    "def get_next_page_url_and_parper_url(url,date):\n",
    "    page = get_web_page(url)\n",
    "    soup = BeautifulSoup(page, 'html.parser')\n",
    "    #next_page_url\n",
    "    d = soup.find('div', {'class': 'btn-group btn-group-paging'})\n",
    "    next_page = \"https://www.ptt.cc\" + (d.find_all('a'))[1][\"href\"]\n",
    "    #articles\n",
    "    title = \"\"\n",
    "    href = \"\"\n",
    "    push_count = \"\"\n",
    "    # 初始化一個【文章列表陣列】，儲存取得的文章資料\n",
    "    articles = []  \n",
    "    # 取得所有<div class:r-ent> block的資料，並放在divs陣列裡面\n",
    "    divs = soup.find_all('div', {'class': 'r-ent'})\n",
    "    for div in divs:\n",
    "    # 如果發文日期是今天，且有超連結，表示文章存在，未被刪除\n",
    "            ######################\n",
    "            # 取得文章連結及標題\t\t\t\n",
    "        if (div.find('div', 'date').string == date) or (div.find('a')):\n",
    "            push_count = div.find('div', {'class': 'nrec'}).string\n",
    "            href = \"https://www.ptt.cc\" + div.find('a')['href']\n",
    "            title = div.find('a').string\n",
    "        else:\n",
    "            continue\n",
    "        \n",
    "        # 忽略有[公告]兩字的文章 \n",
    "        if title.find('公告') !=-1:\n",
    "            continue\n",
    "        pass\n",
    "    \n",
    "        ######################\n",
    "        # 將取得的資料分類存在【文章列表陣列】\n",
    "        articles.append({\n",
    "            'local_url': href,\n",
    "            'title': title,\n",
    "            'push_count': push_count\n",
    "        })\n",
    "    print(url,\"\\n文章\",len(articles))\n",
    "    return (next_page,articles)\n",
    "\n",
    "def get_paper_content(url):\n",
    "    times=\"\"\n",
    "    page = get_web_page(url)\n",
    "    soup = BeautifulSoup(page, 'html.parser')\n",
    "    links = soup.find(id='main-content')\n",
    "    links_text = soup.find(id='main-content').text\n",
    "    \n",
    "    for i in links.find_all(class_='push'):\n",
    "        links_text = links_text.replace(str(i.text),\"\")\n",
    "  \n",
    "    for i in links.find_all(class_='f2'):\n",
    "        links_text = links_text.replace(str(i.text),\"\")\n",
    "  \n",
    "    for i in links.find_all(class_='article-metaline'):\n",
    "        times = i.find(class_='article-meta-value').text\n",
    "        links_text = links_text.replace(str(i.text),\"\")\n",
    "  \n",
    "    for i in links.find_all(class_='article-metaline-right'):\n",
    "        links_text = links_text.replace(str(i.text),\"\")\n",
    "        links_text = links_text.replace(r'^https?://(i.)?(m.)?imgur.com','')\n",
    "        links_text = ILLEGAL_CHARACTERS_RE.sub(r'', links_text)\n",
    "    links_text = links_text.replace(\"\\n\",\"\")\n",
    "    return (links_text,times)"
   ]
  },
  {
   "cell_type": "code",
   "execution_count": 3,
   "metadata": {},
   "outputs": [
    {
     "name": "stdout",
     "output_type": "stream",
     "text": [
      "https://www.ptt.cc/bbs/prozac/index.html \n",
      "文章 3\n",
      "https://www.ptt.cc/bbs/prozac/index1226.html \n",
      "文章 17\n",
      "https://www.ptt.cc/bbs/prozac/index1225.html \n",
      "文章 17\n",
      "https://www.ptt.cc/bbs/prozac/index1224.html \n",
      "文章 16\n",
      "https://www.ptt.cc/bbs/prozac/index1223.html \n",
      "文章 13\n",
      "https://www.ptt.cc/bbs/prozac/index1222.html \n",
      "文章 16\n",
      "https://www.ptt.cc/bbs/prozac/index1221.html \n",
      "文章 14\n",
      "https://www.ptt.cc/bbs/prozac/index1220.html \n",
      "文章 16\n",
      "https://www.ptt.cc/bbs/prozac/index1219.html \n",
      "文章 16\n",
      "https://www.ptt.cc/bbs/prozac/index1218.html \n",
      "文章 18\n"
     ]
    }
   ],
   "source": [
    "text,times=\"\",\"\"\n",
    "first_page = \"https://www.ptt.cc/bbs/prozac/index.html\"\n",
    "date = time.strftime(\"%m/%d\").lstrip('0')\n",
    "conn=MySQLdb.connect(host=\"127.0.0.1\",user=\"root\",passwd=\"1234\",db=\"ptt\",charset=\"utf8\")\n",
    "cursor=conn.cursor()\n",
    "for page_count in range(10):\n",
    "    next_page_url,articles = get_next_page_url_and_parper_url(first_page,date)\n",
    "    for articles_count in range(len(articles)):\n",
    "        text,times = get_paper_content(articles[articles_count][\"local_url\"])\n",
    "        cursor.execute('INSERT INTO ptt_articles(title,content,time,push_count) VALUES(%s,%s,%s,%s)',(str(articles[articles_count][\"title\"]),str(text),str(times),str(articles[articles_count][\"push_count\"])))\n",
    "        conn.commit()\n",
    "        #time.sleep(2)\n",
    "    first_page = next_page_url"
   ]
  },
  {
   "cell_type": "code",
   "execution_count": 91,
   "metadata": {},
   "outputs": [],
   "source": [
    "date = time.strftime(\"%m/%d\").lstrip('0')\n",
    "next_page_url,articles = get_next_page_url_and_parper_url(\"https://www.ptt.cc/bbs/prozac/index.html\",date)"
   ]
  },
  {
   "cell_type": "code",
   "execution_count": 92,
   "metadata": {},
   "outputs": [
    {
     "data": {
      "text/plain": [
       "'https://www.ptt.cc/bbs/prozac/index1222.html'"
      ]
     },
     "execution_count": 92,
     "metadata": {},
     "output_type": "execute_result"
    }
   ],
   "source": [
    "next_page_url"
   ]
  },
  {
   "cell_type": "code",
   "execution_count": 52,
   "metadata": {},
   "outputs": [
    {
     "data": {
      "text/plain": [
       "{'local_url': 'https://www.ptt.cc/bbs/prozac/M.1594228793.A.C39.html',\n",
       " 'title': '[陰天] 陰晴不定',\n",
       " 'push_count': '1'}"
      ]
     },
     "execution_count": 52,
     "metadata": {},
     "output_type": "execute_result"
    }
   ],
   "source": [
    "articles[0]"
   ]
  },
  {
   "cell_type": "code",
   "execution_count": 63,
   "metadata": {},
   "outputs": [
    {
     "data": {
      "text/plain": [
       "\"像是今天的天氣，以為是大晴天卻突然烏雲密佈，以為要下雨了終究是沒有。大概是因為我掙扎著想好起來，但是無法維持在好的狀態，瞬間消失的食慾竟然就這麼持續了幾天，可以工作，但無法高度專注。失去專注力這件事一直讓我很困擾，難道這是一個不可逆的過程嗎？連看個輕鬆的書都不斷走神QQ新聞今天依然在發酵，還是會忍不住被影響，關於男性與女性、強權與弱勢、傷害與被傷害、婚姻與家庭、愛與恨、生與死，不過也許一切都只是我自己腦補了太多，其實與我無關，太多的情緒感知太累了，沒有辦法承受的話還是不要想比較好。想著他就好了，今天他撐著想睡也要陪我說一會兒話，覺得暖暖的，很可愛。還好有他在，讓模糊的世界稍微清晰了一點。https://youtu.be/m0ffXI1kBvs今天是抒情感EDMYou're the best thing, you're a beautiful feeling I have--\""
      ]
     },
     "execution_count": 63,
     "metadata": {},
     "output_type": "execute_result"
    }
   ],
   "source": [
    "SQL=\"SELECT * FROM ptt_articles\"\n",
    "cursor.execute(SQL)\n",
    "cursor.fetchall()[0][1]"
   ]
  },
  {
   "cell_type": "code",
   "execution_count": 70,
   "metadata": {},
   "outputs": [
    {
     "data": {
      "text/plain": [
       "2"
      ]
     },
     "execution_count": 70,
     "metadata": {},
     "output_type": "execute_result"
    }
   ],
   "source": [
    "a= \"kevin\"\n",
    "a.find('vin')"
   ]
  },
  {
   "cell_type": "code",
   "execution_count": null,
   "metadata": {},
   "outputs": [],
   "source": []
  }
 ],
 "metadata": {
  "kernelspec": {
   "display_name": "Python 3",
   "language": "python",
   "name": "python3"
  },
  "language_info": {
   "codemirror_mode": {
    "name": "ipython",
    "version": 3
   },
   "file_extension": ".py",
   "mimetype": "text/x-python",
   "name": "python",
   "nbconvert_exporter": "python",
   "pygments_lexer": "ipython3",
   "version": "3.7.7"
  }
 },
 "nbformat": 4,
 "nbformat_minor": 4
}
