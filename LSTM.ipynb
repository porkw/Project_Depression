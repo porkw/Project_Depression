{
 "cells": [
  {
   "cell_type": "code",
   "execution_count": 3,
   "metadata": {
    "scrolled": true
   },
   "outputs": [],
   "source": [
    "import logging\n",
    "import pandas as pd\n",
    "import numpy as np\n",
    "import jieba\n",
    "import random\n",
    "from gensim.models import word2vec"
   ]
  },
  {
   "cell_type": "code",
   "execution_count": 4,
   "metadata": {},
   "outputs": [],
   "source": [
    "import torch\n",
    "import torch.nn as nn\n",
    "import torch.nn.functional as F\n",
    "import torch.optim as optim\n",
    "import time\n",
    "from torch.autograd import Variable\n",
    "from sklearn.metrics import accuracy_score"
   ]
  },
  {
   "cell_type": "markdown",
   "metadata": {},
   "source": [
    "# w2v"
   ]
  },
  {
   "cell_type": "markdown",
   "metadata": {},
   "source": [
    "## non split data"
   ]
  },
  {
   "cell_type": "code",
   "execution_count": 5,
   "metadata": {},
   "outputs": [
    {
     "data": {
      "text/html": [
       "<div>\n",
       "<style scoped>\n",
       "    .dataframe tbody tr th:only-of-type {\n",
       "        vertical-align: middle;\n",
       "    }\n",
       "\n",
       "    .dataframe tbody tr th {\n",
       "        vertical-align: top;\n",
       "    }\n",
       "\n",
       "    .dataframe thead th {\n",
       "        text-align: right;\n",
       "    }\n",
       "</style>\n",
       "<table border=\"1\" class=\"dataframe\">\n",
       "  <thead>\n",
       "    <tr style=\"text-align: right;\">\n",
       "      <th></th>\n",
       "      <th>Content</th>\n",
       "      <th>Label</th>\n",
       "    </tr>\n",
       "  </thead>\n",
       "  <tbody>\n",
       "    <tr>\n",
       "      <th>0</th>\n",
       "      <td>我有個國小認識的好朋友，上了大學後常常會跟我訴苦，大多是關於人際關係的他個性比較內向，不容易...</td>\n",
       "      <td>0</td>\n",
       "    </tr>\n",
       "    <tr>\n",
       "      <th>1</th>\n",
       "      <td>(第一人稱視角，)媽媽跟爸爸從我出生就感情不好 所以國小時離婚了我喜歡媽媽 不喜歡爸爸但我們...</td>\n",
       "      <td>1</td>\n",
       "    </tr>\n",
       "    <tr>\n",
       "      <th>2</th>\n",
       "      <td>我的前任在自殺前一周突然幫我慶生，一天前找我出門玩，再一聲不吭的自我了斷，給我很大的陰影。現...</td>\n",
       "      <td>0</td>\n",
       "    </tr>\n",
       "    <tr>\n",
       "      <th>3</th>\n",
       "      <td>身為一個亞斯伯格症的人看到這則新聞還蠻難過的首先我可以理解家長看到自己小孩無緣無故被攻擊而想...</td>\n",
       "      <td>0</td>\n",
       "    </tr>\n",
       "    <tr>\n",
       "      <th>4</th>\n",
       "      <td>真的很長，防雷。26個年頭來，經歷了大小事情。媽媽在國小開始因為經濟不景氣、收店的壓力、被朋...</td>\n",
       "      <td>0</td>\n",
       "    </tr>\n",
       "    <tr>\n",
       "      <th>...</th>\n",
       "      <td>...</td>\n",
       "      <td>...</td>\n",
       "    </tr>\n",
       "    <tr>\n",
       "      <th>246</th>\n",
       "      <td>其實我心悸、頭暈、呼吸不順、焦慮、失眠這種症狀一段時間了，前陣子看身心科醫生也只是開了一些抗...</td>\n",
       "      <td>1</td>\n",
       "    </tr>\n",
       "    <tr>\n",
       "      <th>247</th>\n",
       "      <td>之前有去諮商了，但自殺想法最近又有浮現我開始好奇與納悶活著不快樂為何要活著明明知道自殺父母會...</td>\n",
       "      <td>1</td>\n",
       "    </tr>\n",
       "    <tr>\n",
       "      <th>248</th>\n",
       "      <td>對 我確定要走了 留下這篇文證明這裡曾經有一個活人</td>\n",
       "      <td>1</td>\n",
       "    </tr>\n",
       "    <tr>\n",
       "      <th>249</th>\n",
       "      <td>（文筆不好別嗆我😗）想問一下有人被家人搞到想死嗎？我今年升高二我媽生我時是單親19就生我，我...</td>\n",
       "      <td>1</td>\n",
       "    </tr>\n",
       "    <tr>\n",
       "      <th>250</th>\n",
       "      <td>事情要從國中甚至是從我五歲開始講起我五歲那年的某一天因為很想下樓去找爸爸媽媽就緩緩的走下樓 ...</td>\n",
       "      <td>1</td>\n",
       "    </tr>\n",
       "  </tbody>\n",
       "</table>\n",
       "<p>251 rows × 2 columns</p>\n",
       "</div>"
      ],
      "text/plain": [
       "                                               Content  Label\n",
       "0    我有個國小認識的好朋友，上了大學後常常會跟我訴苦，大多是關於人際關係的他個性比較內向，不容易...      0\n",
       "1    (第一人稱視角，)媽媽跟爸爸從我出生就感情不好 所以國小時離婚了我喜歡媽媽 不喜歡爸爸但我們...      1\n",
       "2    我的前任在自殺前一周突然幫我慶生，一天前找我出門玩，再一聲不吭的自我了斷，給我很大的陰影。現...      0\n",
       "3    身為一個亞斯伯格症的人看到這則新聞還蠻難過的首先我可以理解家長看到自己小孩無緣無故被攻擊而想...      0\n",
       "4    真的很長，防雷。26個年頭來，經歷了大小事情。媽媽在國小開始因為經濟不景氣、收店的壓力、被朋...      0\n",
       "..                                                 ...    ...\n",
       "246  其實我心悸、頭暈、呼吸不順、焦慮、失眠這種症狀一段時間了，前陣子看身心科醫生也只是開了一些抗...      1\n",
       "247  之前有去諮商了，但自殺想法最近又有浮現我開始好奇與納悶活著不快樂為何要活著明明知道自殺父母會...      1\n",
       "248                          對 我確定要走了 留下這篇文證明這裡曾經有一個活人      1\n",
       "249  （文筆不好別嗆我😗）想問一下有人被家人搞到想死嗎？我今年升高二我媽生我時是單親19就生我，我...      1\n",
       "250  事情要從國中甚至是從我五歲開始講起我五歲那年的某一天因為很想下樓去找爸爸媽媽就緩緩的走下樓 ...      1\n",
       "\n",
       "[251 rows x 2 columns]"
      ]
     },
     "execution_count": 5,
     "metadata": {},
     "output_type": "execute_result"
    }
   ],
   "source": [
    "# Loading dataset\n",
    "train = pd.read_csv('train.csv')\n",
    "train\n",
    "val = pd.read_csv('validation.csv')\n",
    "val"
   ]
  },
  {
   "cell_type": "code",
   "execution_count": 4,
   "metadata": {
    "scrolled": true
   },
   "outputs": [],
   "source": [
    "## 取200筆非自殺\n",
    "# train_neg = train[train[\"Label\"] == 0].iloc[:200]\n",
    "# train_pos = train[train[\"Label\"] == 1]\n",
    "# train = pd.concat([train_neg,train_pos])\n",
    "# train = train.reset_index(drop=True)\n",
    "# train"
   ]
  },
  {
   "cell_type": "code",
   "execution_count": 6,
   "metadata": {},
   "outputs": [
    {
     "data": {
      "text/html": [
       "<div>\n",
       "<style scoped>\n",
       "    .dataframe tbody tr th:only-of-type {\n",
       "        vertical-align: middle;\n",
       "    }\n",
       "\n",
       "    .dataframe tbody tr th {\n",
       "        vertical-align: top;\n",
       "    }\n",
       "\n",
       "    .dataframe thead th {\n",
       "        text-align: right;\n",
       "    }\n",
       "</style>\n",
       "<table border=\"1\" class=\"dataframe\">\n",
       "  <thead>\n",
       "    <tr style=\"text-align: right;\">\n",
       "      <th></th>\n",
       "      <th>Content</th>\n",
       "      <th>Label</th>\n",
       "    </tr>\n",
       "  </thead>\n",
       "  <tbody>\n",
       "    <tr>\n",
       "      <th>0</th>\n",
       "      <td>仙草加蜂蜜好好吃！等下再去市場買一塊大仙草~吃吃吃好像把今天的熱量扣打吃完了-----Sen...</td>\n",
       "      <td>0</td>\n",
       "    </tr>\n",
       "    <tr>\n",
       "      <th>1</th>\n",
       "      <td>啊啊啊 邁入老女人的里程碑了今天本來想請假的但被同事搶先了然後從禮拜六開始爸爸媽媽就滿滿的情...</td>\n",
       "      <td>0</td>\n",
       "    </tr>\n",
       "    <tr>\n",
       "      <th>2</th>\n",
       "      <td>今天同事提出，覺得我有點過度依賴男友了不是第一個人說出這個問題其實早在交往的一開始我自己就察...</td>\n",
       "      <td>0</td>\n",
       "    </tr>\n",
       "    <tr>\n",
       "      <th>3</th>\n",
       "      <td>開始停速悅的這幾天我還是會吃安立平總覺得現在除了心悸手抖頭很重以外一直還有個在耳邊敲打小軍鼓...</td>\n",
       "      <td>0</td>\n",
       "    </tr>\n",
       "    <tr>\n",
       "      <th>4</th>\n",
       "      <td>我覺得有些善意的謊言是可以說的就是那些不會被揭穿的但有一些是一定會被揭穿「你狀態不好的時侯可...</td>\n",
       "      <td>0</td>\n",
       "    </tr>\n",
       "    <tr>\n",
       "      <th>...</th>\n",
       "      <td>...</td>\n",
       "      <td>...</td>\n",
       "    </tr>\n",
       "    <tr>\n",
       "      <th>1601</th>\n",
       "      <td>其實我心悸、頭暈、呼吸不順、焦慮、失眠這種症狀一段時間了，前陣子看身心科醫生也只是開了一些抗...</td>\n",
       "      <td>1</td>\n",
       "    </tr>\n",
       "    <tr>\n",
       "      <th>1602</th>\n",
       "      <td>之前有去諮商了，但自殺想法最近又有浮現我開始好奇與納悶活著不快樂為何要活著明明知道自殺父母會...</td>\n",
       "      <td>1</td>\n",
       "    </tr>\n",
       "    <tr>\n",
       "      <th>1603</th>\n",
       "      <td>對 我確定要走了 留下這篇文證明這裡曾經有一個活人</td>\n",
       "      <td>1</td>\n",
       "    </tr>\n",
       "    <tr>\n",
       "      <th>1604</th>\n",
       "      <td>（文筆不好別嗆我😗）想問一下有人被家人搞到想死嗎？我今年升高二我媽生我時是單親19就生我，我...</td>\n",
       "      <td>1</td>\n",
       "    </tr>\n",
       "    <tr>\n",
       "      <th>1605</th>\n",
       "      <td>事情要從國中甚至是從我五歲開始講起我五歲那年的某一天因為很想下樓去找爸爸媽媽就緩緩的走下樓 ...</td>\n",
       "      <td>1</td>\n",
       "    </tr>\n",
       "  </tbody>\n",
       "</table>\n",
       "<p>1606 rows × 2 columns</p>\n",
       "</div>"
      ],
      "text/plain": [
       "                                                Content  Label\n",
       "0     仙草加蜂蜜好好吃！等下再去市場買一塊大仙草~吃吃吃好像把今天的熱量扣打吃完了-----Sen...      0\n",
       "1     啊啊啊 邁入老女人的里程碑了今天本來想請假的但被同事搶先了然後從禮拜六開始爸爸媽媽就滿滿的情...      0\n",
       "2     今天同事提出，覺得我有點過度依賴男友了不是第一個人說出這個問題其實早在交往的一開始我自己就察...      0\n",
       "3     開始停速悅的這幾天我還是會吃安立平總覺得現在除了心悸手抖頭很重以外一直還有個在耳邊敲打小軍鼓...      0\n",
       "4     我覺得有些善意的謊言是可以說的就是那些不會被揭穿的但有一些是一定會被揭穿「你狀態不好的時侯可...      0\n",
       "...                                                 ...    ...\n",
       "1601  其實我心悸、頭暈、呼吸不順、焦慮、失眠這種症狀一段時間了，前陣子看身心科醫生也只是開了一些抗...      1\n",
       "1602  之前有去諮商了，但自殺想法最近又有浮現我開始好奇與納悶活著不快樂為何要活著明明知道自殺父母會...      1\n",
       "1603                          對 我確定要走了 留下這篇文證明這裡曾經有一個活人      1\n",
       "1604  （文筆不好別嗆我😗）想問一下有人被家人搞到想死嗎？我今年升高二我媽生我時是單親19就生我，我...      1\n",
       "1605  事情要從國中甚至是從我五歲開始講起我五歲那年的某一天因為很想下樓去找爸爸媽媽就緩緩的走下樓 ...      1\n",
       "\n",
       "[1606 rows x 2 columns]"
      ]
     },
     "execution_count": 6,
     "metadata": {},
     "output_type": "execute_result"
    }
   ],
   "source": [
    "total = pd.concat([train, val])\n",
    "total = total.reset_index(drop=True)\n",
    "total"
   ]
  },
  {
   "cell_type": "markdown",
   "metadata": {},
   "source": [
    "## tokenized"
   ]
  },
  {
   "cell_type": "code",
   "execution_count": 7,
   "metadata": {},
   "outputs": [],
   "source": [
    "logging.basicConfig(format='%(asctime)s : %(levelname)s : %(message)s', level=logging.INFO)\n",
    "\n",
    "# jieba custom setting.\n",
    "jieba.set_dictionary('jieba_dict/dict.txt.big')\n",
    "\n",
    "# load stopwords set\n",
    "stopword_set = set()\n",
    "with open('jieba_dict/stopwords.txt','r', encoding='utf-8') as stopwords:\n",
    "    for stopword in stopwords:\n",
    "        stopword_set.add(stopword.strip(' \\n'))"
   ]
  },
  {
   "cell_type": "code",
   "execution_count": 8,
   "metadata": {},
   "outputs": [],
   "source": [
    "def jieba_tokenizer(content):\n",
    "    if str(content)=='nan':\n",
    "        return ''\n",
    "    words = jieba.cut(content.replace(' ',''))\n",
    "    return [word for word in words if word not in stopword_set]"
   ]
  },
  {
   "cell_type": "code",
   "execution_count": 9,
   "metadata": {
    "scrolled": true
   },
   "outputs": [
    {
     "name": "stderr",
     "output_type": "stream",
     "text": [
      "/home/ubuntu/anaconda3/envs/lstm/lib/python3.7/site-packages/tensorflow/python/framework/dtypes.py:516: FutureWarning: Passing (type, 1) or '1type' as a synonym of type is deprecated; in a future version of numpy, it will be understood as (type, (1,)) / '(1,)type'.\n",
      "  _np_qint8 = np.dtype([(\"qint8\", np.int8, 1)])\n",
      "/home/ubuntu/anaconda3/envs/lstm/lib/python3.7/site-packages/tensorflow/python/framework/dtypes.py:517: FutureWarning: Passing (type, 1) or '1type' as a synonym of type is deprecated; in a future version of numpy, it will be understood as (type, (1,)) / '(1,)type'.\n",
      "  _np_quint8 = np.dtype([(\"quint8\", np.uint8, 1)])\n",
      "/home/ubuntu/anaconda3/envs/lstm/lib/python3.7/site-packages/tensorflow/python/framework/dtypes.py:518: FutureWarning: Passing (type, 1) or '1type' as a synonym of type is deprecated; in a future version of numpy, it will be understood as (type, (1,)) / '(1,)type'.\n",
      "  _np_qint16 = np.dtype([(\"qint16\", np.int16, 1)])\n",
      "/home/ubuntu/anaconda3/envs/lstm/lib/python3.7/site-packages/tensorflow/python/framework/dtypes.py:519: FutureWarning: Passing (type, 1) or '1type' as a synonym of type is deprecated; in a future version of numpy, it will be understood as (type, (1,)) / '(1,)type'.\n",
      "  _np_quint16 = np.dtype([(\"quint16\", np.uint16, 1)])\n",
      "/home/ubuntu/anaconda3/envs/lstm/lib/python3.7/site-packages/tensorflow/python/framework/dtypes.py:520: FutureWarning: Passing (type, 1) or '1type' as a synonym of type is deprecated; in a future version of numpy, it will be understood as (type, (1,)) / '(1,)type'.\n",
      "  _np_qint32 = np.dtype([(\"qint32\", np.int32, 1)])\n",
      "/home/ubuntu/anaconda3/envs/lstm/lib/python3.7/site-packages/tensorflow/python/framework/dtypes.py:525: FutureWarning: Passing (type, 1) or '1type' as a synonym of type is deprecated; in a future version of numpy, it will be understood as (type, (1,)) / '(1,)type'.\n",
      "  np_resource = np.dtype([(\"resource\", np.ubyte, 1)])\n",
      "/home/ubuntu/anaconda3/envs/lstm/lib/python3.7/site-packages/tensorboard/compat/tensorflow_stub/dtypes.py:541: FutureWarning: Passing (type, 1) or '1type' as a synonym of type is deprecated; in a future version of numpy, it will be understood as (type, (1,)) / '(1,)type'.\n",
      "  _np_qint8 = np.dtype([(\"qint8\", np.int8, 1)])\n",
      "/home/ubuntu/anaconda3/envs/lstm/lib/python3.7/site-packages/tensorboard/compat/tensorflow_stub/dtypes.py:542: FutureWarning: Passing (type, 1) or '1type' as a synonym of type is deprecated; in a future version of numpy, it will be understood as (type, (1,)) / '(1,)type'.\n",
      "  _np_quint8 = np.dtype([(\"quint8\", np.uint8, 1)])\n",
      "/home/ubuntu/anaconda3/envs/lstm/lib/python3.7/site-packages/tensorboard/compat/tensorflow_stub/dtypes.py:543: FutureWarning: Passing (type, 1) or '1type' as a synonym of type is deprecated; in a future version of numpy, it will be understood as (type, (1,)) / '(1,)type'.\n",
      "  _np_qint16 = np.dtype([(\"qint16\", np.int16, 1)])\n",
      "/home/ubuntu/anaconda3/envs/lstm/lib/python3.7/site-packages/tensorboard/compat/tensorflow_stub/dtypes.py:544: FutureWarning: Passing (type, 1) or '1type' as a synonym of type is deprecated; in a future version of numpy, it will be understood as (type, (1,)) / '(1,)type'.\n",
      "  _np_quint16 = np.dtype([(\"quint16\", np.uint16, 1)])\n",
      "/home/ubuntu/anaconda3/envs/lstm/lib/python3.7/site-packages/tensorboard/compat/tensorflow_stub/dtypes.py:545: FutureWarning: Passing (type, 1) or '1type' as a synonym of type is deprecated; in a future version of numpy, it will be understood as (type, (1,)) / '(1,)type'.\n",
      "  _np_qint32 = np.dtype([(\"qint32\", np.int32, 1)])\n",
      "/home/ubuntu/anaconda3/envs/lstm/lib/python3.7/site-packages/tensorboard/compat/tensorflow_stub/dtypes.py:550: FutureWarning: Passing (type, 1) or '1type' as a synonym of type is deprecated; in a future version of numpy, it will be understood as (type, (1,)) / '(1,)type'.\n",
      "  np_resource = np.dtype([(\"resource\", np.ubyte, 1)])\n"
     ]
    },
    {
     "name": "stdout",
     "output_type": "stream",
     "text": [
      "WARNING: Entity <bound method LSTMCell.call of <tensorflow.python.ops.rnn_cell_impl.LSTMCell object at 0x7f92af14fe90>> could not be transformed and will be executed as-is. Please report this to the AutgoGraph team. When filing the bug, set the verbosity to 10 (on Linux, `export AUTOGRAPH_VERBOSITY=10`) and attach the full output. Cause: converting <bound method LSTMCell.call of <tensorflow.python.ops.rnn_cell_impl.LSTMCell object at 0x7f92af14fe90>>: AttributeError: module 'gast' has no attribute 'Num'\n",
      "WARNING: Entity <bound method LSTMCell.call of <tensorflow.python.ops.rnn_cell_impl.LSTMCell object at 0x7f92ad7973d0>> could not be transformed and will be executed as-is. Please report this to the AutgoGraph team. When filing the bug, set the verbosity to 10 (on Linux, `export AUTOGRAPH_VERBOSITY=10`) and attach the full output. Cause: converting <bound method LSTMCell.call of <tensorflow.python.ops.rnn_cell_impl.LSTMCell object at 0x7f92ad7973d0>>: AttributeError: module 'gast' has no attribute 'Num'\n",
      "WARNING: Entity <bound method LSTMCell.call of <tensorflow.python.ops.rnn_cell_impl.LSTMCell object at 0x7f92af20bb50>> could not be transformed and will be executed as-is. Please report this to the AutgoGraph team. When filing the bug, set the verbosity to 10 (on Linux, `export AUTOGRAPH_VERBOSITY=10`) and attach the full output. Cause: converting <bound method LSTMCell.call of <tensorflow.python.ops.rnn_cell_impl.LSTMCell object at 0x7f92af20bb50>>: AttributeError: module 'gast' has no attribute 'Num'\n",
      "WARNING: Entity <bound method LSTMCell.call of <tensorflow.python.ops.rnn_cell_impl.LSTMCell object at 0x7f92ad7a8d10>> could not be transformed and will be executed as-is. Please report this to the AutgoGraph team. When filing the bug, set the verbosity to 10 (on Linux, `export AUTOGRAPH_VERBOSITY=10`) and attach the full output. Cause: converting <bound method LSTMCell.call of <tensorflow.python.ops.rnn_cell_impl.LSTMCell object at 0x7f92ad7a8d10>>: AttributeError: module 'gast' has no attribute 'Num'\n",
      "WARNING: Entity <bound method Dense.call of <tensorflow.python.layers.core.Dense object at 0x7f92b0525350>> could not be transformed and will be executed as-is. Please report this to the AutgoGraph team. When filing the bug, set the verbosity to 10 (on Linux, `export AUTOGRAPH_VERBOSITY=10`) and attach the full output. Cause: converting <bound method Dense.call of <tensorflow.python.layers.core.Dense object at 0x7f92b0525350>>: AssertionError: Bad argument number for Name: 3, expecting 4\n",
      "WARNING: Entity <bound method LSTMCell.call of <tensorflow.python.ops.rnn_cell_impl.LSTMCell object at 0x7f9137fd63d0>> could not be transformed and will be executed as-is. Please report this to the AutgoGraph team. When filing the bug, set the verbosity to 10 (on Linux, `export AUTOGRAPH_VERBOSITY=10`) and attach the full output. Cause: converting <bound method LSTMCell.call of <tensorflow.python.ops.rnn_cell_impl.LSTMCell object at 0x7f9137fd63d0>>: AttributeError: module 'gast' has no attribute 'Num'\n",
      "WARNING: Entity <bound method LSTMCell.call of <tensorflow.python.ops.rnn_cell_impl.LSTMCell object at 0x7f9137ff9ad0>> could not be transformed and will be executed as-is. Please report this to the AutgoGraph team. When filing the bug, set the verbosity to 10 (on Linux, `export AUTOGRAPH_VERBOSITY=10`) and attach the full output. Cause: converting <bound method LSTMCell.call of <tensorflow.python.ops.rnn_cell_impl.LSTMCell object at 0x7f9137ff9ad0>>: AttributeError: module 'gast' has no attribute 'Num'\n",
      "WARNING: Entity <bound method LSTMCell.call of <tensorflow.python.ops.rnn_cell_impl.LSTMCell object at 0x7f9137f90fd0>> could not be transformed and will be executed as-is. Please report this to the AutgoGraph team. When filing the bug, set the verbosity to 10 (on Linux, `export AUTOGRAPH_VERBOSITY=10`) and attach the full output. Cause: converting <bound method LSTMCell.call of <tensorflow.python.ops.rnn_cell_impl.LSTMCell object at 0x7f9137f90fd0>>: AttributeError: module 'gast' has no attribute 'Num'\n",
      "WARNING: Entity <bound method LSTMCell.call of <tensorflow.python.ops.rnn_cell_impl.LSTMCell object at 0x7f9137f90d10>> could not be transformed and will be executed as-is. Please report this to the AutgoGraph team. When filing the bug, set the verbosity to 10 (on Linux, `export AUTOGRAPH_VERBOSITY=10`) and attach the full output. Cause: converting <bound method LSTMCell.call of <tensorflow.python.ops.rnn_cell_impl.LSTMCell object at 0x7f9137f90d10>>: AttributeError: module 'gast' has no attribute 'Num'\n",
      "WARNING: Entity <bound method Dense.call of <tensorflow.python.layers.core.Dense object at 0x7f92a56dcd50>> could not be transformed and will be executed as-is. Please report this to the AutgoGraph team. When filing the bug, set the verbosity to 10 (on Linux, `export AUTOGRAPH_VERBOSITY=10`) and attach the full output. Cause: converting <bound method Dense.call of <tensorflow.python.layers.core.Dense object at 0x7f92a56dcd50>>: AssertionError: Bad argument number for Name: 3, expecting 4\n",
      "WARNING: Entity <bound method LSTMCell.call of <tensorflow.python.ops.rnn_cell_impl.LSTMCell object at 0x7f9115f5ef50>> could not be transformed and will be executed as-is. Please report this to the AutgoGraph team. When filing the bug, set the verbosity to 10 (on Linux, `export AUTOGRAPH_VERBOSITY=10`) and attach the full output. Cause: converting <bound method LSTMCell.call of <tensorflow.python.ops.rnn_cell_impl.LSTMCell object at 0x7f9115f5ef50>>: AttributeError: module 'gast' has no attribute 'Num'\n",
      "WARNING: Entity <bound method LSTMCell.call of <tensorflow.python.ops.rnn_cell_impl.LSTMCell object at 0x7f9115f02b90>> could not be transformed and will be executed as-is. Please report this to the AutgoGraph team. When filing the bug, set the verbosity to 10 (on Linux, `export AUTOGRAPH_VERBOSITY=10`) and attach the full output. Cause: converting <bound method LSTMCell.call of <tensorflow.python.ops.rnn_cell_impl.LSTMCell object at 0x7f9115f02b90>>: AttributeError: module 'gast' has no attribute 'Num'\n",
      "WARNING: Entity <bound method LSTMCell.call of <tensorflow.python.ops.rnn_cell_impl.LSTMCell object at 0x7f9115f19c90>> could not be transformed and will be executed as-is. Please report this to the AutgoGraph team. When filing the bug, set the verbosity to 10 (on Linux, `export AUTOGRAPH_VERBOSITY=10`) and attach the full output. Cause: converting <bound method LSTMCell.call of <tensorflow.python.ops.rnn_cell_impl.LSTMCell object at 0x7f9115f19c90>>: AttributeError: module 'gast' has no attribute 'Num'\n",
      "WARNING: Entity <bound method LSTMCell.call of <tensorflow.python.ops.rnn_cell_impl.LSTMCell object at 0x7f9115f19dd0>> could not be transformed and will be executed as-is. Please report this to the AutgoGraph team. When filing the bug, set the verbosity to 10 (on Linux, `export AUTOGRAPH_VERBOSITY=10`) and attach the full output. Cause: converting <bound method LSTMCell.call of <tensorflow.python.ops.rnn_cell_impl.LSTMCell object at 0x7f9115f19dd0>>: AttributeError: module 'gast' has no attribute 'Num'\n",
      "WARNING: Entity <bound method Dense.call of <tensorflow.python.layers.core.Dense object at 0x7f913775e4d0>> could not be transformed and will be executed as-is. Please report this to the AutgoGraph team. When filing the bug, set the verbosity to 10 (on Linux, `export AUTOGRAPH_VERBOSITY=10`) and attach the full output. Cause: converting <bound method Dense.call of <tensorflow.python.layers.core.Dense object at 0x7f913775e4d0>>: AssertionError: Bad argument number for Name: 3, expecting 4\n"
     ]
    }
   ],
   "source": [
    "from ckiptagger import data_utils\n",
    "from ckiptagger import WS, POS, NER\n",
    "ws=WS(\"ckip\")\n",
    "pos=POS(\"ckip\")\n",
    "ner=NER(\"ckip\")"
   ]
  },
  {
   "cell_type": "code",
   "execution_count": 10,
   "metadata": {},
   "outputs": [],
   "source": [
    "def ckip_tokenizer(content):\n",
    "#     if str(content)=='nan':\n",
    "#         return ''\n",
    "    word_s = ws([content])\n",
    "    return word_s"
   ]
  },
  {
   "cell_type": "code",
   "execution_count": null,
   "metadata": {
    "scrolled": true
   },
   "outputs": [],
   "source": [
    "# train['tokenized'] = train.loc[:, 'Content'].apply(ckip_tokenizer)\n",
    "# val['tokenized'] = val.loc[:, 'Content'].apply(ckip_tokenizer)\n",
    "# test['tokenized'] = test.loc[:, 'Content'].apply(ckip_tokenizer)\n",
    "# val['tokenized']\n",
    "total['tokenized'] = total.loc[:, 'Content'].apply(ckip_tokenizer)\n",
    "total['tokenized']"
   ]
  },
  {
   "cell_type": "code",
   "execution_count": 11,
   "metadata": {},
   "outputs": [
    {
     "name": "stderr",
     "output_type": "stream",
     "text": [
      "2020-11-19 15:00:33,458 : INFO : loading Word2VecKeyedVectors object from w2v_ckip.model\n",
      "2020-11-19 15:00:39,065 : INFO : loading wv recursively from w2v_ckip.model.wv.* with mmap=r\n",
      "2020-11-19 15:00:39,067 : INFO : loading vectors from w2v_ckip.model.wv.vectors.npy with mmap=r\n",
      "2020-11-19 15:00:39,074 : INFO : setting ignored attribute vectors_norm to None\n",
      "2020-11-19 15:00:39,074 : INFO : loading vocabulary recursively from w2v_ckip.model.vocabulary.* with mmap=r\n",
      "2020-11-19 15:00:39,075 : INFO : loading trainables recursively from w2v_ckip.model.trainables.* with mmap=r\n",
      "2020-11-19 15:00:39,075 : INFO : loading syn1neg from w2v_ckip.model.trainables.syn1neg.npy with mmap=r\n",
      "2020-11-19 15:00:39,078 : INFO : setting ignored attribute cum_table to None\n",
      "2020-11-19 15:00:39,078 : INFO : loaded w2v_ckip.model\n"
     ]
    }
   ],
   "source": [
    "from gensim.models import KeyedVectors\n",
    "w2v_model = KeyedVectors.load(\"w2v_ckip.model\", mmap='r')"
   ]
  },
  {
   "cell_type": "code",
   "execution_count": 12,
   "metadata": {
    "scrolled": true
   },
   "outputs": [
    {
     "name": "stdout",
     "output_type": "stream",
     "text": [
      "Vocabulary Size: 1096154 - Embedding Dim: 250\n"
     ]
    }
   ],
   "source": [
    "# Retrieve the weights from the model. This is used for initializing the weights\n",
    "# in a Keras Embedding layer later\n",
    "w2v_weights = w2v_model.wv.vectors # If use pytorch add torch.from_numpy()\n",
    "vocab_size, embedding_size = w2v_weights.shape\n",
    "print(\"Vocabulary Size: {} - Embedding Dim: {}\".format(vocab_size, embedding_size))\n",
    "\n",
    "def word2token(word):\n",
    "    try:\n",
    "        return w2v_model.wv.vocab[word].index\n",
    "    # If word is not in index return 0. I realize this means that this\n",
    "    # is the same as the word of index 0 (i.e. most frequent word), but 0s\n",
    "    # will be padded later anyway by the embedding layer (which also\n",
    "    # seems dirty but I couldn't find a better solution right now)\n",
    "    except KeyError:\n",
    "        return 0\n",
    "def token2word(token):\n",
    "    return w2v_model.wv.index2word[token]"
   ]
  },
  {
   "cell_type": "code",
   "execution_count": 14,
   "metadata": {
    "scrolled": true
   },
   "outputs": [
    {
     "name": "stderr",
     "output_type": "stream",
     "text": [
      "/home/ubuntu/anaconda3/envs/lstm/lib/python3.7/site-packages/ipykernel_launcher.py:4: SettingWithCopyWarning: \n",
      "A value is trying to be set on a copy of a slice from a DataFrame\n",
      "\n",
      "See the caveats in the documentation: https://pandas.pydata.org/pandas-docs/stable/user_guide/indexing.html#returning-a-view-versus-a-copy\n",
      "  after removing the cwd from sys.path.\n"
     ]
    },
    {
     "data": {
      "text/html": [
       "<div>\n",
       "<style scoped>\n",
       "    .dataframe tbody tr th:only-of-type {\n",
       "        vertical-align: middle;\n",
       "    }\n",
       "\n",
       "    .dataframe tbody tr th {\n",
       "        vertical-align: top;\n",
       "    }\n",
       "\n",
       "    .dataframe thead th {\n",
       "        text-align: right;\n",
       "    }\n",
       "</style>\n",
       "<table border=\"1\" class=\"dataframe\">\n",
       "  <thead>\n",
       "    <tr style=\"text-align: right;\">\n",
       "      <th></th>\n",
       "      <th>Content</th>\n",
       "      <th>Label</th>\n",
       "      <th>tokenized</th>\n",
       "      <th>word_vec</th>\n",
       "    </tr>\n",
       "  </thead>\n",
       "  <tbody>\n",
       "    <tr>\n",
       "      <th>0</th>\n",
       "      <td>仙草加蜂蜜好好吃！等下再去市場買一塊大仙草~吃吃吃好像把今天的熱量扣打吃完了-----Sen...</td>\n",
       "      <td>0</td>\n",
       "      <td>[[仙草, 加, 蜂蜜, 好好吃, ！, 等下, 再, 去, 市場, 買, 一, 塊, 大,...</td>\n",
       "      <td>[仙草, 加, 蜂蜜, 好好吃, ！, 等下, 再, 去, 市場, 買, 一, 塊, 大, ...</td>\n",
       "    </tr>\n",
       "    <tr>\n",
       "      <th>1</th>\n",
       "      <td>啊啊啊 邁入老女人的里程碑了今天本來想請假的但被同事搶先了然後從禮拜六開始爸爸媽媽就滿滿的情...</td>\n",
       "      <td>0</td>\n",
       "      <td>[[啊, 啊, 啊,  , 邁入, 老, 女人, 的, 里程碑, 了, 今天, 本來, 想,...</td>\n",
       "      <td>[啊, 啊, 啊,  , 邁入, 老, 女人, 的, 里程碑, 了, 今天, 本來, 想, ...</td>\n",
       "    </tr>\n",
       "    <tr>\n",
       "      <th>2</th>\n",
       "      <td>今天同事提出，覺得我有點過度依賴男友了不是第一個人說出這個問題其實早在交往的一開始我自己就察...</td>\n",
       "      <td>0</td>\n",
       "      <td>[[今天, 同事, 提出, ，, 覺得, 我, 有點, 過度, 依賴, 男友, 了, 不, ...</td>\n",
       "      <td>[今天, 同事, 提出, ，, 覺得, 我, 有點, 過度, 依賴, 男友, 了, 不, 是...</td>\n",
       "    </tr>\n",
       "    <tr>\n",
       "      <th>3</th>\n",
       "      <td>開始停速悅的這幾天我還是會吃安立平總覺得現在除了心悸手抖頭很重以外一直還有個在耳邊敲打小軍鼓...</td>\n",
       "      <td>0</td>\n",
       "      <td>[[開始, 停速, 悅, 的, 這, 幾, 天, 我, 還是, 會, 吃, 安立平, 總, ...</td>\n",
       "      <td>[開始, 停速, 悅, 的, 這, 幾, 天, 我, 還是, 會, 吃, 安立平, 總, 覺...</td>\n",
       "    </tr>\n",
       "    <tr>\n",
       "      <th>4</th>\n",
       "      <td>我覺得有些善意的謊言是可以說的就是那些不會被揭穿的但有一些是一定會被揭穿「你狀態不好的時侯可...</td>\n",
       "      <td>0</td>\n",
       "      <td>[[我, 覺得, 有些, 善意, 的, 謊言, 是, 可以, 說, 的, 就, 是, 那些,...</td>\n",
       "      <td>[我, 覺得, 有些, 善意, 的, 謊言, 是, 可以, 說, 的, 就, 是, 那些, ...</td>\n",
       "    </tr>\n",
       "    <tr>\n",
       "      <th>...</th>\n",
       "      <td>...</td>\n",
       "      <td>...</td>\n",
       "      <td>...</td>\n",
       "      <td>...</td>\n",
       "    </tr>\n",
       "    <tr>\n",
       "      <th>1609</th>\n",
       "      <td>其實我心悸、頭暈、呼吸不順、焦慮、失眠這種症狀一段時間了，前陣子看身心科醫生也只是開了一些抗...</td>\n",
       "      <td>1</td>\n",
       "      <td>[[其實, 我, 心悸, 、, 頭暈, 、, 呼吸, 不, 順, 、, 焦慮, 、, 失眠,...</td>\n",
       "      <td>[其實, 我, 心悸, 、, 頭暈, 、, 呼吸, 不, 順, 、, 焦慮, 、, 失眠, ...</td>\n",
       "    </tr>\n",
       "    <tr>\n",
       "      <th>1610</th>\n",
       "      <td>之前有去諮商了，但自殺想法最近又有浮現我開始好奇與納悶活著不快樂為何要活著明明知道自殺父母會...</td>\n",
       "      <td>1</td>\n",
       "      <td>[[之前, 有, 去, 諮商, 了, ，, 但, 自殺, 想法, 最近, 又, 有, 浮現,...</td>\n",
       "      <td>[之前, 有, 去, 諮商, 了, ，, 但, 自殺, 想法, 最近, 又, 有, 浮現, ...</td>\n",
       "    </tr>\n",
       "    <tr>\n",
       "      <th>1611</th>\n",
       "      <td>對 我確定要走了 留下這篇文證明這裡曾經有一個活人</td>\n",
       "      <td>1</td>\n",
       "      <td>[[對,  , 我, 確定, 要, 走, 了,  , 留下, 這, 篇, 文, 證明, 這裡...</td>\n",
       "      <td>[對,  , 我, 確定, 要, 走, 了,  , 留下, 這, 篇, 文, 證明, 這裡,...</td>\n",
       "    </tr>\n",
       "    <tr>\n",
       "      <th>1612</th>\n",
       "      <td>（文筆不好別嗆我????）想問一下有人被家人搞到想死嗎？我今年升高二我媽生我時是單親19就生...</td>\n",
       "      <td>1</td>\n",
       "      <td>[[（, 文筆, 不, 好, 別, 嗆, 我, ?, ?, ?, ?, ）, 想, 問, 一...</td>\n",
       "      <td>[（, 文筆, 不, 好, 別, 嗆, 我, ?, ?, ?, ?, ）, 想, 問, 一下...</td>\n",
       "    </tr>\n",
       "    <tr>\n",
       "      <th>1613</th>\n",
       "      <td>事情要從國中甚至是從我五歲開始講起我五歲那年的某一天因為很想下樓去找爸爸媽媽就緩緩的走下樓 ...</td>\n",
       "      <td>1</td>\n",
       "      <td>[[事情, 要, 從, 國中, 甚至, 是, 從, 我, 五, 歲, 開始, 講起, 我, ...</td>\n",
       "      <td>[事情, 要, 從, 國中, 甚至, 是, 從, 我, 五, 歲, 開始, 講起, 我, 五...</td>\n",
       "    </tr>\n",
       "  </tbody>\n",
       "</table>\n",
       "<p>1614 rows × 4 columns</p>\n",
       "</div>"
      ],
      "text/plain": [
       "                                                Content  Label  \\\n",
       "0     仙草加蜂蜜好好吃！等下再去市場買一塊大仙草~吃吃吃好像把今天的熱量扣打吃完了-----Sen...      0   \n",
       "1     啊啊啊 邁入老女人的里程碑了今天本來想請假的但被同事搶先了然後從禮拜六開始爸爸媽媽就滿滿的情...      0   \n",
       "2     今天同事提出，覺得我有點過度依賴男友了不是第一個人說出這個問題其實早在交往的一開始我自己就察...      0   \n",
       "3     開始停速悅的這幾天我還是會吃安立平總覺得現在除了心悸手抖頭很重以外一直還有個在耳邊敲打小軍鼓...      0   \n",
       "4     我覺得有些善意的謊言是可以說的就是那些不會被揭穿的但有一些是一定會被揭穿「你狀態不好的時侯可...      0   \n",
       "...                                                 ...    ...   \n",
       "1609  其實我心悸、頭暈、呼吸不順、焦慮、失眠這種症狀一段時間了，前陣子看身心科醫生也只是開了一些抗...      1   \n",
       "1610  之前有去諮商了，但自殺想法最近又有浮現我開始好奇與納悶活著不快樂為何要活著明明知道自殺父母會...      1   \n",
       "1611                          對 我確定要走了 留下這篇文證明這裡曾經有一個活人      1   \n",
       "1612  （文筆不好別嗆我????）想問一下有人被家人搞到想死嗎？我今年升高二我媽生我時是單親19就生...      1   \n",
       "1613  事情要從國中甚至是從我五歲開始講起我五歲那年的某一天因為很想下樓去找爸爸媽媽就緩緩的走下樓 ...      1   \n",
       "\n",
       "                                              tokenized  \\\n",
       "0     [[仙草, 加, 蜂蜜, 好好吃, ！, 等下, 再, 去, 市場, 買, 一, 塊, 大,...   \n",
       "1     [[啊, 啊, 啊,  , 邁入, 老, 女人, 的, 里程碑, 了, 今天, 本來, 想,...   \n",
       "2     [[今天, 同事, 提出, ，, 覺得, 我, 有點, 過度, 依賴, 男友, 了, 不, ...   \n",
       "3     [[開始, 停速, 悅, 的, 這, 幾, 天, 我, 還是, 會, 吃, 安立平, 總, ...   \n",
       "4     [[我, 覺得, 有些, 善意, 的, 謊言, 是, 可以, 說, 的, 就, 是, 那些,...   \n",
       "...                                                 ...   \n",
       "1609  [[其實, 我, 心悸, 、, 頭暈, 、, 呼吸, 不, 順, 、, 焦慮, 、, 失眠,...   \n",
       "1610  [[之前, 有, 去, 諮商, 了, ，, 但, 自殺, 想法, 最近, 又, 有, 浮現,...   \n",
       "1611  [[對,  , 我, 確定, 要, 走, 了,  , 留下, 這, 篇, 文, 證明, 這裡...   \n",
       "1612  [[（, 文筆, 不, 好, 別, 嗆, 我, ?, ?, ?, ?, ）, 想, 問, 一...   \n",
       "1613  [[事情, 要, 從, 國中, 甚至, 是, 從, 我, 五, 歲, 開始, 講起, 我, ...   \n",
       "\n",
       "                                               word_vec  \n",
       "0     [仙草, 加, 蜂蜜, 好好吃, ！, 等下, 再, 去, 市場, 買, 一, 塊, 大, ...  \n",
       "1     [啊, 啊, 啊,  , 邁入, 老, 女人, 的, 里程碑, 了, 今天, 本來, 想, ...  \n",
       "2     [今天, 同事, 提出, ，, 覺得, 我, 有點, 過度, 依賴, 男友, 了, 不, 是...  \n",
       "3     [開始, 停速, 悅, 的, 這, 幾, 天, 我, 還是, 會, 吃, 安立平, 總, 覺...  \n",
       "4     [我, 覺得, 有些, 善意, 的, 謊言, 是, 可以, 說, 的, 就, 是, 那些, ...  \n",
       "...                                                 ...  \n",
       "1609  [其實, 我, 心悸, 、, 頭暈, 、, 呼吸, 不, 順, 、, 焦慮, 、, 失眠, ...  \n",
       "1610  [之前, 有, 去, 諮商, 了, ，, 但, 自殺, 想法, 最近, 又, 有, 浮現, ...  \n",
       "1611  [對,  , 我, 確定, 要, 走, 了,  , 留下, 這, 篇, 文, 證明, 這裡,...  \n",
       "1612  [（, 文筆, 不, 好, 別, 嗆, 我, ?, ?, ?, ?, ）, 想, 問, 一下...  \n",
       "1613  [事情, 要, 從, 國中, 甚至, 是, 從, 我, 五, 歲, 開始, 講起, 我, 五...  \n",
       "\n",
       "[1614 rows x 4 columns]"
      ]
     },
     "execution_count": 14,
     "metadata": {},
     "output_type": "execute_result"
    }
   ],
   "source": [
    "import copy\n",
    "total['word_vec'] = copy.deepcopy(total['tokenized'])\n",
    "for i in range(len(total)):\n",
    "    total['word_vec'][i] = total['tokenized'][i][0]\n",
    "total"
   ]
  },
  {
   "cell_type": "code",
   "execution_count": 15,
   "metadata": {
    "scrolled": true
   },
   "outputs": [],
   "source": [
    "for i in range(len(total)):\n",
    "    for j in range(len(total['word_vec'][i])):\n",
    "        total['word_vec'][i][j] = word2token(total['word_vec'][i][j])"
   ]
  },
  {
   "cell_type": "markdown",
   "metadata": {},
   "source": [
    "## Split Data"
   ]
  },
  {
   "cell_type": "code",
   "execution_count": 16,
   "metadata": {},
   "outputs": [
    {
     "data": {
      "text/html": [
       "<div>\n",
       "<style scoped>\n",
       "    .dataframe tbody tr th:only-of-type {\n",
       "        vertical-align: middle;\n",
       "    }\n",
       "\n",
       "    .dataframe tbody tr th {\n",
       "        vertical-align: top;\n",
       "    }\n",
       "\n",
       "    .dataframe thead th {\n",
       "        text-align: right;\n",
       "    }\n",
       "</style>\n",
       "<table border=\"1\" class=\"dataframe\">\n",
       "  <thead>\n",
       "    <tr style=\"text-align: right;\">\n",
       "      <th></th>\n",
       "      <th>Content</th>\n",
       "      <th>Label</th>\n",
       "      <th>tokenized</th>\n",
       "      <th>word_vec</th>\n",
       "    </tr>\n",
       "  </thead>\n",
       "  <tbody>\n",
       "    <tr>\n",
       "      <th>11</th>\n",
       "      <td>不知道為什麼最近一直很想上吊可能是找不到工作可能是人際讓我不行可能是學業上的困難不知道欸感覺...</td>\n",
       "      <td>1</td>\n",
       "      <td>[[37902, 899, 5448, 2503, 468, 928334, 411, 30...</td>\n",
       "      <td>[37902, 899, 5448, 2503, 468, 928334, 411, 301...</td>\n",
       "    </tr>\n",
       "    <tr>\n",
       "      <th>17</th>\n",
       "      <td>我四月~八月都處於超憂鬱的狀態一直有想死的念頭但八月開始，我一直處於很興奮的狀態，也不較不會...</td>\n",
       "      <td>1</td>\n",
       "      <td>[[13585, 2205, 0, 2344, 9562, 2113, 1877, 1036...</td>\n",
       "      <td>[13585, 2205, 0, 2344, 9562, 2113, 1877, 10365...</td>\n",
       "    </tr>\n",
       "    <tr>\n",
       "      <th>25</th>\n",
       "      <td>十年了已經不知道吃了多少要跟換過多少醫生朋友都從身邊離去被趕出家庭什麼都沒了每天吃的藥多到不...</td>\n",
       "      <td>1</td>\n",
       "      <td>[[265, 0, 500766, 277, 37902, 899, 1353, 50076...</td>\n",
       "      <td>[265, 0, 500766, 277, 37902, 899, 1353, 500766...</td>\n",
       "    </tr>\n",
       "    <tr>\n",
       "      <th>38</th>\n",
       "      <td>前幾天有試過離開但可能方法不對吧感覺還是會有痛苦存在突然有點羨幕那種在睡夢中昏迷且死亡的--...</td>\n",
       "      <td>1</td>\n",
       "      <td>[[21, 82683, 127, 6824, 4853, 149, 539, 8270, ...</td>\n",
       "      <td>[21, 82683, 127, 6824, 4853, 149, 539, 8270, 2...</td>\n",
       "    </tr>\n",
       "    <tr>\n",
       "      <th>55</th>\n",
       "      <td>活著好累，著手計畫一切，五個月，把所有痛苦不甘一次解決現在的人到底還有誰有著夢想，其實我們出...</td>\n",
       "      <td>1</td>\n",
       "      <td>[[3363, 16900, 36487, 19329, 0, 8302, 834, 130...</td>\n",
       "      <td>[3363, 16900, 36487, 19329, 0, 8302, 834, 1300...</td>\n",
       "    </tr>\n",
       "    <tr>\n",
       "      <th>...</th>\n",
       "      <td>...</td>\n",
       "      <td>...</td>\n",
       "      <td>...</td>\n",
       "      <td>...</td>\n",
       "    </tr>\n",
       "    <tr>\n",
       "      <th>1609</th>\n",
       "      <td>其實我心悸、頭暈、呼吸不順、焦慮、失眠這種症狀一段時間了，前陣子看身心科醫生也只是開了一些抗...</td>\n",
       "      <td>1</td>\n",
       "      <td>[[1653, 13585, 87098, 0, 40719, 0, 4717, 37902...</td>\n",
       "      <td>[1653, 13585, 87098, 0, 40719, 0, 4717, 37902,...</td>\n",
       "    </tr>\n",
       "    <tr>\n",
       "      <th>1610</th>\n",
       "      <td>之前有去諮商了，但自殺想法最近又有浮現我開始好奇與納悶活著不快樂為何要活著明明知道自殺父母會...</td>\n",
       "      <td>1</td>\n",
       "      <td>[[481, 6824, 582946, 31453, 500766, 0, 8270, 1...</td>\n",
       "      <td>[481, 6824, 582946, 31453, 500766, 0, 8270, 19...</td>\n",
       "    </tr>\n",
       "    <tr>\n",
       "      <th>1611</th>\n",
       "      <td>對 我確定要走了 留下這篇文證明這裡曾經有一個活人</td>\n",
       "      <td>1</td>\n",
       "      <td>[[13, 0, 13585, 1515, 117, 1664, 500766, 0, 21...</td>\n",
       "      <td>[13, 0, 13585, 1515, 117, 1664, 500766, 0, 214...</td>\n",
       "    </tr>\n",
       "    <tr>\n",
       "      <th>1612</th>\n",
       "      <td>（文筆不好別嗆我????）想問一下有人被家人搞到想死嗎？我今年升高二我媽生我時是單親19就生...</td>\n",
       "      <td>1</td>\n",
       "      <td>[[0, 37545, 37902, 36487, 6766, 35116, 13585, ...</td>\n",
       "      <td>[0, 37545, 37902, 36487, 6766, 35116, 13585, 0...</td>\n",
       "    </tr>\n",
       "    <tr>\n",
       "      <th>1613</th>\n",
       "      <td>事情要從國中甚至是從我五歲開始講起我五歲那年的某一天因為很想下樓去找爸爸媽媽就緩緩的走下樓 ...</td>\n",
       "      <td>1</td>\n",
       "      <td>[[2181, 117, 274147, 2104, 551, 268046, 274147...</td>\n",
       "      <td>[2181, 117, 274147, 2104, 551, 268046, 274147,...</td>\n",
       "    </tr>\n",
       "  </tbody>\n",
       "</table>\n",
       "<p>140 rows × 4 columns</p>\n",
       "</div>"
      ],
      "text/plain": [
       "                                                Content  Label  \\\n",
       "11    不知道為什麼最近一直很想上吊可能是找不到工作可能是人際讓我不行可能是學業上的困難不知道欸感覺...      1   \n",
       "17    我四月~八月都處於超憂鬱的狀態一直有想死的念頭但八月開始，我一直處於很興奮的狀態，也不較不會...      1   \n",
       "25    十年了已經不知道吃了多少要跟換過多少醫生朋友都從身邊離去被趕出家庭什麼都沒了每天吃的藥多到不...      1   \n",
       "38    前幾天有試過離開但可能方法不對吧感覺還是會有痛苦存在突然有點羨幕那種在睡夢中昏迷且死亡的--...      1   \n",
       "55    活著好累，著手計畫一切，五個月，把所有痛苦不甘一次解決現在的人到底還有誰有著夢想，其實我們出...      1   \n",
       "...                                                 ...    ...   \n",
       "1609  其實我心悸、頭暈、呼吸不順、焦慮、失眠這種症狀一段時間了，前陣子看身心科醫生也只是開了一些抗...      1   \n",
       "1610  之前有去諮商了，但自殺想法最近又有浮現我開始好奇與納悶活著不快樂為何要活著明明知道自殺父母會...      1   \n",
       "1611                          對 我確定要走了 留下這篇文證明這裡曾經有一個活人      1   \n",
       "1612  （文筆不好別嗆我????）想問一下有人被家人搞到想死嗎？我今年升高二我媽生我時是單親19就生...      1   \n",
       "1613  事情要從國中甚至是從我五歲開始講起我五歲那年的某一天因為很想下樓去找爸爸媽媽就緩緩的走下樓 ...      1   \n",
       "\n",
       "                                              tokenized  \\\n",
       "11    [[37902, 899, 5448, 2503, 468, 928334, 411, 30...   \n",
       "17    [[13585, 2205, 0, 2344, 9562, 2113, 1877, 1036...   \n",
       "25    [[265, 0, 500766, 277, 37902, 899, 1353, 50076...   \n",
       "38    [[21, 82683, 127, 6824, 4853, 149, 539, 8270, ...   \n",
       "55    [[3363, 16900, 36487, 19329, 0, 8302, 834, 130...   \n",
       "...                                                 ...   \n",
       "1609  [[1653, 13585, 87098, 0, 40719, 0, 4717, 37902...   \n",
       "1610  [[481, 6824, 582946, 31453, 500766, 0, 8270, 1...   \n",
       "1611  [[13, 0, 13585, 1515, 117, 1664, 500766, 0, 21...   \n",
       "1612  [[0, 37545, 37902, 36487, 6766, 35116, 13585, ...   \n",
       "1613  [[2181, 117, 274147, 2104, 551, 268046, 274147...   \n",
       "\n",
       "                                               word_vec  \n",
       "11    [37902, 899, 5448, 2503, 468, 928334, 411, 301...  \n",
       "17    [13585, 2205, 0, 2344, 9562, 2113, 1877, 10365...  \n",
       "25    [265, 0, 500766, 277, 37902, 899, 1353, 500766...  \n",
       "38    [21, 82683, 127, 6824, 4853, 149, 539, 8270, 2...  \n",
       "55    [3363, 16900, 36487, 19329, 0, 8302, 834, 1300...  \n",
       "...                                                 ...  \n",
       "1609  [1653, 13585, 87098, 0, 40719, 0, 4717, 37902,...  \n",
       "1610  [481, 6824, 582946, 31453, 500766, 0, 8270, 19...  \n",
       "1611  [13, 0, 13585, 1515, 117, 1664, 500766, 0, 214...  \n",
       "1612  [0, 37545, 37902, 36487, 6766, 35116, 13585, 0...  \n",
       "1613  [2181, 117, 274147, 2104, 551, 268046, 274147,...  \n",
       "\n",
       "[140 rows x 4 columns]"
      ]
     },
     "execution_count": 16,
     "metadata": {},
     "output_type": "execute_result"
    }
   ],
   "source": [
    "total_0 = total[total[\"Label\"] == 0]\n",
    "total_1 = total[total[\"Label\"] == 1]\n",
    "total_1"
   ]
  },
  {
   "cell_type": "code",
   "execution_count": 17,
   "metadata": {},
   "outputs": [],
   "source": [
    "# Label_1\n",
    "num_1 = total_1.shape[0]\n",
    "random_1 = random.sample(range(num_1), num_1)\n",
    "train_1 = total_1.iloc[random_1[:126]]\n",
    "test_1 = total_1.iloc[random_1[126:138]]\n",
    "# Label_0\n",
    "num_0 = total_0.shape[0]\n",
    "random_0 = random.sample(range(num_0), num_0)\n",
    "train_0 = total_0.iloc[random_0[:270]]\n",
    "test_0 = total_0.iloc[random_0[270:300]]\n",
    "# train_val_1\n",
    "train_val_1 = train_1.shape[0]\n",
    "random_train_val = random.sample(range(train_val_1), train_val_1)\n",
    "train__1 = train_1.iloc[random_train_val[:88]]\n",
    "val_1 = train_1.iloc[random_train_val[88:126]]\n",
    "# train_val_0\n",
    "train_val_0 = train_0.shape[0]\n",
    "random_train_val = random.sample(range(train_val_0), train_val_0)\n",
    "train__0 = train_0.iloc[random_train_val[:189]]\n",
    "val_0 = train_0.iloc[random_train_val[189:270]]\n",
    "# train_val\n",
    "train = pd.concat([train__1, train__0])\n",
    "train = train.reset_index(drop=True)\n",
    "val = pd.concat([val_1, val_0])\n",
    "val = val.reset_index(drop=True)\n",
    "# test\n",
    "test = pd.concat([test_1, test_0])\n",
    "test = test.reset_index(drop=True)"
   ]
  },
  {
   "cell_type": "markdown",
   "metadata": {},
   "source": [
    "# LSTM"
   ]
  },
  {
   "cell_type": "markdown",
   "metadata": {},
   "source": [
    "## Pytorch"
   ]
  },
  {
   "cell_type": "code",
   "execution_count": null,
   "metadata": {},
   "outputs": [],
   "source": [
    "# def pad_samples(features, maxlen=250, PAD=0): #截長補短 讓長度一致，這裡固定文章長度為maxlen=250\n",
    "#     padded_features = []\n",
    "#     for feature in features:\n",
    "#         if len(feature) >= maxlen:\n",
    "#             padded_feature = feature[:maxlen]\n",
    "#         else:\n",
    "#             padded_feature = feature\n",
    "#             while(len(padded_feature) < maxlen):\n",
    "#                 padded_feature.append(PAD)\n",
    "#         padded_features.append(padded_feature)\n",
    "#     return padded_features"
   ]
  },
  {
   "cell_type": "code",
   "execution_count": null,
   "metadata": {},
   "outputs": [],
   "source": [
    "# train_features = torch.tensor(pad_samples(train['word_vec']))\n",
    "# vali_features = torch.tensor(pad_samples(vali['word_vec']))\n",
    "# vali_features"
   ]
  },
  {
   "cell_type": "code",
   "execution_count": null,
   "metadata": {},
   "outputs": [],
   "source": [
    "# # label_vec_to_torch.tensor\n",
    "# train_labels = torch.tensor(train['Label'])\n",
    "# vali_labels = torch.tensor(vali['Label'])\n",
    "# vali_labels"
   ]
  },
  {
   "cell_type": "code",
   "execution_count": null,
   "metadata": {},
   "outputs": [],
   "source": [
    "# ### create pytorch dataloader ###\n",
    "# batch_size = 64\n",
    "# train_set = torch.utils.data.TensorDataset(train_features, train_labels)\n",
    "# train_iter = torch.utils.data.DataLoader(train_set, batch_size=batch_size,shuffle=True)\n",
    "\n",
    "# vali_set = torch.utils.data.TensorDataset(vali_features, vali_labels)\n",
    "# vali_iter = torch.utils.data.DataLoader(vali_set, batch_size=batch_size,shuffle=True)"
   ]
  },
  {
   "cell_type": "code",
   "execution_count": null,
   "metadata": {},
   "outputs": [],
   "source": [
    "# ### build model ###\n",
    "# class RNN(nn.Module):\n",
    "#     def __init__(self, vocab_size, embed_size, num_hiddens, num_layers,\n",
    "#                  bidirectional, weight, labels, **kwargs):\n",
    "#         super(RNN, self).__init__(**kwargs)\n",
    "#         self.num_hiddens = num_hiddens\n",
    "#         self.num_layers = num_layers\n",
    "#         self.bidirectional = bidirectional\n",
    "#         self.embedding = nn.Embedding.from_pretrained(weight)\n",
    "#         self.embedding.weight.requires_grad = False\n",
    "#         self.encoder = nn.LSTM(input_size=embed_size, hidden_size=self.num_hiddens,\n",
    "#                                num_layers=num_layers, bidirectional=self.bidirectional,\n",
    "#                                dropout=0.3)\n",
    "\n",
    "#         if self.bidirectional:\n",
    "#             self.linear1 = nn.Linear(num_hiddens * 4, labels)\n",
    "#         else:\n",
    "#             self.linear1 = nn.Linear(num_hiddens * 2, labels)\n",
    "\n",
    "\n",
    "\n",
    "#     def forward(self, inputs):\n",
    "#         embeddings = self.embedding(inputs)\n",
    "#         states, hidden = self.encoder(embeddings.permute([1, 0, 2]))\n",
    "#         encoding = torch.cat([states[0], states[-1]], dim=1) #if it's bidirectional, choose first and last output\n",
    "#         outputs = self.linear1(encoding)\n",
    "\n",
    "#         return outputs\n",
    "\n",
    "# num_epochs = 10\n",
    "# num_hiddens = 100\n",
    "# num_layers = 2\n",
    "# bidirectional = True\n",
    "# labels = 2\n",
    "# device = torch.device(\"cuda:1\" if torch.cuda.is_available() else \"cpu\")\n",
    "# net = RNN(vocab_size=(vocab_size+1), embed_size=embedding_size,\n",
    "#                    num_hiddens=num_hiddens, num_layers=num_layers,\n",
    "#                    bidirectional=bidirectional, weight=w2v_weights,\n",
    "#                    labels=labels)\n",
    "\n",
    "# print(net)"
   ]
  },
  {
   "cell_type": "code",
   "execution_count": null,
   "metadata": {},
   "outputs": [],
   "source": [
    "# net.to(device)\n",
    "# loss_function = nn.CrossEntropyLoss() # ~ nn.LogSoftmax()+nn.NLLLoss()\n",
    "# optimizer = optim.Adam(net.parameters())\n",
    "\n",
    "# def train(net,num_epochs,loss_function,optimizer,train_iter,val_iter):\n",
    "#     for epoch in range(num_epochs):\n",
    "#         start = time.time()\n",
    "#         train_loss, val_losses = 0, 0\n",
    "#         train_acc, val_acc = 0, 0\n",
    "#         n, m = 0, 0\n",
    "#         net.train()\n",
    "#         for feature, label in train_iter:\n",
    "#             n += 1\n",
    "#             optimizer.zero_grad()\n",
    "#             feature = Variable(feature.to(device))\n",
    "#             label = Variable(label.to(device))\n",
    "\n",
    "#             score = net(feature)\n",
    "#             loss = loss_function(score, label)\n",
    "#             loss.backward()\n",
    "#             optimizer.step()\n",
    "#             train_acc += accuracy_score(torch.argmax(score.cpu().data,dim=1), label.cpu())\n",
    "#             train_loss += loss\n",
    "\n",
    "#         with torch.no_grad():\n",
    "#             net.eval()\n",
    "#             for val_feature, val_label in val_iter:\n",
    "#                 m += 1\n",
    "#                 val_feature = val_feature.to(device)\n",
    "#                 val_label = val_label.to(device)\n",
    "#                 val_score = net(val_feature)\n",
    "#                 val_loss = loss_function(val_score, val_label)\n",
    "#                 val_acc += accuracy_score(torch.argmax(val_score.cpu().data,dim=1), val_label.cpu())\n",
    "#                 val_losses += val_loss\n",
    "\n",
    "#         runtime = time.time() - start\n",
    "#         print('epoch: %d, train loss: %.4f, train acc: %.2f, val loss: %.4f, val acc: %.2f, time: %.2f' %\n",
    "#               (epoch, train_loss.data/n, train_acc/n, val_losses.data/m, val_acc/m, runtime))\n",
    "\n",
    "#     #save final model\n",
    "#     state = {\n",
    "#             'epoch': epoch,\n",
    "#             'state_dict': net.state_dict(),\n",
    "#             'optimizer': optimizer.state_dict()\n",
    "#             }\n",
    "#     torch.save(state, os.path.join(model_save_path,'last_model.pt'))\n",
    "\n",
    "\n",
    "# def predict(net,test_iter):\n",
    "#     #state = torch.load(os.path.join(cwd,'checkpoint','epoch10_maxlen300_embed200.pt'),map_location=torch.device('cpu'))\n",
    "#     #net.load_state_dict(state['state_dict'])\n",
    "#     pred_list = []\n",
    "#     true_list = []\n",
    "#     softmax = nn.Softmax(dim=1)\n",
    "#     with torch.no_grad():\n",
    "#         net.eval()\n",
    "#         for batch,label in test_iter:\n",
    "#             output = net(batch.to(device))\n",
    "#             pred_list.extend(torch.argmax(softmax(output),dim=1).cpu().numpy())\n",
    "#             true_list.extend(label.cpu().numpy())\n",
    "\n",
    "#     acc = accuracy_score(pred_list, true_list)\n",
    "#     print('test acc: %f'%acc)\n",
    "\n",
    "#     return acc,pred_list,true_list\n",
    "\n",
    "\n",
    "# print('start to train...')\n",
    "# train(net,num_epochs,loss_function,optimizer,train_iter,vali_iter)\n",
    "\n",
    "# print('start to predict test set...')\n",
    "# acc,pred_list,true_list = predict(net,test_iter)\n",
    "\n",
    "# print('Done')"
   ]
  },
  {
   "cell_type": "markdown",
   "metadata": {},
   "source": [
    "# Keras"
   ]
  },
  {
   "cell_type": "code",
   "execution_count": 18,
   "metadata": {
    "scrolled": true
   },
   "outputs": [
    {
     "data": {
      "text/plain": [
       "0      [100723, 25604, 1664, 148218, 10062, 268046, 6...\n",
       "1      [15619, 16900, 25604, 26020, 300583, 7065, 99,...\n",
       "2      [724467, 13585, 468, 0, 2192, 67, 117, 164091,...\n",
       "3      [32964, 393624, 366, 222005, 7252, 10, 0, 39, ...\n",
       "4      [1247, 331, 1398, 852301, 0, 852301, 199, 1647...\n",
       "                             ...                        \n",
       "114    [0, 3523, 37902, 268046, 152, 138439, 152, 138...\n",
       "115    [2967, 928334, 246, 0, 252085, 0, 0, 606803, 4...\n",
       "116    [10260, 34619, 7780, 26774, 1042, 0, 138, 1358...\n",
       "117    [466, 60584, 852301, 351, 0, 468, 9562, 23818,...\n",
       "118    [733, 136, 25604, 268046, 12179, 468, 10459, 0...\n",
       "Name: word_vec, Length: 119, dtype: object"
      ]
     },
     "execution_count": 18,
     "metadata": {},
     "output_type": "execute_result"
    }
   ],
   "source": [
    "x_train = train['word_vec']\n",
    "x_val = val['word_vec']\n",
    "x_test = test['word_vec']\n",
    "x_val"
   ]
  },
  {
   "cell_type": "code",
   "execution_count": 19,
   "metadata": {},
   "outputs": [
    {
     "data": {
      "text/plain": [
       "array([1, 1, 1, 1, 1, 1, 1, 1, 1, 1, 1, 1, 1, 1, 1, 1, 1, 1, 1, 1, 1, 1,\n",
       "       1, 1, 1, 1, 1, 1, 1, 1, 1, 1, 1, 1, 1, 1, 1, 1, 0, 0, 0, 0, 0, 0,\n",
       "       0, 0, 0, 0, 0, 0, 0, 0, 0, 0, 0, 0, 0, 0, 0, 0, 0, 0, 0, 0, 0, 0,\n",
       "       0, 0, 0, 0, 0, 0, 0, 0, 0, 0, 0, 0, 0, 0, 0, 0, 0, 0, 0, 0, 0, 0,\n",
       "       0, 0, 0, 0, 0, 0, 0, 0, 0, 0, 0, 0, 0, 0, 0, 0, 0, 0, 0, 0, 0, 0,\n",
       "       0, 0, 0, 0, 0, 0, 0, 0, 0])"
      ]
     },
     "execution_count": 19,
     "metadata": {},
     "output_type": "execute_result"
    }
   ],
   "source": [
    "# label_vec\n",
    "y_train = np.asarray(train['Label'])\n",
    "y_val = np.asarray(val['Label'])\n",
    "y_test = np.asarray(test['Label'])\n",
    "y_val"
   ]
  },
  {
   "cell_type": "code",
   "execution_count": 20,
   "metadata": {
    "scrolled": true
   },
   "outputs": [
    {
     "name": "stderr",
     "output_type": "stream",
     "text": [
      "Using TensorFlow backend.\n"
     ]
    }
   ],
   "source": [
    "# 建立 LSTM 架構\n",
    "from keras import Input, losses, metrics\n",
    "from keras.layers import Embedding, LSTM, concatenate, Dense, Bidirectional\n",
    "from keras.models import Model, load_model\n",
    "from keras.models import Sequential\n",
    "from keras.preprocessing.sequence import pad_sequences\n",
    "import matplotlib.pyplot as plt"
   ]
  },
  {
   "cell_type": "code",
   "execution_count": 21,
   "metadata": {},
   "outputs": [],
   "source": [
    "# Sequences will be padded or truncated to this length\n",
    "MAX_SEQUENCE_LENGTH = 250\n",
    "\n",
    "input = Input(\n",
    "    shape=(MAX_SEQUENCE_LENGTH, ), \n",
    "    dtype='int32')"
   ]
  },
  {
   "cell_type": "code",
   "execution_count": 22,
   "metadata": {},
   "outputs": [
    {
     "data": {
      "text/plain": [
       "250"
      ]
     },
     "execution_count": 22,
     "metadata": {},
     "output_type": "execute_result"
    }
   ],
   "source": [
    "x_train = pad_sequences(x_train, maxlen=MAX_SEQUENCE_LENGTH, padding='post', value=0)\n",
    "x_val = pad_sequences(x_val, maxlen=MAX_SEQUENCE_LENGTH, padding='post', value=0)\n",
    "x_test = pad_sequences(x_test, maxlen=MAX_SEQUENCE_LENGTH, padding='post', value=0)\n",
    "len(x_val[0])"
   ]
  },
  {
   "cell_type": "code",
   "execution_count": 25,
   "metadata": {},
   "outputs": [],
   "source": [
    "# del model"
   ]
  },
  {
   "cell_type": "code",
   "execution_count": 24,
   "metadata": {},
   "outputs": [
    {
     "name": "stdout",
     "output_type": "stream",
     "text": [
      "Train on 277 samples, validate on 119 samples\n",
      "Epoch 1/5\n",
      "277/277 [==============================] - 14s 50ms/step - loss: 0.6570 - binary_accuracy: 0.5848 - val_loss: 0.6513 - val_binary_accuracy: 0.6807\n",
      "Epoch 2/5\n",
      "277/277 [==============================] - 6s 21ms/step - loss: 0.6370 - binary_accuracy: 0.6823 - val_loss: 0.6145 - val_binary_accuracy: 0.6807\n",
      "Epoch 3/5\n",
      "277/277 [==============================] - 6s 23ms/step - loss: 0.5909 - binary_accuracy: 0.6895 - val_loss: 0.6232 - val_binary_accuracy: 0.6807\n",
      "Epoch 4/5\n",
      "277/277 [==============================] - 11s 41ms/step - loss: 0.5848 - binary_accuracy: 0.7040 - val_loss: 0.5978 - val_binary_accuracy: 0.6807\n",
      "Epoch 5/5\n",
      "277/277 [==============================] - 9s 32ms/step - loss: 0.5517 - binary_accuracy: 0.6823 - val_loss: 0.5964 - val_binary_accuracy: 0.6807\n"
     ]
    }
   ],
   "source": [
    "# Keras Embedding layer with Word2Vec weights initialization\n",
    "model = Sequential()\n",
    "model.add(Embedding(input_dim=vocab_size,\n",
    "                    output_dim=embedding_size,\n",
    "                    weights=[w2v_weights],\n",
    "                    input_length=MAX_SEQUENCE_LENGTH,\n",
    "                    mask_zero=True,\n",
    "                    trainable=False))\n",
    "\n",
    "model.add(Bidirectional(LSTM(125)))\n",
    "model.add(Dense(16, activation='relu'))\n",
    "model.add(Dense(units=1, activation='sigmoid'))\n",
    "\n",
    "model.compile(optimizer='adam', loss=losses.binary_crossentropy, metrics=[metrics.binary_accuracy])\n",
    "\n",
    "history = model.fit(x_train, y_train, epochs=5, batch_size=114,\n",
    "                    validation_data=(x_val, y_val), verbose=1)"
   ]
  },
  {
   "cell_type": "code",
   "execution_count": 38,
   "metadata": {},
   "outputs": [],
   "source": [
    "#model.save('lstm_635.h5')"
   ]
  },
  {
   "cell_type": "code",
   "execution_count": 4,
   "metadata": {},
   "outputs": [
    {
     "name": "stdout",
     "output_type": "stream",
     "text": [
      "WARNING:tensorflow:From /home/ubuntu-gpu/anaconda3/envs/trainEnv/lib/python3.7/site-packages/tensorflow/python/keras/backend.py:3794: add_dispatch_support.<locals>.wrapper (from tensorflow.python.ops.array_ops) is deprecated and will be removed in a future version.\n",
      "Instructions for updating:\n",
      "Use tf.where in 2.0, which has the same broadcast rule as np.where\n",
      "WARNING:tensorflow:From /home/ubuntu-gpu/anaconda3/envs/trainEnv/lib/python3.7/site-packages/keras/backend/tensorflow_backend.py:422: The name tf.global_variables is deprecated. Please use tf.compat.v1.global_variables instead.\n",
      "\n",
      "Model: \"sequential_4\"\n",
      "_________________________________________________________________\n",
      "Layer (type)                 Output Shape              Param #   \n",
      "=================================================================\n",
      "embedding_4 (Embedding)      (None, 250, 250)          220989500 \n",
      "_________________________________________________________________\n",
      "bidirectional_4 (Bidirection (None, 250)               376000    \n",
      "_________________________________________________________________\n",
      "dense_3 (Dense)              (None, 16)                4016      \n",
      "_________________________________________________________________\n",
      "dense_4 (Dense)              (None, 1)                 17        \n",
      "=================================================================\n",
      "Total params: 221,369,533\n",
      "Trainable params: 380,033\n",
      "Non-trainable params: 220,989,500\n",
      "_________________________________________________________________\n"
     ]
    }
   ],
   "source": [
    "model = load_model('lstm_635.h5')\n",
    "model.summary()"
   ]
  },
  {
   "cell_type": "code",
   "execution_count": 26,
   "metadata": {},
   "outputs": [
    {
     "data": {
      "image/png": "[encoded data removed]",
      "text/plain": [
       "<Figure size 720x720 with 1 Axes>"
      ]
     },
     "metadata": {
      "needs_background": "light"
     },
     "output_type": "display_data"
    },
    {
     "data": {
      "image/png": "[encoded data removed]",
      "text/plain": [
       "<Figure size 864x864 with 1 Axes>"
      ]
     },
     "metadata": {
      "needs_background": "light"
     },
     "output_type": "display_data"
    }
   ],
   "source": [
    "# Plotting Loss and Accuracy Graphs\n",
    "plt.figure(figsize=(10, 10))\n",
    "plt.plot(history.history['loss'])\n",
    "plt.plot(history.history['val_loss'])\n",
    "plt.title('Loss')\n",
    "plt.legend(['train', 'val'], loc='upper left')\n",
    "plt.show()\n",
    "\n",
    "plt.figure(figsize=(12, 12))\n",
    "plt.plot(history.history['binary_accuracy'])\n",
    "plt.plot(history.history['val_binary_accuracy'])\n",
    "plt.title('Accuracy')\n",
    "plt.legend(['train', 'val'], loc='upper left')\n",
    "plt.show()"
   ]
  },
  {
   "cell_type": "code",
   "execution_count": 27,
   "metadata": {},
   "outputs": [],
   "source": [
    "from sklearn.metrics import classification_report\n",
    "import itertools\n",
    "from sklearn.metrics import confusion_matrix"
   ]
  },
  {
   "cell_type": "code",
   "execution_count": 28,
   "metadata": {
    "scrolled": true
   },
   "outputs": [
    {
     "data": {
      "text/plain": [
       "array([[0.27445966],\n",
       "       [0.28880373],\n",
       "       [0.2026197 ],\n",
       "       [0.32348776],\n",
       "       [0.2248936 ],\n",
       "       [0.28682154],\n",
       "       [0.3176888 ],\n",
       "       [0.21011254],\n",
       "       [0.2768715 ],\n",
       "       [0.23872933],\n",
       "       [0.2783303 ],\n",
       "       [0.33479643],\n",
       "       [0.21325111],\n",
       "       [0.28406203],\n",
       "       [0.220655  ],\n",
       "       [0.24707898],\n",
       "       [0.22633949],\n",
       "       [0.22762051],\n",
       "       [0.27460027],\n",
       "       [0.22437438],\n",
       "       [0.20117661],\n",
       "       [0.2406848 ],\n",
       "       [0.30037975],\n",
       "       [0.2136477 ],\n",
       "       [0.28976527],\n",
       "       [0.21002099],\n",
       "       [0.21685067],\n",
       "       [0.24719763],\n",
       "       [0.2685074 ],\n",
       "       [0.33026546],\n",
       "       [0.29966056],\n",
       "       [0.23515332],\n",
       "       [0.174918  ],\n",
       "       [0.3197404 ],\n",
       "       [0.34645066],\n",
       "       [0.2334061 ],\n",
       "       [0.31642413],\n",
       "       [0.20399877],\n",
       "       [0.25185198],\n",
       "       [0.30037823],\n",
       "       [0.22494239],\n",
       "       [0.26760444],\n",
       "       [0.18947324],\n",
       "       [0.2264998 ]], dtype=float32)"
      ]
     },
     "execution_count": 28,
     "metadata": {},
     "output_type": "execute_result"
    }
   ],
   "source": [
    "y_predict = model.predict(x_test, batch_size=None, verbose=0, steps=None)\n",
    "y_predict"
   ]
  },
  {
   "cell_type": "code",
   "execution_count": 29,
   "metadata": {
    "scrolled": true
   },
   "outputs": [
    {
     "data": {
      "text/plain": [
       "[0,\n",
       " 0,\n",
       " 0,\n",
       " 0,\n",
       " 0,\n",
       " 0,\n",
       " 0,\n",
       " 0,\n",
       " 0,\n",
       " 0,\n",
       " 0,\n",
       " 0,\n",
       " 0,\n",
       " 0,\n",
       " 0,\n",
       " 0,\n",
       " 0,\n",
       " 0,\n",
       " 0,\n",
       " 0,\n",
       " 0,\n",
       " 0,\n",
       " 0,\n",
       " 0,\n",
       " 0,\n",
       " 0,\n",
       " 0,\n",
       " 0,\n",
       " 0,\n",
       " 0,\n",
       " 0,\n",
       " 0,\n",
       " 0,\n",
       " 0,\n",
       " 0,\n",
       " 0,\n",
       " 0,\n",
       " 0,\n",
       " 0,\n",
       " 0,\n",
       " 0,\n",
       " 0,\n",
       " 0,\n",
       " 0]"
      ]
     },
     "execution_count": 29,
     "metadata": {},
     "output_type": "execute_result"
    }
   ],
   "source": [
    "predict = []\n",
    "for i in range(len(y_predict)):\n",
    "    if y_predict[i] > 0.5:\n",
    "        predict.append(1)\n",
    "    else:\n",
    "        predict.append(0)\n",
    "        \n",
    "predict"
   ]
  },
  {
   "cell_type": "code",
   "execution_count": 30,
   "metadata": {},
   "outputs": [
    {
     "name": "stdout",
     "output_type": "stream",
     "text": [
      "accuracy score: 0.6818181818181818\n",
      "Confusion matrix : \n",
      " [[ 0 14]\n",
      " [ 0 30]]\n"
     ]
    }
   ],
   "source": [
    "# confusion matrix\n",
    "matrix = confusion_matrix(y_test,predict, labels=[1,0])\n",
    "print(\"accuracy score:\", accuracy_score(y_test, predict))\n",
    "print('Confusion matrix : \\n',matrix)"
   ]
  },
  {
   "cell_type": "code",
   "execution_count": 31,
   "metadata": {},
   "outputs": [
    {
     "name": "stdout",
     "output_type": "stream",
     "text": [
      "Classification report : \n",
      "               precision    recall  f1-score   support\n",
      "\n",
      "           1       0.00      0.00      0.00        14\n",
      "           0       0.68      1.00      0.81        30\n",
      "\n",
      "    accuracy                           0.68        44\n",
      "   macro avg       0.34      0.50      0.41        44\n",
      "weighted avg       0.46      0.68      0.55        44\n",
      "\n"
     ]
    },
    {
     "name": "stderr",
     "output_type": "stream",
     "text": [
      "/home/ubuntu/anaconda3/envs/lstm/lib/python3.7/site-packages/sklearn/metrics/_classification.py:1221: UndefinedMetricWarning: Precision and F-score are ill-defined and being set to 0.0 in labels with no predicted samples. Use `zero_division` parameter to control this behavior.\n",
      "  _warn_prf(average, modifier, msg_start, len(result))\n"
     ]
    }
   ],
   "source": [
    "# classification report for precision, recall f1-score and accuracy\n",
    "matrix = classification_report(y_test,predict,labels=[1,0])\n",
    "print('Classification report : \\n',matrix)"
   ]
  },
  {
   "cell_type": "code",
   "execution_count": 118,
   "metadata": {},
   "outputs": [],
   "source": [
    "def plot_confusion_matrix(cm, classes,\n",
    "                          normalize=False,\n",
    "                          title='Confusion matrix',\n",
    "                          cmap=plt.cm.Oranges):\n",
    "    \"\"\"\n",
    "    This function prints and plots the confusion matrix.\n",
    "    Normalization can be applied by setting `normalize=True`.\n",
    "    \"\"\"\n",
    "    if normalize:\n",
    "        cm = cm.astype('float') / cm.sum(axis=1)[:, np.newaxis]\n",
    "        print(\"Normalized confusion matrix\")\n",
    "    else:\n",
    "        print('Confusion matrix, without normalization')\n",
    "\n",
    "    print(cm)\n",
    "\n",
    "    plt.imshow(cm, interpolation='nearest', cmap=cmap)\n",
    "    plt.title(title)\n",
    "    plt.colorbar()\n",
    "    tick_marks = np.arange(len(classes))\n",
    "    plt.xticks(tick_marks, classes, rotation=45)\n",
    "    plt.yticks(tick_marks, classes)\n",
    "\n",
    "    fmt = '.2f' if normalize else 'd'\n",
    "    thresh = cm.max() / 2.\n",
    "    for i, j in itertools.product(range(cm.shape[0]), range(cm.shape[1])):\n",
    "        plt.text(j, i, format(cm[i, j], fmt),\n",
    "                 horizontalalignment=\"center\",\n",
    "                 color=\"white\" if cm[i, j] > thresh else \"black\")\n",
    "\n",
    "    plt.ylabel('True label')\n",
    "    plt.xlabel('Predicted label')\n",
    "    plt.tight_layout()"
   ]
  },
  {
   "cell_type": "code",
   "execution_count": 119,
   "metadata": {},
   "outputs": [
    {
     "name": "stdout",
     "output_type": "stream",
     "text": [
      "Normalized confusion matrix\n",
      "[[1. 0.]\n",
      " [1. 0.]]\n"
     ]
    },
    {
     "data": {
      "image/png": "[encoded data removed]",
      "text/plain": [
       "<Figure size 432x288 with 2 Axes>"
      ]
     },
     "metadata": {
      "needs_background": "light"
     },
     "output_type": "display_data"
    }
   ],
   "source": [
    "y_pred = predict\n",
    "\n",
    "#y_pred = convert_to_labels(y_predict)\n",
    "y_true = y_test\n",
    "target_names = [ 'Suicide_pos','Suicide_neg']\n",
    "#print(classification_report(y_true, y_pred, target_names=target_names))\n",
    "\n",
    "plt.figure()\n",
    "cnf_matrix = confusion_matrix(y_true, y_pred)\n",
    "plot_confusion_matrix(cnf_matrix, classes=target_names,normalize=True)\n",
    "\n",
    "plt.show()"
   ]
  },
  {
   "cell_type": "code",
   "execution_count": null,
   "metadata": {},
   "outputs": [],
   "source": []
  }
 ],
 "metadata": {
  "kernelspec": {
   "display_name": "LSTM",
   "language": "python",
   "name": "lstm"
  },
  "language_info": {
   "codemirror_mode": {
    "name": "ipython",
    "version": 3
   },
   "file_extension": ".py",
   "mimetype": "text/x-python",
   "name": "python",
   "nbconvert_exporter": "python",
   "pygments_lexer": "ipython3",
   "version": "3.7.9"
  }
 },
 "nbformat": 4,
 "nbformat_minor": 4
}
