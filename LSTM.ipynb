{
 "cells": [
  {
   "cell_type": "code",
   "execution_count": 1,
   "metadata": {
    "scrolled": true
   },
   "outputs": [],
   "source": [
    "import logging\n",
    "import pandas as pd\n",
    "import numpy as np\n",
    "import jieba\n",
    "import random\n",
    "from gensim.models import word2vec"
   ]
  },
  {
   "cell_type": "code",
   "execution_count": 2,
   "metadata": {},
   "outputs": [],
   "source": [
    "import torch\n",
    "import torch.nn as nn\n",
    "import torch.nn.functional as F\n",
    "import torch.optim as optim\n",
    "import time\n",
    "from torch.autograd import Variable\n",
    "from sklearn.metrics import accuracy_score"
   ]
  },
  {
   "cell_type": "markdown",
   "metadata": {},
   "source": [
    "# w2v"
   ]
  },
  {
   "cell_type": "markdown",
   "metadata": {},
   "source": [
    "## split data"
   ]
  },
  {
   "cell_type": "code",
   "execution_count": 5,
   "metadata": {},
   "outputs": [
    {
     "data": {
      "text/html": [
       "<div>\n",
       "<style scoped>\n",
       "    .dataframe tbody tr th:only-of-type {\n",
       "        vertical-align: middle;\n",
       "    }\n",
       "\n",
       "    .dataframe tbody tr th {\n",
       "        vertical-align: top;\n",
       "    }\n",
       "\n",
       "    .dataframe thead th {\n",
       "        text-align: right;\n",
       "    }\n",
       "</style>\n",
       "<table border=\"1\" class=\"dataframe\">\n",
       "  <thead>\n",
       "    <tr style=\"text-align: right;\">\n",
       "      <th></th>\n",
       "      <th>Content</th>\n",
       "      <th>Label</th>\n",
       "    </tr>\n",
       "  </thead>\n",
       "  <tbody>\n",
       "    <tr>\n",
       "      <th>0</th>\n",
       "      <td>我有個國小認識的好朋友，上了大學後常常會跟我訴苦，大多是關於人際關係的他個性比較內向，不容易...</td>\n",
       "      <td>0</td>\n",
       "    </tr>\n",
       "    <tr>\n",
       "      <th>1</th>\n",
       "      <td>(第一人稱視角，)媽媽跟爸爸從我出生就感情不好 所以國小時離婚了我喜歡媽媽 不喜歡爸爸但我們...</td>\n",
       "      <td>1</td>\n",
       "    </tr>\n",
       "    <tr>\n",
       "      <th>2</th>\n",
       "      <td>我的前任在自殺前一周突然幫我慶生，一天前找我出門玩，再一聲不吭的自我了斷，給我很大的陰影。現...</td>\n",
       "      <td>0</td>\n",
       "    </tr>\n",
       "    <tr>\n",
       "      <th>3</th>\n",
       "      <td>身為一個亞斯伯格症的人看到這則新聞還蠻難過的首先我可以理解家長看到自己小孩無緣無故被攻擊而想...</td>\n",
       "      <td>0</td>\n",
       "    </tr>\n",
       "    <tr>\n",
       "      <th>4</th>\n",
       "      <td>真的很長，防雷。26個年頭來，經歷了大小事情。媽媽在國小開始因為經濟不景氣、收店的壓力、被朋...</td>\n",
       "      <td>0</td>\n",
       "    </tr>\n",
       "    <tr>\n",
       "      <th>...</th>\n",
       "      <td>...</td>\n",
       "      <td>...</td>\n",
       "    </tr>\n",
       "    <tr>\n",
       "      <th>402</th>\n",
       "      <td>請問吞藥自殺比較好呢？還是上吊？還是割脘呢？</td>\n",
       "      <td>1</td>\n",
       "    </tr>\n",
       "    <tr>\n",
       "      <th>403</th>\n",
       "      <td>到底要有多深的自我厭惡，才會夢到自傷、自殺？前幾天我做了一個夢，我覺得是近期做過最糟糕的夢了...</td>\n",
       "      <td>1</td>\n",
       "    </tr>\n",
       "    <tr>\n",
       "      <th>404</th>\n",
       "      <td>人總有過想死的念頭。有人說過如果你沒有想死過，那代表你沒真正活過。「呸呸呸，亂講話」當自己的...</td>\n",
       "      <td>1</td>\n",
       "    </tr>\n",
       "    <tr>\n",
       "      <th>405</th>\n",
       "      <td>這些年來過的生活都一樣沒有上課的時間都是待在家裡直到現在要畢業了也都差不多對任何事情也都無感...</td>\n",
       "      <td>1</td>\n",
       "    </tr>\n",
       "    <tr>\n",
       "      <th>406</th>\n",
       "      <td>文字是雙面刃它治癒妳也能毀滅妳心情不好就會寫一些以前不好的經歷吧我也不知道為什麼有想發上來的...</td>\n",
       "      <td>1</td>\n",
       "    </tr>\n",
       "  </tbody>\n",
       "</table>\n",
       "<p>407 rows × 2 columns</p>\n",
       "</div>"
      ],
      "text/plain": [
       "                                               Content  Label\n",
       "0    我有個國小認識的好朋友，上了大學後常常會跟我訴苦，大多是關於人際關係的他個性比較內向，不容易...      0\n",
       "1    (第一人稱視角，)媽媽跟爸爸從我出生就感情不好 所以國小時離婚了我喜歡媽媽 不喜歡爸爸但我們...      1\n",
       "2    我的前任在自殺前一周突然幫我慶生，一天前找我出門玩，再一聲不吭的自我了斷，給我很大的陰影。現...      0\n",
       "3    身為一個亞斯伯格症的人看到這則新聞還蠻難過的首先我可以理解家長看到自己小孩無緣無故被攻擊而想...      0\n",
       "4    真的很長，防雷。26個年頭來，經歷了大小事情。媽媽在國小開始因為經濟不景氣、收店的壓力、被朋...      0\n",
       "..                                                 ...    ...\n",
       "402                             請問吞藥自殺比較好呢？還是上吊？還是割脘呢？      1\n",
       "403  到底要有多深的自我厭惡，才會夢到自傷、自殺？前幾天我做了一個夢，我覺得是近期做過最糟糕的夢了...      1\n",
       "404  人總有過想死的念頭。有人說過如果你沒有想死過，那代表你沒真正活過。「呸呸呸，亂講話」當自己的...      1\n",
       "405  這些年來過的生活都一樣沒有上課的時間都是待在家裡直到現在要畢業了也都差不多對任何事情也都無感...      1\n",
       "406  文字是雙面刃它治癒妳也能毀滅妳心情不好就會寫一些以前不好的經歷吧我也不知道為什麼有想發上來的...      1\n",
       "\n",
       "[407 rows x 2 columns]"
      ]
     },
     "execution_count": 5,
     "metadata": {},
     "output_type": "execute_result"
    }
   ],
   "source": [
    "# Loading dataset\n",
    "train = pd.read_csv('train.csv')\n",
    "train\n",
    "val = pd.read_csv('validation.csv')\n",
    "val"
   ]
  },
  {
   "cell_type": "code",
   "execution_count": 4,
   "metadata": {
    "scrolled": true
   },
   "outputs": [],
   "source": [
    "## 取200筆非自殺\n",
    "# train_neg = train[train[\"Label\"] == 0].iloc[:200]\n",
    "# train_pos = train[train[\"Label\"] == 1]\n",
    "# train = pd.concat([train_neg,train_pos])\n",
    "# train = train.reset_index(drop=True)\n",
    "# train"
   ]
  },
  {
   "cell_type": "code",
   "execution_count": 6,
   "metadata": {},
   "outputs": [
    {
     "data": {
      "text/html": [
       "<div>\n",
       "<style scoped>\n",
       "    .dataframe tbody tr th:only-of-type {\n",
       "        vertical-align: middle;\n",
       "    }\n",
       "\n",
       "    .dataframe tbody tr th {\n",
       "        vertical-align: top;\n",
       "    }\n",
       "\n",
       "    .dataframe thead th {\n",
       "        text-align: right;\n",
       "    }\n",
       "</style>\n",
       "<table border=\"1\" class=\"dataframe\">\n",
       "  <thead>\n",
       "    <tr style=\"text-align: right;\">\n",
       "      <th></th>\n",
       "      <th>Content</th>\n",
       "      <th>Label</th>\n",
       "    </tr>\n",
       "  </thead>\n",
       "  <tbody>\n",
       "    <tr>\n",
       "      <th>0</th>\n",
       "      <td>仙草加蜂蜜好好吃！等下再去市場買一塊大仙草~吃吃吃好像把今天的熱量扣打吃完了-----Sen...</td>\n",
       "      <td>0</td>\n",
       "    </tr>\n",
       "    <tr>\n",
       "      <th>1</th>\n",
       "      <td>啊啊啊 邁入老女人的里程碑了今天本來想請假的但被同事搶先了然後從禮拜六開始爸爸媽媽就滿滿的情...</td>\n",
       "      <td>0</td>\n",
       "    </tr>\n",
       "    <tr>\n",
       "      <th>2</th>\n",
       "      <td>今天同事提出，覺得我有點過度依賴男友了不是第一個人說出這個問題其實早在交往的一開始我自己就察...</td>\n",
       "      <td>0</td>\n",
       "    </tr>\n",
       "    <tr>\n",
       "      <th>3</th>\n",
       "      <td>開始停速悅的這幾天我還是會吃安立平總覺得現在除了心悸手抖頭很重以外一直還有個在耳邊敲打小軍鼓...</td>\n",
       "      <td>0</td>\n",
       "    </tr>\n",
       "    <tr>\n",
       "      <th>4</th>\n",
       "      <td>我覺得有些善意的謊言是可以說的就是那些不會被揭穿的但有一些是一定會被揭穿「你狀態不好的時侯可...</td>\n",
       "      <td>0</td>\n",
       "    </tr>\n",
       "    <tr>\n",
       "      <th>...</th>\n",
       "      <td>...</td>\n",
       "      <td>...</td>\n",
       "    </tr>\n",
       "    <tr>\n",
       "      <th>1757</th>\n",
       "      <td>請問吞藥自殺比較好呢？還是上吊？還是割脘呢？</td>\n",
       "      <td>1</td>\n",
       "    </tr>\n",
       "    <tr>\n",
       "      <th>1758</th>\n",
       "      <td>到底要有多深的自我厭惡，才會夢到自傷、自殺？前幾天我做了一個夢，我覺得是近期做過最糟糕的夢了...</td>\n",
       "      <td>1</td>\n",
       "    </tr>\n",
       "    <tr>\n",
       "      <th>1759</th>\n",
       "      <td>人總有過想死的念頭。有人說過如果你沒有想死過，那代表你沒真正活過。「呸呸呸，亂講話」當自己的...</td>\n",
       "      <td>1</td>\n",
       "    </tr>\n",
       "    <tr>\n",
       "      <th>1760</th>\n",
       "      <td>這些年來過的生活都一樣沒有上課的時間都是待在家裡直到現在要畢業了也都差不多對任何事情也都無感...</td>\n",
       "      <td>1</td>\n",
       "    </tr>\n",
       "    <tr>\n",
       "      <th>1761</th>\n",
       "      <td>文字是雙面刃它治癒妳也能毀滅妳心情不好就會寫一些以前不好的經歷吧我也不知道為什麼有想發上來的...</td>\n",
       "      <td>1</td>\n",
       "    </tr>\n",
       "  </tbody>\n",
       "</table>\n",
       "<p>1762 rows × 2 columns</p>\n",
       "</div>"
      ],
      "text/plain": [
       "                                                Content  Label\n",
       "0     仙草加蜂蜜好好吃！等下再去市場買一塊大仙草~吃吃吃好像把今天的熱量扣打吃完了-----Sen...      0\n",
       "1     啊啊啊 邁入老女人的里程碑了今天本來想請假的但被同事搶先了然後從禮拜六開始爸爸媽媽就滿滿的情...      0\n",
       "2     今天同事提出，覺得我有點過度依賴男友了不是第一個人說出這個問題其實早在交往的一開始我自己就察...      0\n",
       "3     開始停速悅的這幾天我還是會吃安立平總覺得現在除了心悸手抖頭很重以外一直還有個在耳邊敲打小軍鼓...      0\n",
       "4     我覺得有些善意的謊言是可以說的就是那些不會被揭穿的但有一些是一定會被揭穿「你狀態不好的時侯可...      0\n",
       "...                                                 ...    ...\n",
       "1757                             請問吞藥自殺比較好呢？還是上吊？還是割脘呢？      1\n",
       "1758  到底要有多深的自我厭惡，才會夢到自傷、自殺？前幾天我做了一個夢，我覺得是近期做過最糟糕的夢了...      1\n",
       "1759  人總有過想死的念頭。有人說過如果你沒有想死過，那代表你沒真正活過。「呸呸呸，亂講話」當自己的...      1\n",
       "1760  這些年來過的生活都一樣沒有上課的時間都是待在家裡直到現在要畢業了也都差不多對任何事情也都無感...      1\n",
       "1761  文字是雙面刃它治癒妳也能毀滅妳心情不好就會寫一些以前不好的經歷吧我也不知道為什麼有想發上來的...      1\n",
       "\n",
       "[1762 rows x 2 columns]"
      ]
     },
     "execution_count": 6,
     "metadata": {},
     "output_type": "execute_result"
    }
   ],
   "source": [
    "total = pd.concat([train, val])\n",
    "total = total.reset_index(drop=True)\n",
    "total_0 = total[total[\"Label\"] == 0]\n",
    "total_1 = total[total[\"Label\"] == 1]\n",
    "total_1"
   ]
  },
  {
   "cell_type": "code",
   "execution_count": 13,
   "metadata": {},
   "outputs": [],
   "source": [
    "# Label_1\n",
    "num_1 = total_1.shape[0]\n",
    "random_1 = random.sample(range(num_1), num_1)\n",
    "train_1 = total_1.iloc[random_1[:207]]\n",
    "test_1 = total_1.iloc[random_1[207:295]]\n",
    "# Label_0\n",
    "num_0 = total_0.shape[0]\n",
    "random_0 = random.sample(range(num_0), num_0)\n",
    "train_0 = total_0.iloc[random_0[:210]]\n",
    "test_0 = total_0.iloc[random_0[210:300]]\n",
    "# train_val_1\n",
    "train_val_1 = train_1.shape[0]\n",
    "random_train_val = random.sample(range(train_val_1), train_val_1)\n",
    "train__1 = train_1.iloc[random_train_val[:186]]\n",
    "val_1 = train_1.iloc[random_train_val[186:207]]\n",
    "# train_val_0\n",
    "train_val_0 = train_0.shape[0]\n",
    "random_train_val = random.sample(range(train_val_0), train_val_0)\n",
    "train__0 = train_0.iloc[random_train_val[:189]]\n",
    "val_0 = train_0.iloc[random_train_val[189:210]]\n",
    "# train_val\n",
    "train = pd.concat([train__1, train__0])\n",
    "train = train.reset_index(drop=True)\n",
    "val = pd.concat([val_1, val_0])\n",
    "val = val.reset_index(drop=True)\n",
    "# test\n",
    "test = pd.concat([test_1, test_0])\n",
    "test = test.reset_index(drop=True)"
   ]
  },
  {
   "cell_type": "markdown",
   "metadata": {},
   "source": [
    "## tokenized"
   ]
  },
  {
   "cell_type": "code",
   "execution_count": 7,
   "metadata": {},
   "outputs": [],
   "source": [
    "logging.basicConfig(format='%(asctime)s : %(levelname)s : %(message)s', level=logging.INFO)\n",
    "\n",
    "# jieba custom setting.\n",
    "jieba.set_dictionary('jieba_dict/dict.txt.big')\n",
    "\n",
    "# load stopwords set\n",
    "stopword_set = set()\n",
    "with open('jieba_dict/stopwords.txt','r', encoding='utf-8') as stopwords:\n",
    "    for stopword in stopwords:\n",
    "        stopword_set.add(stopword.strip(' \\n'))"
   ]
  },
  {
   "cell_type": "code",
   "execution_count": 8,
   "metadata": {},
   "outputs": [],
   "source": [
    "def jieba_tokenizer(content):\n",
    "    if str(content)=='nan':\n",
    "        return ''\n",
    "    words = jieba.cut(content.replace(' ',''))\n",
    "    return [word for word in words if word not in stopword_set]"
   ]
  },
  {
   "cell_type": "code",
   "execution_count": 9,
   "metadata": {
    "scrolled": true
   },
   "outputs": [
    {
     "name": "stderr",
     "output_type": "stream",
     "text": [
      "/home/ubuntu/anaconda3/envs/lstm/lib/python3.7/site-packages/tensorflow/python/framework/dtypes.py:516: FutureWarning: Passing (type, 1) or '1type' as a synonym of type is deprecated; in a future version of numpy, it will be understood as (type, (1,)) / '(1,)type'.\n",
      "  _np_qint8 = np.dtype([(\"qint8\", np.int8, 1)])\n",
      "/home/ubuntu/anaconda3/envs/lstm/lib/python3.7/site-packages/tensorflow/python/framework/dtypes.py:517: FutureWarning: Passing (type, 1) or '1type' as a synonym of type is deprecated; in a future version of numpy, it will be understood as (type, (1,)) / '(1,)type'.\n",
      "  _np_quint8 = np.dtype([(\"quint8\", np.uint8, 1)])\n",
      "/home/ubuntu/anaconda3/envs/lstm/lib/python3.7/site-packages/tensorflow/python/framework/dtypes.py:518: FutureWarning: Passing (type, 1) or '1type' as a synonym of type is deprecated; in a future version of numpy, it will be understood as (type, (1,)) / '(1,)type'.\n",
      "  _np_qint16 = np.dtype([(\"qint16\", np.int16, 1)])\n",
      "/home/ubuntu/anaconda3/envs/lstm/lib/python3.7/site-packages/tensorflow/python/framework/dtypes.py:519: FutureWarning: Passing (type, 1) or '1type' as a synonym of type is deprecated; in a future version of numpy, it will be understood as (type, (1,)) / '(1,)type'.\n",
      "  _np_quint16 = np.dtype([(\"quint16\", np.uint16, 1)])\n",
      "/home/ubuntu/anaconda3/envs/lstm/lib/python3.7/site-packages/tensorflow/python/framework/dtypes.py:520: FutureWarning: Passing (type, 1) or '1type' as a synonym of type is deprecated; in a future version of numpy, it will be understood as (type, (1,)) / '(1,)type'.\n",
      "  _np_qint32 = np.dtype([(\"qint32\", np.int32, 1)])\n",
      "/home/ubuntu/anaconda3/envs/lstm/lib/python3.7/site-packages/tensorflow/python/framework/dtypes.py:525: FutureWarning: Passing (type, 1) or '1type' as a synonym of type is deprecated; in a future version of numpy, it will be understood as (type, (1,)) / '(1,)type'.\n",
      "  np_resource = np.dtype([(\"resource\", np.ubyte, 1)])\n",
      "/home/ubuntu/anaconda3/envs/lstm/lib/python3.7/site-packages/tensorboard/compat/tensorflow_stub/dtypes.py:541: FutureWarning: Passing (type, 1) or '1type' as a synonym of type is deprecated; in a future version of numpy, it will be understood as (type, (1,)) / '(1,)type'.\n",
      "  _np_qint8 = np.dtype([(\"qint8\", np.int8, 1)])\n",
      "/home/ubuntu/anaconda3/envs/lstm/lib/python3.7/site-packages/tensorboard/compat/tensorflow_stub/dtypes.py:542: FutureWarning: Passing (type, 1) or '1type' as a synonym of type is deprecated; in a future version of numpy, it will be understood as (type, (1,)) / '(1,)type'.\n",
      "  _np_quint8 = np.dtype([(\"quint8\", np.uint8, 1)])\n",
      "/home/ubuntu/anaconda3/envs/lstm/lib/python3.7/site-packages/tensorboard/compat/tensorflow_stub/dtypes.py:543: FutureWarning: Passing (type, 1) or '1type' as a synonym of type is deprecated; in a future version of numpy, it will be understood as (type, (1,)) / '(1,)type'.\n",
      "  _np_qint16 = np.dtype([(\"qint16\", np.int16, 1)])\n",
      "/home/ubuntu/anaconda3/envs/lstm/lib/python3.7/site-packages/tensorboard/compat/tensorflow_stub/dtypes.py:544: FutureWarning: Passing (type, 1) or '1type' as a synonym of type is deprecated; in a future version of numpy, it will be understood as (type, (1,)) / '(1,)type'.\n",
      "  _np_quint16 = np.dtype([(\"quint16\", np.uint16, 1)])\n",
      "/home/ubuntu/anaconda3/envs/lstm/lib/python3.7/site-packages/tensorboard/compat/tensorflow_stub/dtypes.py:545: FutureWarning: Passing (type, 1) or '1type' as a synonym of type is deprecated; in a future version of numpy, it will be understood as (type, (1,)) / '(1,)type'.\n",
      "  _np_qint32 = np.dtype([(\"qint32\", np.int32, 1)])\n",
      "/home/ubuntu/anaconda3/envs/lstm/lib/python3.7/site-packages/tensorboard/compat/tensorflow_stub/dtypes.py:550: FutureWarning: Passing (type, 1) or '1type' as a synonym of type is deprecated; in a future version of numpy, it will be understood as (type, (1,)) / '(1,)type'.\n",
      "  np_resource = np.dtype([(\"resource\", np.ubyte, 1)])\n"
     ]
    },
    {
     "name": "stdout",
     "output_type": "stream",
     "text": [
      "WARNING: Entity <bound method LSTMCell.call of <tensorflow.python.ops.rnn_cell_impl.LSTMCell object at 0x7fd4c80f8ed0>> could not be transformed and will be executed as-is. Please report this to the AutgoGraph team. When filing the bug, set the verbosity to 10 (on Linux, `export AUTOGRAPH_VERBOSITY=10`) and attach the full output. Cause: converting <bound method LSTMCell.call of <tensorflow.python.ops.rnn_cell_impl.LSTMCell object at 0x7fd4c80f8ed0>>: AttributeError: module 'gast' has no attribute 'Num'\n",
      "WARNING: Entity <bound method LSTMCell.call of <tensorflow.python.ops.rnn_cell_impl.LSTMCell object at 0x7fd4c80a3710>> could not be transformed and will be executed as-is. Please report this to the AutgoGraph team. When filing the bug, set the verbosity to 10 (on Linux, `export AUTOGRAPH_VERBOSITY=10`) and attach the full output. Cause: converting <bound method LSTMCell.call of <tensorflow.python.ops.rnn_cell_impl.LSTMCell object at 0x7fd4c80a3710>>: AttributeError: module 'gast' has no attribute 'Num'\n",
      "WARNING: Entity <bound method LSTMCell.call of <tensorflow.python.ops.rnn_cell_impl.LSTMCell object at 0x7fd4c80b2b10>> could not be transformed and will be executed as-is. Please report this to the AutgoGraph team. When filing the bug, set the verbosity to 10 (on Linux, `export AUTOGRAPH_VERBOSITY=10`) and attach the full output. Cause: converting <bound method LSTMCell.call of <tensorflow.python.ops.rnn_cell_impl.LSTMCell object at 0x7fd4c80b2b10>>: AttributeError: module 'gast' has no attribute 'Num'\n",
      "WARNING: Entity <bound method LSTMCell.call of <tensorflow.python.ops.rnn_cell_impl.LSTMCell object at 0x7fd4c80cfe50>> could not be transformed and will be executed as-is. Please report this to the AutgoGraph team. When filing the bug, set the verbosity to 10 (on Linux, `export AUTOGRAPH_VERBOSITY=10`) and attach the full output. Cause: converting <bound method LSTMCell.call of <tensorflow.python.ops.rnn_cell_impl.LSTMCell object at 0x7fd4c80cfe50>>: AttributeError: module 'gast' has no attribute 'Num'\n",
      "WARNING: Entity <bound method Dense.call of <tensorflow.python.layers.core.Dense object at 0x7fd4e12e4990>> could not be transformed and will be executed as-is. Please report this to the AutgoGraph team. When filing the bug, set the verbosity to 10 (on Linux, `export AUTOGRAPH_VERBOSITY=10`) and attach the full output. Cause: converting <bound method Dense.call of <tensorflow.python.layers.core.Dense object at 0x7fd4e12e4990>>: AssertionError: Bad argument number for Name: 3, expecting 4\n",
      "WARNING: Entity <bound method LSTMCell.call of <tensorflow.python.ops.rnn_cell_impl.LSTMCell object at 0x7fd353ff38d0>> could not be transformed and will be executed as-is. Please report this to the AutgoGraph team. When filing the bug, set the verbosity to 10 (on Linux, `export AUTOGRAPH_VERBOSITY=10`) and attach the full output. Cause: converting <bound method LSTMCell.call of <tensorflow.python.ops.rnn_cell_impl.LSTMCell object at 0x7fd353ff38d0>>: AttributeError: module 'gast' has no attribute 'Num'\n",
      "WARNING: Entity <bound method LSTMCell.call of <tensorflow.python.ops.rnn_cell_impl.LSTMCell object at 0x7fd353f96b90>> could not be transformed and will be executed as-is. Please report this to the AutgoGraph team. When filing the bug, set the verbosity to 10 (on Linux, `export AUTOGRAPH_VERBOSITY=10`) and attach the full output. Cause: converting <bound method LSTMCell.call of <tensorflow.python.ops.rnn_cell_impl.LSTMCell object at 0x7fd353f96b90>>: AttributeError: module 'gast' has no attribute 'Num'\n",
      "WARNING: Entity <bound method LSTMCell.call of <tensorflow.python.ops.rnn_cell_impl.LSTMCell object at 0x7fd353fabc90>> could not be transformed and will be executed as-is. Please report this to the AutgoGraph team. When filing the bug, set the verbosity to 10 (on Linux, `export AUTOGRAPH_VERBOSITY=10`) and attach the full output. Cause: converting <bound method LSTMCell.call of <tensorflow.python.ops.rnn_cell_impl.LSTMCell object at 0x7fd353fabc90>>: AttributeError: module 'gast' has no attribute 'Num'\n",
      "WARNING: Entity <bound method LSTMCell.call of <tensorflow.python.ops.rnn_cell_impl.LSTMCell object at 0x7fd353fab450>> could not be transformed and will be executed as-is. Please report this to the AutgoGraph team. When filing the bug, set the verbosity to 10 (on Linux, `export AUTOGRAPH_VERBOSITY=10`) and attach the full output. Cause: converting <bound method LSTMCell.call of <tensorflow.python.ops.rnn_cell_impl.LSTMCell object at 0x7fd353fab450>>: AttributeError: module 'gast' has no attribute 'Num'\n",
      "WARNING: Entity <bound method Dense.call of <tensorflow.python.layers.core.Dense object at 0x7fd4bffb2f10>> could not be transformed and will be executed as-is. Please report this to the AutgoGraph team. When filing the bug, set the verbosity to 10 (on Linux, `export AUTOGRAPH_VERBOSITY=10`) and attach the full output. Cause: converting <bound method Dense.call of <tensorflow.python.layers.core.Dense object at 0x7fd4bffb2f10>>: AssertionError: Bad argument number for Name: 3, expecting 4\n",
      "WARNING: Entity <bound method LSTMCell.call of <tensorflow.python.ops.rnn_cell_impl.LSTMCell object at 0x7fd331eca290>> could not be transformed and will be executed as-is. Please report this to the AutgoGraph team. When filing the bug, set the verbosity to 10 (on Linux, `export AUTOGRAPH_VERBOSITY=10`) and attach the full output. Cause: converting <bound method LSTMCell.call of <tensorflow.python.ops.rnn_cell_impl.LSTMCell object at 0x7fd331eca290>>: AttributeError: module 'gast' has no attribute 'Num'\n",
      "WARNING: Entity <bound method LSTMCell.call of <tensorflow.python.ops.rnn_cell_impl.LSTMCell object at 0x7fd331ee0c90>> could not be transformed and will be executed as-is. Please report this to the AutgoGraph team. When filing the bug, set the verbosity to 10 (on Linux, `export AUTOGRAPH_VERBOSITY=10`) and attach the full output. Cause: converting <bound method LSTMCell.call of <tensorflow.python.ops.rnn_cell_impl.LSTMCell object at 0x7fd331ee0c90>>: AttributeError: module 'gast' has no attribute 'Num'\n",
      "WARNING: Entity <bound method LSTMCell.call of <tensorflow.python.ops.rnn_cell_impl.LSTMCell object at 0x7fd331ef7ed0>> could not be transformed and will be executed as-is. Please report this to the AutgoGraph team. When filing the bug, set the verbosity to 10 (on Linux, `export AUTOGRAPH_VERBOSITY=10`) and attach the full output. Cause: converting <bound method LSTMCell.call of <tensorflow.python.ops.rnn_cell_impl.LSTMCell object at 0x7fd331ef7ed0>>: AttributeError: module 'gast' has no attribute 'Num'\n",
      "WARNING: Entity <bound method LSTMCell.call of <tensorflow.python.ops.rnn_cell_impl.LSTMCell object at 0x7fd331e89750>> could not be transformed and will be executed as-is. Please report this to the AutgoGraph team. When filing the bug, set the verbosity to 10 (on Linux, `export AUTOGRAPH_VERBOSITY=10`) and attach the full output. Cause: converting <bound method LSTMCell.call of <tensorflow.python.ops.rnn_cell_impl.LSTMCell object at 0x7fd331e89750>>: AttributeError: module 'gast' has no attribute 'Num'\n",
      "WARNING: Entity <bound method Dense.call of <tensorflow.python.layers.core.Dense object at 0x7fd352077c10>> could not be transformed and will be executed as-is. Please report this to the AutgoGraph team. When filing the bug, set the verbosity to 10 (on Linux, `export AUTOGRAPH_VERBOSITY=10`) and attach the full output. Cause: converting <bound method Dense.call of <tensorflow.python.layers.core.Dense object at 0x7fd352077c10>>: AssertionError: Bad argument number for Name: 3, expecting 4\n"
     ]
    }
   ],
   "source": [
    "from ckiptagger import data_utils\n",
    "from ckiptagger import WS, POS, NER\n",
    "ws=WS(\"ckip\")\n",
    "pos=POS(\"ckip\")\n",
    "ner=NER(\"ckip\")"
   ]
  },
  {
   "cell_type": "code",
   "execution_count": 10,
   "metadata": {},
   "outputs": [],
   "source": [
    "def ckip_tokenizer(content):\n",
    "#     if str(content)=='nan':\n",
    "#         return ''\n",
    "    word_s = ws([content])\n",
    "    return word_s"
   ]
  },
  {
   "cell_type": "code",
   "execution_count": 16,
   "metadata": {
    "scrolled": true
   },
   "outputs": [
    {
     "data": {
      "text/plain": [
       "0     [[滿, 腦子, 都, 是, 自殺, ., ., ., ., 搜尋, 紀錄, 也, 是, 自...\n",
       "1     [[後悔, 昨天, 沒有, 將, 刀, 刺進, 喉嚨, 痛恨, 自己, 的, 軟弱, 無力,...\n",
       "2     [[請問, 版友, 們, 有, 人, 有, 住院, 過, 的, 經驗, 嗎, ？, 醫師, ...\n",
       "3     [[(, ., ., ., 續, ),  , (, 雷, ), He who has a w...\n",
       "4     [[我, 需要, 人, 哄, 我, 情緒, 會, 起伏, 不定, 我, 除了, 名牌貨, 不...\n",
       "5     [[事情, 要, 從, 國中, 甚至, 是, 從, 我, 五, 歲, 開始, 講起, 我, ...\n",
       "6     [[如, 題, 我, 的, 憂鬱症, 發作, 了, 人, 現在, 在, 醫院, 裡, 等待,...\n",
       "7     [[一直, 想, 自殺,  , 但, 都, 找, 不, 到, 可以, 100%, 自殺, 的...\n",
       "8     [[我, 身為, 人, 真的, 很, 失敗, ，, 重度, 憂鬱症, ，, 社交, 恐懼症,...\n",
       "9     [[魯迅, 說, 過, ，, 人, 的, 痛苦, 並, 不, 相通, 。, 我, 想說, ，...\n",
       "10    [[文長, 。, 睡, 前, 被, 悠樂丁, 強制, 關機, 好像, 沒, 存, 到, 檔,...\n",
       "11    [[我, 有時, 會, 憂鬱, 、, 很, 想, 死, ，, 認為, 自己, 沒有, 活, ...\n",
       "12    [[已經, 連, 哭, 了, 三, 個, 小時, 一, 年, 都, 沒, 復發, 的, 憂鬱...\n",
       "13    [[前, 女友, 離開, 這, 世界, 了, 直到, 收到, 消息, 我, 才, 發現, 我...\n",
       "14    [[一直, 破, 了, 個, 洞, 怎麼, 都, 補, 不, 起來, 到底, 被, 挖走, ...\n",
       "15    [[系館, 旁, 有, 一, 小, 片, 樹林, ，, 我們, 稱之為, 黑, 森林, 。,...\n",
       "16    [[最近, 到, 了, 晚上, 都, 會, 想, 自殺,  , 想, 去, 診所, 諮詢, ...\n",
       "17    [[好, 想, 自殺, 有, 人, 能, 陪, 我, 聊天, 嗎, 為什麼, 就, 這樣, ...\n",
       "18    [[（, 雷雨, 說, 不, 出, 口, 的, 沒有, 想, 活, 為什麼, 不能, 想, ...\n",
       "19    [[最近, 走, 在, 路, 上, 總會, 冒出, 小, 念頭, ，, 人, 到底, 為何,...\n",
       "20    [[好, 累, 自殺, 之前, 都, 會, 想到, 家人, 我, 好, 慚愧, 我, 好, ...\n",
       "21    [[我, 想, 我, 很, 不會, 照顧, 自己, 的, 心情, 一些, 緊急, 的, 工作...\n",
       "22    [[我, 是, 上夜班, 本來, 預計, 今天, 早上, 九點, 回診, 可是, 我, 今天...\n",
       "23    [[認真, 面對, 自己, 就, 是, 被, 始亂終棄, 還, 幫, 對方, 想, 了, 很...\n",
       "24    [[從, 去年, 這, 時候, 開始, 斷斷續續, 看, 了, 心理, 諮商, 一直, 沒有...\n",
       "25    [[去, 他, 的, 死速悅, 搞, 到, 頭暈, 噁心, 到, 不行, 完全, 無法, 工...\n",
       "26    [[因為, 以前, 固定, 看, 很多, 年, 的, 醫生, 時間, 對不上, ，, 我, ...\n",
       "27    [[我, 的, 粉絲頁, ：https://www.facebook.com/chch, 1...\n",
       "28    [[應該, 生氣, 不, 生氣, 不, 敢, 對, 某些, 人, 生氣,  , 把, 這些,...\n",
       "29    [[最近, 幾, 天, 都, 突然, 因為, 瞬間, 的, 重度, 憂鬱, 感, 襲來, 嚇...\n",
       "30    [[大概, 從, 三, 年, 前, 開始, ，, 那, 年, 我, 即將, 滿, 30, 歲...\n",
       "31    [[想, 拿, 兩, 個, 月, 慢, 籤, ，, 但, 醫生, 如果, 知道, 我, 這,...\n",
       "32    [[【, 大紀元, 2018年, 11月, 20日, 訊, 】, 崔德軍, ，, 原, 遼寧...\n",
       "33    [[這, 是, 我, 系籃, 的, 學弟,  , 每, 天, 都, 性騷擾, 我, 或, 要...\n",
       "34    [[不, 知道, 該, 從, 何, 說起, 就, 像, 我, 現在, 不, 知道, 怎麼, ...\n",
       "35    [[憂鬱,  , 想, 好好, 的, 運動, 還是, 被, 教練, 堵到, 問, 我, 啊,...\n",
       "36    [[我, 活, 著, 意義, 是, 忘記, 意義, 或, 假裝, 有, 意義, 我, 是, ...\n",
       "37    [[一, 進來, 就, 睡, 在, 保護室, 旁邊, ，, 然後, 一, 進來, 就, 有,...\n",
       "38    [[以下, 小雷, 還, 未, 看過, 的, 請, 自行, 斟酌, 今天, 閒來, 無, 事...\n",
       "39    [[這, 兩, 週, 狀況, 不, 太, 好, 但, 我, 還是, 很, 努力, 要, 振作...\n",
       "40    [[12：04, 睡, 前, 躺, 在, 床, 上, ，, 滑手機, 聽, podcast,...\n",
       "41    [[事情, 做到, 一百, 分,  , 上帝, 說, 一, 句, 話, 你, 就, 什麼, ...\n",
       "Name: tokenized, dtype: object"
      ]
     },
     "execution_count": 16,
     "metadata": {},
     "output_type": "execute_result"
    }
   ],
   "source": [
    "train['tokenized'] = train.loc[:, 'Content'].apply(ckip_tokenizer)\n",
    "val['tokenized'] = val.loc[:, 'Content'].apply(ckip_tokenizer)\n",
    "test['tokenized'] = test.loc[:, 'Content'].apply(ckip_tokenizer)\n",
    "val['tokenized']\n",
    "# total['tokenized'] = total.loc[:, 'Content'].apply(ckip_tokenizer)\n",
    "# total['tokenized']"
   ]
  },
  {
   "cell_type": "code",
   "execution_count": 15,
   "metadata": {},
   "outputs": [
    {
     "name": "stderr",
     "output_type": "stream",
     "text": [
      "2021-02-27 15:03:26,162 : INFO : loading Word2VecKeyedVectors object from w2v_ckip.model\n",
      "2021-02-27 15:03:32,971 : INFO : loading wv recursively from w2v_ckip.model.wv.* with mmap=r\n",
      "2021-02-27 15:03:32,975 : INFO : loading vectors from w2v_ckip.model.wv.vectors.npy with mmap=r\n",
      "2021-02-27 15:03:32,979 : INFO : setting ignored attribute vectors_norm to None\n",
      "2021-02-27 15:03:32,982 : INFO : loading vocabulary recursively from w2v_ckip.model.vocabulary.* with mmap=r\n",
      "2021-02-27 15:03:32,983 : INFO : loading trainables recursively from w2v_ckip.model.trainables.* with mmap=r\n",
      "2021-02-27 15:03:32,983 : INFO : loading syn1neg from w2v_ckip.model.trainables.syn1neg.npy with mmap=r\n",
      "2021-02-27 15:03:32,986 : INFO : setting ignored attribute cum_table to None\n",
      "2021-02-27 15:03:32,987 : INFO : loaded w2v_ckip.model\n"
     ]
    }
   ],
   "source": [
    "from gensim.models import KeyedVectors\n",
    "w2v_model = KeyedVectors.load(\"w2v_ckip.model\", mmap='r')"
   ]
  },
  {
   "cell_type": "code",
   "execution_count": 18,
   "metadata": {
    "scrolled": true
   },
   "outputs": [
    {
     "name": "stdout",
     "output_type": "stream",
     "text": [
      "Vocabulary Size: 1096154 - Embedding Dim: 250\n"
     ]
    }
   ],
   "source": [
    "# Retrieve the weights from the model. This is used for initializing the weights\n",
    "# in a Keras Embedding layer later\n",
    "w2v_weights = w2v_model.wv.vectors # If use pytorch add torch.from_numpy()\n",
    "vocab_size, embedding_size = w2v_weights.shape\n",
    "print(\"Vocabulary Size: {} - Embedding Dim: {}\".format(vocab_size, embedding_size))\n",
    "\n",
    "def word2token(word):\n",
    "    try:\n",
    "        return w2v_model.wv.vocab[word].index\n",
    "    # If word is not in index return 0. I realize this means that this\n",
    "    # is the same as the word of index 0 (i.e. most frequent word), but 0s\n",
    "    # will be padded later anyway by the embedding layer (which also\n",
    "    # seems dirty but I couldn't find a better solution right now)\n",
    "    except KeyError:\n",
    "        return 0\n",
    "def token2word(token):\n",
    "    return w2v_model.wv.index2word[token]"
   ]
  },
  {
   "cell_type": "code",
   "execution_count": 21,
   "metadata": {
    "scrolled": true
   },
   "outputs": [
    {
     "name": "stderr",
     "output_type": "stream",
     "text": [
      "/home/ubuntu/anaconda3/envs/lstm/lib/python3.7/site-packages/ipykernel_launcher.py:11: SettingWithCopyWarning: \n",
      "A value is trying to be set on a copy of a slice from a DataFrame\n",
      "\n",
      "See the caveats in the documentation: https://pandas.pydata.org/pandas-docs/stable/user_guide/indexing.html#returning-a-view-versus-a-copy\n",
      "  # This is added back by InteractiveShellApp.init_path()\n",
      "/home/ubuntu/anaconda3/envs/lstm/lib/python3.7/site-packages/ipykernel_launcher.py:14: SettingWithCopyWarning: \n",
      "A value is trying to be set on a copy of a slice from a DataFrame\n",
      "\n",
      "See the caveats in the documentation: https://pandas.pydata.org/pandas-docs/stable/user_guide/indexing.html#returning-a-view-versus-a-copy\n",
      "  \n"
     ]
    }
   ],
   "source": [
    "import copy\n",
    "# total['word_vec'] = copy.deepcopy(total['tokenized'])\n",
    "# for i in range(len(total)):\n",
    "#     total['word_vec'][i] = total['tokenized'][i][0]\n",
    "# total\n",
    "train['word_vec'] = copy.deepcopy(train['tokenized'])\n",
    "for i in range(len(train)):\n",
    "    train['word_vec'][i] = train['tokenized'][i][0]\n",
    "val['word_vec'] = copy.deepcopy(val['tokenized'])\n",
    "for i in range(len(val)):\n",
    "    val['word_vec'][i] = val['tokenized'][i][0]\n",
    "test['word_vec'] = copy.deepcopy(test['tokenized'])\n",
    "for i in range(len(test)):\n",
    "    test['word_vec'][i] = test['tokenized'][i][0]"
   ]
  },
  {
   "cell_type": "code",
   "execution_count": 22,
   "metadata": {
    "scrolled": true
   },
   "outputs": [],
   "source": [
    "# for i in range(len(total)):\n",
    "#     for j in range(len(total['word_vec'][i])):\n",
    "#         total['word_vec'][i][j] = word2token(total['word_vec'][i][j])\n",
    "for i in range(len(train)):\n",
    "    for j in range(len(train['word_vec'][i])):\n",
    "        train['word_vec'][i][j] = word2token(train['word_vec'][i][j])\n",
    "for i in range(len(val)):\n",
    "    for j in range(len(val['word_vec'][i])):\n",
    "        val['word_vec'][i][j] = word2token(val['word_vec'][i][j])\n",
    "for i in range(len(test)):\n",
    "    for j in range(len(test['word_vec'][i])):\n",
    "        test['word_vec'][i][j] = word2token(test['word_vec'][i][j])"
   ]
  },
  {
   "cell_type": "markdown",
   "metadata": {},
   "source": [
    "# LSTM"
   ]
  },
  {
   "cell_type": "markdown",
   "metadata": {},
   "source": [
    "## Pytorch"
   ]
  },
  {
   "cell_type": "code",
   "execution_count": null,
   "metadata": {},
   "outputs": [],
   "source": [
    "# def pad_samples(features, maxlen=250, PAD=0): #截長補短 讓長度一致，這裡固定文章長度為maxlen=250\n",
    "#     padded_features = []\n",
    "#     for feature in features:\n",
    "#         if len(feature) >= maxlen:\n",
    "#             padded_feature = feature[:maxlen]\n",
    "#         else:\n",
    "#             padded_feature = feature\n",
    "#             while(len(padded_feature) < maxlen):\n",
    "#                 padded_feature.append(PAD)\n",
    "#         padded_features.append(padded_feature)\n",
    "#     return padded_features"
   ]
  },
  {
   "cell_type": "code",
   "execution_count": null,
   "metadata": {},
   "outputs": [],
   "source": [
    "# train_features = torch.tensor(pad_samples(train['word_vec']))\n",
    "# vali_features = torch.tensor(pad_samples(vali['word_vec']))\n",
    "# vali_features"
   ]
  },
  {
   "cell_type": "code",
   "execution_count": null,
   "metadata": {},
   "outputs": [],
   "source": [
    "# # label_vec_to_torch.tensor\n",
    "# train_labels = torch.tensor(train['Label'])\n",
    "# vali_labels = torch.tensor(vali['Label'])\n",
    "# vali_labels"
   ]
  },
  {
   "cell_type": "code",
   "execution_count": null,
   "metadata": {},
   "outputs": [],
   "source": [
    "# ### create pytorch dataloader ###\n",
    "# batch_size = 64\n",
    "# train_set = torch.utils.data.TensorDataset(train_features, train_labels)\n",
    "# train_iter = torch.utils.data.DataLoader(train_set, batch_size=batch_size,shuffle=True)\n",
    "\n",
    "# vali_set = torch.utils.data.TensorDataset(vali_features, vali_labels)\n",
    "# vali_iter = torch.utils.data.DataLoader(vali_set, batch_size=batch_size,shuffle=True)"
   ]
  },
  {
   "cell_type": "code",
   "execution_count": null,
   "metadata": {},
   "outputs": [],
   "source": [
    "# ### build model ###\n",
    "# class RNN(nn.Module):\n",
    "#     def __init__(self, vocab_size, embed_size, num_hiddens, num_layers,\n",
    "#                  bidirectional, weight, labels, **kwargs):\n",
    "#         super(RNN, self).__init__(**kwargs)\n",
    "#         self.num_hiddens = num_hiddens\n",
    "#         self.num_layers = num_layers\n",
    "#         self.bidirectional = bidirectional\n",
    "#         self.embedding = nn.Embedding.from_pretrained(weight)\n",
    "#         self.embedding.weight.requires_grad = False\n",
    "#         self.encoder = nn.LSTM(input_size=embed_size, hidden_size=self.num_hiddens,\n",
    "#                                num_layers=num_layers, bidirectional=self.bidirectional,\n",
    "#                                dropout=0.3)\n",
    "\n",
    "#         if self.bidirectional:\n",
    "#             self.linear1 = nn.Linear(num_hiddens * 4, labels)\n",
    "#         else:\n",
    "#             self.linear1 = nn.Linear(num_hiddens * 2, labels)\n",
    "\n",
    "\n",
    "\n",
    "#     def forward(self, inputs):\n",
    "#         embeddings = self.embedding(inputs)\n",
    "#         states, hidden = self.encoder(embeddings.permute([1, 0, 2]))\n",
    "#         encoding = torch.cat([states[0], states[-1]], dim=1) #if it's bidirectional, choose first and last output\n",
    "#         outputs = self.linear1(encoding)\n",
    "\n",
    "#         return outputs\n",
    "\n",
    "# num_epochs = 10\n",
    "# num_hiddens = 100\n",
    "# num_layers = 2\n",
    "# bidirectional = True\n",
    "# labels = 2\n",
    "# device = torch.device(\"cuda:1\" if torch.cuda.is_available() else \"cpu\")\n",
    "# net = RNN(vocab_size=(vocab_size+1), embed_size=embedding_size,\n",
    "#                    num_hiddens=num_hiddens, num_layers=num_layers,\n",
    "#                    bidirectional=bidirectional, weight=w2v_weights,\n",
    "#                    labels=labels)\n",
    "\n",
    "# print(net)"
   ]
  },
  {
   "cell_type": "code",
   "execution_count": null,
   "metadata": {},
   "outputs": [],
   "source": [
    "# net.to(device)\n",
    "# loss_function = nn.CrossEntropyLoss() # ~ nn.LogSoftmax()+nn.NLLLoss()\n",
    "# optimizer = optim.Adam(net.parameters())\n",
    "\n",
    "# def train(net,num_epochs,loss_function,optimizer,train_iter,val_iter):\n",
    "#     for epoch in range(num_epochs):\n",
    "#         start = time.time()\n",
    "#         train_loss, val_losses = 0, 0\n",
    "#         train_acc, val_acc = 0, 0\n",
    "#         n, m = 0, 0\n",
    "#         net.train()\n",
    "#         for feature, label in train_iter:\n",
    "#             n += 1\n",
    "#             optimizer.zero_grad()\n",
    "#             feature = Variable(feature.to(device))\n",
    "#             label = Variable(label.to(device))\n",
    "\n",
    "#             score = net(feature)\n",
    "#             loss = loss_function(score, label)\n",
    "#             loss.backward()\n",
    "#             optimizer.step()\n",
    "#             train_acc += accuracy_score(torch.argmax(score.cpu().data,dim=1), label.cpu())\n",
    "#             train_loss += loss\n",
    "\n",
    "#         with torch.no_grad():\n",
    "#             net.eval()\n",
    "#             for val_feature, val_label in val_iter:\n",
    "#                 m += 1\n",
    "#                 val_feature = val_feature.to(device)\n",
    "#                 val_label = val_label.to(device)\n",
    "#                 val_score = net(val_feature)\n",
    "#                 val_loss = loss_function(val_score, val_label)\n",
    "#                 val_acc += accuracy_score(torch.argmax(val_score.cpu().data,dim=1), val_label.cpu())\n",
    "#                 val_losses += val_loss\n",
    "\n",
    "#         runtime = time.time() - start\n",
    "#         print('epoch: %d, train loss: %.4f, train acc: %.2f, val loss: %.4f, val acc: %.2f, time: %.2f' %\n",
    "#               (epoch, train_loss.data/n, train_acc/n, val_losses.data/m, val_acc/m, runtime))\n",
    "\n",
    "#     #save final model\n",
    "#     state = {\n",
    "#             'epoch': epoch,\n",
    "#             'state_dict': net.state_dict(),\n",
    "#             'optimizer': optimizer.state_dict()\n",
    "#             }\n",
    "#     torch.save(state, os.path.join(model_save_path,'last_model.pt'))\n",
    "\n",
    "\n",
    "# def predict(net,test_iter):\n",
    "#     #state = torch.load(os.path.join(cwd,'checkpoint','epoch10_maxlen300_embed200.pt'),map_location=torch.device('cpu'))\n",
    "#     #net.load_state_dict(state['state_dict'])\n",
    "#     pred_list = []\n",
    "#     true_list = []\n",
    "#     softmax = nn.Softmax(dim=1)\n",
    "#     with torch.no_grad():\n",
    "#         net.eval()\n",
    "#         for batch,label in test_iter:\n",
    "#             output = net(batch.to(device))\n",
    "#             pred_list.extend(torch.argmax(softmax(output),dim=1).cpu().numpy())\n",
    "#             true_list.extend(label.cpu().numpy())\n",
    "\n",
    "#     acc = accuracy_score(pred_list, true_list)\n",
    "#     print('test acc: %f'%acc)\n",
    "\n",
    "#     return acc,pred_list,true_list\n",
    "\n",
    "\n",
    "# print('start to train...')\n",
    "# train(net,num_epochs,loss_function,optimizer,train_iter,vali_iter)\n",
    "\n",
    "# print('start to predict test set...')\n",
    "# acc,pred_list,true_list = predict(net,test_iter)\n",
    "\n",
    "# print('Done')"
   ]
  },
  {
   "cell_type": "markdown",
   "metadata": {},
   "source": [
    "# Keras"
   ]
  },
  {
   "cell_type": "code",
   "execution_count": 24,
   "metadata": {
    "scrolled": true
   },
   "outputs": [
    {
     "data": {
      "text/plain": [
       "0     [3010, 47736, 9562, 268046, 1964, 0, 0, 0, 0, ...\n",
       "1     [11437, 18265, 0, 11, 4125, 189147, 17221, 236...\n",
       "2     [21003, 710567, 288420, 6824, 4911, 6824, 6804...\n",
       "3     [0, 0, 0, 0, 7513, 0, 0, 0, 6090, 0, 0, 22504,...\n",
       "4     [13585, 352, 4911, 90619, 13585, 3863, 22, 154...\n",
       "5     [2181, 117, 274147, 2104, 551, 268046, 274147,...\n",
       "6     [13419, 7928, 13585, 852301, 32964, 11917, 500...\n",
       "7     [468, 411, 1964, 0, 8270, 9562, 2130, 37902, 3...\n",
       "8     [13585, 4089, 4911, 2967, 928334, 1064, 0, 224...\n",
       "9     [8145, 67, 149, 0, 4911, 852301, 5701, 255305,...\n",
       "10    [368999, 0, 8618, 21, 0, 0, 3999, 36339, 8771,...\n",
       "11    [13585, 1298, 22, 10365, 0, 928334, 411, 323, ...\n",
       "12    [277, 962, 6113, 500766, 16, 606803, 317, 566,...\n",
       "13    [21, 2546, 539, 0, 50, 500766, 507, 3291, 1576...\n",
       "14    [468, 3177, 500766, 606803, 6557, 4395, 9562, ...\n",
       "15    [62525, 1273, 6824, 566, 5775, 302, 8380, 0, 0...\n",
       "16    [2503, 393624, 500766, 1113, 9562, 22, 411, 19...\n",
       "17    [36487, 411, 1964, 6824, 4911, 72, 7921, 13585...\n",
       "18    [0, 29396, 67, 37902, 1127, 2169, 852301, 0, 4...\n",
       "19    [2503, 1664, 23818, 579, 10459, 2882, 34520, 5...\n",
       "20    [36487, 19329, 1964, 481, 9562, 22, 11863, 219...\n",
       "21    [13585, 411, 13585, 928334, 689, 2873, 99, 852...\n",
       "22    [13585, 268046, 892504, 3733, 1723, 1896, 1996...\n",
       "23    [5474, 1823, 99, 25604, 268046, 0, 434922, 589...\n",
       "24    [274147, 7337, 0, 693, 34, 58659, 187442, 5007...\n",
       "25    [582946, 18170, 852301, 0, 7576, 393624, 40719...\n",
       "26    [105, 1184, 1610, 187442, 866, 0, 852301, 1019...\n",
       "27    [13585, 852301, 84295, 0, 0, 4219, 13585, 1036...\n",
       "28    [1592, 9454, 37902, 9454, 37902, 2724, 13, 210...\n",
       "29    [2503, 82683, 127, 9562, 1907, 105, 5444, 8523...\n",
       "30    [7252, 274147, 16, 0, 21, 34, 0, 17926, 0, 135...\n",
       "31    [411, 164091, 10, 606803, 8, 5519, 35149, 0, 8...\n",
       "32    [0, 121562, 0, 0, 0, 60695, 0, 0, 0, 181, 4604...\n",
       "33    [0, 268046, 13585, 550840, 852301, 34485, 0, 0...\n",
       "34    [37902, 899, 0, 274147, 12131, 39483, 25604, 5...\n",
       "35    [10365, 0, 411, 7591, 852301, 290, 903, 0, 125...\n",
       "36    [13585, 3363, 16900, 1738, 268046, 6286, 1738,...\n",
       "37    [566, 21448, 25604, 8618, 23818, 406830, 6662,...\n",
       "38    [436, 127725, 58997, 60, 14238, 852301, 809, 2...\n",
       "39    [0, 10, 816, 1474, 37902, 966, 36487, 8270, 13...\n",
       "40    [0, 8618, 21, 18878, 23818, 8435, 10459, 0, 86...\n",
       "41    [2181, 9051, 5781, 245, 0, 2730, 67, 566, 2307...\n",
       "Name: word_vec, dtype: object"
      ]
     },
     "execution_count": 24,
     "metadata": {},
     "output_type": "execute_result"
    }
   ],
   "source": [
    "x_train = train['word_vec']\n",
    "x_val = val['word_vec']\n",
    "x_test = test['word_vec']\n",
    "x_val"
   ]
  },
  {
   "cell_type": "code",
   "execution_count": 25,
   "metadata": {},
   "outputs": [
    {
     "data": {
      "text/plain": [
       "array([1, 1, 1, 1, 1, 1, 1, 1, 1, 1, 1, 1, 1, 1, 1, 1, 1, 1, 1, 1, 1, 0,\n",
       "       0, 0, 0, 0, 0, 0, 0, 0, 0, 0, 0, 0, 0, 0, 0, 0, 0, 0, 0, 0])"
      ]
     },
     "execution_count": 25,
     "metadata": {},
     "output_type": "execute_result"
    }
   ],
   "source": [
    "# label_vec\n",
    "y_train = np.asarray(train['Label'])\n",
    "y_val = np.asarray(val['Label'])\n",
    "y_test = np.asarray(test['Label'])\n",
    "y_val"
   ]
  },
  {
   "cell_type": "code",
   "execution_count": 26,
   "metadata": {
    "scrolled": true
   },
   "outputs": [
    {
     "name": "stderr",
     "output_type": "stream",
     "text": [
      "Using TensorFlow backend.\n"
     ]
    }
   ],
   "source": [
    "# 建立 LSTM 架構\n",
    "from keras import Input, losses, metrics\n",
    "from keras.layers import Embedding, LSTM, concatenate, Dense, Bidirectional\n",
    "from keras.models import Model, load_model\n",
    "from keras.models import Sequential\n",
    "from keras.preprocessing.sequence import pad_sequences\n",
    "import matplotlib.pyplot as plt"
   ]
  },
  {
   "cell_type": "code",
   "execution_count": 27,
   "metadata": {},
   "outputs": [],
   "source": [
    "# Sequences will be padded or truncated to this length\n",
    "MAX_SEQUENCE_LENGTH = 250\n",
    "\n",
    "input = Input(\n",
    "    shape=(MAX_SEQUENCE_LENGTH, ), \n",
    "    dtype='int32')"
   ]
  },
  {
   "cell_type": "code",
   "execution_count": 28,
   "metadata": {},
   "outputs": [
    {
     "data": {
      "text/plain": [
       "250"
      ]
     },
     "execution_count": 28,
     "metadata": {},
     "output_type": "execute_result"
    }
   ],
   "source": [
    "x_train = pad_sequences(x_train, maxlen=MAX_SEQUENCE_LENGTH, padding='post', value=0)\n",
    "x_val = pad_sequences(x_val, maxlen=MAX_SEQUENCE_LENGTH, padding='post', value=0)\n",
    "x_test = pad_sequences(x_test, maxlen=MAX_SEQUENCE_LENGTH, padding='post', value=0)\n",
    "len(x_val[0])"
   ]
  },
  {
   "cell_type": "code",
   "execution_count": 25,
   "metadata": {},
   "outputs": [],
   "source": [
    "# del model"
   ]
  },
  {
   "cell_type": "code",
   "execution_count": 31,
   "metadata": {},
   "outputs": [
    {
     "name": "stdout",
     "output_type": "stream",
     "text": [
      "Train on 375 samples, validate on 42 samples\n",
      "Epoch 1/10\n",
      "375/375 [==============================] - 13s 35ms/step - loss: 0.7001 - binary_accuracy: 0.4747 - val_loss: 0.6829 - val_binary_accuracy: 0.5714\n",
      "Epoch 2/10\n",
      "375/375 [==============================] - 7s 18ms/step - loss: 0.6478 - binary_accuracy: 0.6800 - val_loss: 0.6719 - val_binary_accuracy: 0.5714\n",
      "Epoch 3/10\n",
      "375/375 [==============================] - 12s 31ms/step - loss: 0.5949 - binary_accuracy: 0.7333 - val_loss: 0.6494 - val_binary_accuracy: 0.7143\n",
      "Epoch 4/10\n",
      "375/375 [==============================] - 14s 37ms/step - loss: 0.5332 - binary_accuracy: 0.7733 - val_loss: 0.7048 - val_binary_accuracy: 0.6190\n",
      "Epoch 5/10\n",
      "375/375 [==============================] - 16s 43ms/step - loss: 0.5083 - binary_accuracy: 0.7653 - val_loss: 0.6255 - val_binary_accuracy: 0.7143\n",
      "Epoch 6/10\n",
      "375/375 [==============================] - 12s 31ms/step - loss: 0.4888 - binary_accuracy: 0.7760 - val_loss: 0.6192 - val_binary_accuracy: 0.7143\n",
      "Epoch 7/10\n",
      "375/375 [==============================] - 7s 18ms/step - loss: 0.3858 - binary_accuracy: 0.8400 - val_loss: 0.5958 - val_binary_accuracy: 0.7143\n",
      "Epoch 8/10\n",
      "375/375 [==============================] - 13s 34ms/step - loss: 0.3611 - binary_accuracy: 0.8427 - val_loss: 0.6033 - val_binary_accuracy: 0.7619\n",
      "Epoch 9/10\n",
      "375/375 [==============================] - 6s 17ms/step - loss: 0.3340 - binary_accuracy: 0.8747 - val_loss: 0.6097 - val_binary_accuracy: 0.6905\n",
      "Epoch 10/10\n",
      "375/375 [==============================] - 6s 16ms/step - loss: 0.2889 - binary_accuracy: 0.8880 - val_loss: 0.5902 - val_binary_accuracy: 0.7619\n"
     ]
    }
   ],
   "source": [
    "# Keras Embedding layer with Word2Vec weights initialization\n",
    "model = Sequential()\n",
    "model.add(Embedding(input_dim=vocab_size,\n",
    "                    output_dim=embedding_size,\n",
    "                    weights=[w2v_weights],\n",
    "                    input_length=MAX_SEQUENCE_LENGTH,\n",
    "                    mask_zero=True,\n",
    "                    trainable=False))\n",
    "\n",
    "model.add(Bidirectional(LSTM(125)))\n",
    "model.add(Dense(16, activation='relu'))\n",
    "model.add(Dense(units=1, activation='sigmoid'))\n",
    "\n",
    "model.compile(optimizer='adam', loss=losses.binary_crossentropy, metrics=[metrics.binary_accuracy])\n",
    "\n",
    "history = model.fit(x_train, y_train, epochs=10, batch_size=114,\n",
    "                    validation_data=(x_val, y_val), verbose=1)"
   ]
  },
  {
   "cell_type": "code",
   "execution_count": 38,
   "metadata": {},
   "outputs": [],
   "source": [
    "#model.save('lstm_635.h5')"
   ]
  },
  {
   "cell_type": "code",
   "execution_count": 4,
   "metadata": {},
   "outputs": [
    {
     "name": "stdout",
     "output_type": "stream",
     "text": [
      "WARNING:tensorflow:From /home/ubuntu-gpu/anaconda3/envs/trainEnv/lib/python3.7/site-packages/tensorflow/python/keras/backend.py:3794: add_dispatch_support.<locals>.wrapper (from tensorflow.python.ops.array_ops) is deprecated and will be removed in a future version.\n",
      "Instructions for updating:\n",
      "Use tf.where in 2.0, which has the same broadcast rule as np.where\n",
      "WARNING:tensorflow:From /home/ubuntu-gpu/anaconda3/envs/trainEnv/lib/python3.7/site-packages/keras/backend/tensorflow_backend.py:422: The name tf.global_variables is deprecated. Please use tf.compat.v1.global_variables instead.\n",
      "\n",
      "Model: \"sequential_4\"\n",
      "_________________________________________________________________\n",
      "Layer (type)                 Output Shape              Param #   \n",
      "=================================================================\n",
      "embedding_4 (Embedding)      (None, 250, 250)          220989500 \n",
      "_________________________________________________________________\n",
      "bidirectional_4 (Bidirection (None, 250)               376000    \n",
      "_________________________________________________________________\n",
      "dense_3 (Dense)              (None, 16)                4016      \n",
      "_________________________________________________________________\n",
      "dense_4 (Dense)              (None, 1)                 17        \n",
      "=================================================================\n",
      "Total params: 221,369,533\n",
      "Trainable params: 380,033\n",
      "Non-trainable params: 220,989,500\n",
      "_________________________________________________________________\n"
     ]
    }
   ],
   "source": [
    "model = load_model('lstm_635.h5')\n",
    "model.summary()"
   ]
  },
  {
   "cell_type": "code",
   "execution_count": 32,
   "metadata": {},
   "outputs": [
    {
     "data": {
      "image/png": "[encoded data removed]",
      "text/plain": [
       "<Figure size 720x720 with 1 Axes>"
      ]
     },
     "metadata": {
      "needs_background": "light"
     },
     "output_type": "display_data"
    },
    {
     "data": {
      "image/png": "[encoded data removed]",
      "text/plain": [
       "<Figure size 864x864 with 1 Axes>"
      ]
     },
     "metadata": {
      "needs_background": "light"
     },
     "output_type": "display_data"
    }
   ],
   "source": [
    "# Plotting Loss and Accuracy Graphs\n",
    "plt.figure(figsize=(10, 10))\n",
    "plt.plot(history.history['loss'])\n",
    "plt.plot(history.history['val_loss'])\n",
    "plt.title('Loss')\n",
    "plt.legend(['train', 'val'], loc='upper left')\n",
    "plt.show()\n",
    "\n",
    "plt.figure(figsize=(12, 12))\n",
    "plt.plot(history.history['binary_accuracy'])\n",
    "plt.plot(history.history['val_binary_accuracy'])\n",
    "plt.title('Accuracy')\n",
    "plt.legend(['train', 'val'], loc='upper left')\n",
    "plt.show()"
   ]
  },
  {
   "cell_type": "code",
   "execution_count": 33,
   "metadata": {},
   "outputs": [],
   "source": [
    "from sklearn.metrics import classification_report\n",
    "import itertools\n",
    "from sklearn.metrics import confusion_matrix"
   ]
  },
  {
   "cell_type": "code",
   "execution_count": 34,
   "metadata": {
    "scrolled": true
   },
   "outputs": [
    {
     "data": {
      "text/plain": [
       "array([[0.5746208 ],\n",
       "       [0.10834089],\n",
       "       [0.11915174],\n",
       "       [0.81216586],\n",
       "       [0.9657968 ],\n",
       "       [0.96674573],\n",
       "       [0.38147217],\n",
       "       [0.16760299],\n",
       "       [0.25107732],\n",
       "       [0.7876576 ],\n",
       "       [0.7739028 ],\n",
       "       [0.7953123 ],\n",
       "       [0.88392556],\n",
       "       [0.95651555],\n",
       "       [0.9172292 ],\n",
       "       [0.96282935],\n",
       "       [0.71252656],\n",
       "       [0.5873734 ],\n",
       "       [0.94678915],\n",
       "       [0.3746267 ],\n",
       "       [0.22430298],\n",
       "       [0.08523712],\n",
       "       [0.05792916],\n",
       "       [0.89034843],\n",
       "       [0.0267781 ],\n",
       "       [0.8642738 ],\n",
       "       [0.3917554 ],\n",
       "       [0.8104831 ],\n",
       "       [0.9050622 ],\n",
       "       [0.8407141 ],\n",
       "       [0.22537982],\n",
       "       [0.9896333 ],\n",
       "       [0.7268631 ],\n",
       "       [0.94197845],\n",
       "       [0.8830228 ],\n",
       "       [0.0876869 ],\n",
       "       [0.89536816],\n",
       "       [0.08264175],\n",
       "       [0.8156243 ],\n",
       "       [0.5387742 ],\n",
       "       [0.18945089],\n",
       "       [0.9049673 ],\n",
       "       [0.25424471],\n",
       "       [0.55948025],\n",
       "       [0.96233535],\n",
       "       [0.43597683],\n",
       "       [0.89104074],\n",
       "       [0.42342424],\n",
       "       [0.92077005],\n",
       "       [0.91979706],\n",
       "       [0.8735073 ],\n",
       "       [0.89773047],\n",
       "       [0.10515413],\n",
       "       [0.91720974],\n",
       "       [0.8288826 ],\n",
       "       [0.9645513 ],\n",
       "       [0.47310865],\n",
       "       [0.4121684 ],\n",
       "       [0.65625185],\n",
       "       [0.5580713 ],\n",
       "       [0.8833524 ],\n",
       "       [0.9673214 ],\n",
       "       [0.14188823],\n",
       "       [0.03187099],\n",
       "       [0.9077181 ],\n",
       "       [0.9493725 ],\n",
       "       [0.09014511],\n",
       "       [0.97946596],\n",
       "       [0.8788716 ],\n",
       "       [0.97929204],\n",
       "       [0.08510607],\n",
       "       [0.25981784],\n",
       "       [0.8714311 ],\n",
       "       [0.851694  ],\n",
       "       [0.53041136],\n",
       "       [0.63785285],\n",
       "       [0.5821563 ],\n",
       "       [0.44469574],\n",
       "       [0.05594027],\n",
       "       [0.12146875],\n",
       "       [0.9286187 ],\n",
       "       [0.50715107],\n",
       "       [0.93944556],\n",
       "       [0.08788458],\n",
       "       [0.53428566],\n",
       "       [0.45341325],\n",
       "       [0.91580003],\n",
       "       [0.95752287],\n",
       "       [0.03464106],\n",
       "       [0.04615349],\n",
       "       [0.00913754],\n",
       "       [0.03668144],\n",
       "       [0.27290797],\n",
       "       [0.09440157],\n",
       "       [0.22521633],\n",
       "       [0.10863569],\n",
       "       [0.54423124],\n",
       "       [0.10894373],\n",
       "       [0.08662263],\n",
       "       [0.12243915],\n",
       "       [0.12204641],\n",
       "       [0.09937871],\n",
       "       [0.44882458],\n",
       "       [0.9471493 ],\n",
       "       [0.08374453],\n",
       "       [0.15798095],\n",
       "       [0.0467509 ],\n",
       "       [0.01601571],\n",
       "       [0.48648804],\n",
       "       [0.35290405],\n",
       "       [0.19629937],\n",
       "       [0.68020844],\n",
       "       [0.5286518 ],\n",
       "       [0.8462424 ],\n",
       "       [0.8494579 ],\n",
       "       [0.26367927],\n",
       "       [0.15275845],\n",
       "       [0.7767403 ],\n",
       "       [0.3714394 ],\n",
       "       [0.22019804],\n",
       "       [0.21418262],\n",
       "       [0.50652385],\n",
       "       [0.69487643],\n",
       "       [0.09093079],\n",
       "       [0.8567574 ],\n",
       "       [0.81638277],\n",
       "       [0.20795336],\n",
       "       [0.42099172],\n",
       "       [0.4364364 ],\n",
       "       [0.08570245],\n",
       "       [0.41198498],\n",
       "       [0.7528542 ],\n",
       "       [0.04514256],\n",
       "       [0.02397427],\n",
       "       [0.16779196],\n",
       "       [0.12789223],\n",
       "       [0.26052064],\n",
       "       [0.12243915],\n",
       "       [0.08537066],\n",
       "       [0.8470726 ],\n",
       "       [0.02692348],\n",
       "       [0.16793466],\n",
       "       [0.02953172],\n",
       "       [0.04763675],\n",
       "       [0.01913303],\n",
       "       [0.0512718 ],\n",
       "       [0.5537957 ],\n",
       "       [0.49850425],\n",
       "       [0.03988686],\n",
       "       [0.43889582],\n",
       "       [0.00832844],\n",
       "       [0.6805487 ],\n",
       "       [0.35290423],\n",
       "       [0.19216067],\n",
       "       [0.37459028],\n",
       "       [0.72954535],\n",
       "       [0.02598357],\n",
       "       [0.5903039 ],\n",
       "       [0.4250623 ],\n",
       "       [0.61491233],\n",
       "       [0.5814379 ],\n",
       "       [0.03559664],\n",
       "       [0.58702135],\n",
       "       [0.02098906],\n",
       "       [0.68509007],\n",
       "       [0.6410593 ],\n",
       "       [0.04004118],\n",
       "       [0.7379609 ],\n",
       "       [0.9141433 ],\n",
       "       [0.7613055 ],\n",
       "       [0.40593094],\n",
       "       [0.81978554],\n",
       "       [0.9268348 ],\n",
       "       [0.14648324],\n",
       "       [0.03496662],\n",
       "       [0.15465802],\n",
       "       [0.9682635 ],\n",
       "       [0.04187639]], dtype=float32)"
      ]
     },
     "execution_count": 34,
     "metadata": {},
     "output_type": "execute_result"
    }
   ],
   "source": [
    "y_predict = model.predict(x_test, batch_size=None, verbose=0, steps=None)\n",
    "y_predict"
   ]
  },
  {
   "cell_type": "code",
   "execution_count": 35,
   "metadata": {
    "scrolled": true
   },
   "outputs": [
    {
     "data": {
      "text/plain": [
       "[1,\n",
       " 0,\n",
       " 0,\n",
       " 1,\n",
       " 1,\n",
       " 1,\n",
       " 0,\n",
       " 0,\n",
       " 0,\n",
       " 1,\n",
       " 1,\n",
       " 1,\n",
       " 1,\n",
       " 1,\n",
       " 1,\n",
       " 1,\n",
       " 1,\n",
       " 1,\n",
       " 1,\n",
       " 0,\n",
       " 0,\n",
       " 0,\n",
       " 0,\n",
       " 1,\n",
       " 0,\n",
       " 1,\n",
       " 0,\n",
       " 1,\n",
       " 1,\n",
       " 1,\n",
       " 0,\n",
       " 1,\n",
       " 1,\n",
       " 1,\n",
       " 1,\n",
       " 0,\n",
       " 1,\n",
       " 0,\n",
       " 1,\n",
       " 1,\n",
       " 0,\n",
       " 1,\n",
       " 0,\n",
       " 1,\n",
       " 1,\n",
       " 0,\n",
       " 1,\n",
       " 0,\n",
       " 1,\n",
       " 1,\n",
       " 1,\n",
       " 1,\n",
       " 0,\n",
       " 1,\n",
       " 1,\n",
       " 1,\n",
       " 0,\n",
       " 0,\n",
       " 1,\n",
       " 1,\n",
       " 1,\n",
       " 1,\n",
       " 0,\n",
       " 0,\n",
       " 1,\n",
       " 1,\n",
       " 0,\n",
       " 1,\n",
       " 1,\n",
       " 1,\n",
       " 0,\n",
       " 0,\n",
       " 1,\n",
       " 1,\n",
       " 1,\n",
       " 1,\n",
       " 1,\n",
       " 0,\n",
       " 0,\n",
       " 0,\n",
       " 1,\n",
       " 1,\n",
       " 1,\n",
       " 0,\n",
       " 1,\n",
       " 0,\n",
       " 1,\n",
       " 1,\n",
       " 0,\n",
       " 0,\n",
       " 0,\n",
       " 0,\n",
       " 0,\n",
       " 0,\n",
       " 0,\n",
       " 0,\n",
       " 1,\n",
       " 0,\n",
       " 0,\n",
       " 0,\n",
       " 0,\n",
       " 0,\n",
       " 0,\n",
       " 1,\n",
       " 0,\n",
       " 0,\n",
       " 0,\n",
       " 0,\n",
       " 0,\n",
       " 0,\n",
       " 0,\n",
       " 1,\n",
       " 1,\n",
       " 1,\n",
       " 1,\n",
       " 0,\n",
       " 0,\n",
       " 1,\n",
       " 0,\n",
       " 0,\n",
       " 0,\n",
       " 1,\n",
       " 1,\n",
       " 0,\n",
       " 1,\n",
       " 1,\n",
       " 0,\n",
       " 0,\n",
       " 0,\n",
       " 0,\n",
       " 0,\n",
       " 1,\n",
       " 0,\n",
       " 0,\n",
       " 0,\n",
       " 0,\n",
       " 0,\n",
       " 0,\n",
       " 0,\n",
       " 1,\n",
       " 0,\n",
       " 0,\n",
       " 0,\n",
       " 0,\n",
       " 0,\n",
       " 0,\n",
       " 1,\n",
       " 0,\n",
       " 0,\n",
       " 0,\n",
       " 0,\n",
       " 1,\n",
       " 0,\n",
       " 0,\n",
       " 0,\n",
       " 1,\n",
       " 0,\n",
       " 1,\n",
       " 0,\n",
       " 1,\n",
       " 1,\n",
       " 0,\n",
       " 1,\n",
       " 0,\n",
       " 1,\n",
       " 1,\n",
       " 0,\n",
       " 1,\n",
       " 1,\n",
       " 1,\n",
       " 0,\n",
       " 1,\n",
       " 1,\n",
       " 0,\n",
       " 0,\n",
       " 0,\n",
       " 1,\n",
       " 0]"
      ]
     },
     "execution_count": 35,
     "metadata": {},
     "output_type": "execute_result"
    }
   ],
   "source": [
    "predict = []\n",
    "for i in range(len(y_predict)):\n",
    "    if y_predict[i] > 0.5:\n",
    "        predict.append(1)\n",
    "    else:\n",
    "        predict.append(0)\n",
    "        \n",
    "predict"
   ]
  },
  {
   "cell_type": "code",
   "execution_count": 36,
   "metadata": {},
   "outputs": [
    {
     "name": "stdout",
     "output_type": "stream",
     "text": [
      "accuracy score: 0.6685393258426966\n",
      "Confusion matrix : \n",
      " [[57 31]\n",
      " [28 62]]\n"
     ]
    }
   ],
   "source": [
    "# confusion matrix\n",
    "matrix = confusion_matrix(y_test,predict, labels=[1,0])\n",
    "print(\"accuracy score:\", accuracy_score(y_test, predict))\n",
    "print('Confusion matrix : \\n',matrix)"
   ]
  },
  {
   "cell_type": "code",
   "execution_count": 37,
   "metadata": {},
   "outputs": [
    {
     "name": "stdout",
     "output_type": "stream",
     "text": [
      "Classification report : \n",
      "               precision    recall  f1-score   support\n",
      "\n",
      "           1       0.67      0.65      0.66        88\n",
      "           0       0.67      0.69      0.68        90\n",
      "\n",
      "    accuracy                           0.67       178\n",
      "   macro avg       0.67      0.67      0.67       178\n",
      "weighted avg       0.67      0.67      0.67       178\n",
      "\n"
     ]
    }
   ],
   "source": [
    "# classification report for precision, recall f1-score and accuracy\n",
    "matrix = classification_report(y_test,predict,labels=[1,0])\n",
    "print('Classification report : \\n',matrix)"
   ]
  },
  {
   "cell_type": "code",
   "execution_count": 118,
   "metadata": {},
   "outputs": [],
   "source": [
    "def plot_confusion_matrix(cm, classes,\n",
    "                          normalize=False,\n",
    "                          title='Confusion matrix',\n",
    "                          cmap=plt.cm.Oranges):\n",
    "    \"\"\"\n",
    "    This function prints and plots the confusion matrix.\n",
    "    Normalization can be applied by setting `normalize=True`.\n",
    "    \"\"\"\n",
    "    if normalize:\n",
    "        cm = cm.astype('float') / cm.sum(axis=1)[:, np.newaxis]\n",
    "        print(\"Normalized confusion matrix\")\n",
    "    else:\n",
    "        print('Confusion matrix, without normalization')\n",
    "\n",
    "    print(cm)\n",
    "\n",
    "    plt.imshow(cm, interpolation='nearest', cmap=cmap)\n",
    "    plt.title(title)\n",
    "    plt.colorbar()\n",
    "    tick_marks = np.arange(len(classes))\n",
    "    plt.xticks(tick_marks, classes, rotation=45)\n",
    "    plt.yticks(tick_marks, classes)\n",
    "\n",
    "    fmt = '.2f' if normalize else 'd'\n",
    "    thresh = cm.max() / 2.\n",
    "    for i, j in itertools.product(range(cm.shape[0]), range(cm.shape[1])):\n",
    "        plt.text(j, i, format(cm[i, j], fmt),\n",
    "                 horizontalalignment=\"center\",\n",
    "                 color=\"white\" if cm[i, j] > thresh else \"black\")\n",
    "\n",
    "    plt.ylabel('True label')\n",
    "    plt.xlabel('Predicted label')\n",
    "    plt.tight_layout()"
   ]
  },
  {
   "cell_type": "code",
   "execution_count": 119,
   "metadata": {},
   "outputs": [
    {
     "name": "stdout",
     "output_type": "stream",
     "text": [
      "Normalized confusion matrix\n",
      "[[1. 0.]\n",
      " [1. 0.]]\n"
     ]
    },
    {
     "data": {
      "image/png": "[encoded data removed]",
      "text/plain": [
       "<Figure size 432x288 with 2 Axes>"
      ]
     },
     "metadata": {
      "needs_background": "light"
     },
     "output_type": "display_data"
    }
   ],
   "source": [
    "y_pred = predict\n",
    "\n",
    "#y_pred = convert_to_labels(y_predict)\n",
    "y_true = y_test\n",
    "target_names = [ 'Suicide_pos','Suicide_neg']\n",
    "#print(classification_report(y_true, y_pred, target_names=target_names))\n",
    "\n",
    "plt.figure()\n",
    "cnf_matrix = confusion_matrix(y_true, y_pred)\n",
    "plot_confusion_matrix(cnf_matrix, classes=target_names,normalize=True)\n",
    "\n",
    "plt.show()"
   ]
  },
  {
   "cell_type": "code",
   "execution_count": null,
   "metadata": {},
   "outputs": [],
   "source": []
  }
 ],
 "metadata": {
  "kernelspec": {
   "display_name": "LSTM",
   "language": "python",
   "name": "lstm"
  },
  "language_info": {
   "codemirror_mode": {
    "name": "ipython",
    "version": 3
   },
   "file_extension": ".py",
   "mimetype": "text/x-python",
   "name": "python",
   "nbconvert_exporter": "python",
   "pygments_lexer": "ipython3",
   "version": "3.7.9"
  }
 },
 "nbformat": 4,
 "nbformat_minor": 4
}
