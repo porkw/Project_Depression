{
 "cells": [
  {
   "cell_type": "code",
   "execution_count": 82,
   "metadata": {},
   "outputs": [],
   "source": [
    "import logging\n",
    "import pandas as pd\n",
    "import numpy as np\n",
    "import jieba\n",
    "from gensim.models import word2vec"
   ]
  },
  {
   "cell_type": "code",
   "execution_count": 2,
   "metadata": {},
   "outputs": [],
   "source": [
    "import torch\n",
    "import torch.nn as nn\n",
    "import torch.nn.functional as F\n",
    "import torch.optim as optim\n",
    "import time\n",
    "from torch.autograd import Variable\n",
    "from sklearn.metrics import accuracy_score"
   ]
  },
  {
   "cell_type": "markdown",
   "metadata": {},
   "source": [
    "## w2v"
   ]
  },
  {
   "cell_type": "code",
   "execution_count": 149,
   "metadata": {},
   "outputs": [
    {
     "data": {
      "text/html": [
       "<div>\n",
       "<style scoped>\n",
       "    .dataframe tbody tr th:only-of-type {\n",
       "        vertical-align: middle;\n",
       "    }\n",
       "\n",
       "    .dataframe tbody tr th {\n",
       "        vertical-align: top;\n",
       "    }\n",
       "\n",
       "    .dataframe thead th {\n",
       "        text-align: right;\n",
       "    }\n",
       "</style>\n",
       "<table border=\"1\" class=\"dataframe\">\n",
       "  <thead>\n",
       "    <tr style=\"text-align: right;\">\n",
       "      <th></th>\n",
       "      <th>content</th>\n",
       "      <th>Label</th>\n",
       "    </tr>\n",
       "  </thead>\n",
       "  <tbody>\n",
       "    <tr>\n",
       "      <th>0</th>\n",
       "      <td>我有個國小認識的好朋友，上了大學後常常會跟我訴苦，大多是關於人際關係的他個性比較內向，不容易...</td>\n",
       "      <td>0</td>\n",
       "    </tr>\n",
       "    <tr>\n",
       "      <th>1</th>\n",
       "      <td>(第一人稱視角，)媽媽跟爸爸從我出生就感情不好 所以國小時離婚了我喜歡媽媽 不喜歡爸爸但我們...</td>\n",
       "      <td>1</td>\n",
       "    </tr>\n",
       "    <tr>\n",
       "      <th>2</th>\n",
       "      <td>我的前任在自殺前一周突然幫我慶生，一天前找我出門玩，再一聲不吭的自我了斷，給我很大的陰影。現...</td>\n",
       "      <td>0</td>\n",
       "    </tr>\n",
       "    <tr>\n",
       "      <th>3</th>\n",
       "      <td>身為一個亞斯伯格症的人看到這則新聞還蠻難過的首先我可以理解家長看到自己小孩無緣無故被攻擊而想...</td>\n",
       "      <td>0</td>\n",
       "    </tr>\n",
       "    <tr>\n",
       "      <th>4</th>\n",
       "      <td>真的很長，防雷。26個年頭來，經歷了大小事情。媽媽在國小開始因為經濟不景氣、收店的壓力、被朋...</td>\n",
       "      <td>0</td>\n",
       "    </tr>\n",
       "    <tr>\n",
       "      <th>...</th>\n",
       "      <td>...</td>\n",
       "      <td>...</td>\n",
       "    </tr>\n",
       "    <tr>\n",
       "      <th>249</th>\n",
       "      <td>我是1995年出生，我妹則是1999年出生，過去這兩年我們家歷經了非常嚴重的衝突。我和我妹都...</td>\n",
       "      <td>0</td>\n",
       "    </tr>\n",
       "    <tr>\n",
       "      <th>250</th>\n",
       "      <td>我有個水瓶男好朋友他會跟我說相處自在點他都是想怎樣就怎樣很隨性我也有點這樣所以我們才能成為好...</td>\n",
       "      <td>0</td>\n",
       "    </tr>\n",
       "    <tr>\n",
       "      <th>251</th>\n",
       "      <td>如題小時候我真的是活在陰影下...從我有印象第一次被打的那時候開始講吧！那時我才國中一年級 ...</td>\n",
       "      <td>0</td>\n",
       "    </tr>\n",
       "    <tr>\n",
       "      <th>252</th>\n",
       "      <td>如標題我現在已經滿20了，我家在北部但是在外縣市讀書當初高中填志願的時候就是為了逃離我媽才把...</td>\n",
       "      <td>0</td>\n",
       "    </tr>\n",
       "    <tr>\n",
       "      <th>253</th>\n",
       "      <td>到了出事我才徹底知道：就算沒有抑鬱憂鬱，還是可能有自殺的念頭只是可能不是為了脫離痛苦，而是想...</td>\n",
       "      <td>0</td>\n",
       "    </tr>\n",
       "  </tbody>\n",
       "</table>\n",
       "<p>254 rows × 2 columns</p>\n",
       "</div>"
      ],
      "text/plain": [
       "                                               content  Label\n",
       "0    我有個國小認識的好朋友，上了大學後常常會跟我訴苦，大多是關於人際關係的他個性比較內向，不容易...      0\n",
       "1    (第一人稱視角，)媽媽跟爸爸從我出生就感情不好 所以國小時離婚了我喜歡媽媽 不喜歡爸爸但我們...      1\n",
       "2    我的前任在自殺前一周突然幫我慶生，一天前找我出門玩，再一聲不吭的自我了斷，給我很大的陰影。現...      0\n",
       "3    身為一個亞斯伯格症的人看到這則新聞還蠻難過的首先我可以理解家長看到自己小孩無緣無故被攻擊而想...      0\n",
       "4    真的很長，防雷。26個年頭來，經歷了大小事情。媽媽在國小開始因為經濟不景氣、收店的壓力、被朋...      0\n",
       "..                                                 ...    ...\n",
       "249  我是1995年出生，我妹則是1999年出生，過去這兩年我們家歷經了非常嚴重的衝突。我和我妹都...      0\n",
       "250  我有個水瓶男好朋友他會跟我說相處自在點他都是想怎樣就怎樣很隨性我也有點這樣所以我們才能成為好...      0\n",
       "251  如題小時候我真的是活在陰影下...從我有印象第一次被打的那時候開始講吧！那時我才國中一年級 ...      0\n",
       "252  如標題我現在已經滿20了，我家在北部但是在外縣市讀書當初高中填志願的時候就是為了逃離我媽才把...      0\n",
       "253  到了出事我才徹底知道：就算沒有抑鬱憂鬱，還是可能有自殺的念頭只是可能不是為了脫離痛苦，而是想...      0\n",
       "\n",
       "[254 rows x 2 columns]"
      ]
     },
     "execution_count": 149,
     "metadata": {},
     "output_type": "execute_result"
    }
   ],
   "source": [
    "# Loading dataset\n",
    "train = pd.read_csv('train.csv')\n",
    "train\n",
    "val = pd.read_csv('validation.csv')\n",
    "val"
   ]
  },
  {
   "cell_type": "code",
   "execution_count": 150,
   "metadata": {
    "scrolled": true
   },
   "outputs": [
    {
     "data": {
      "text/html": [
       "<div>\n",
       "<style scoped>\n",
       "    .dataframe tbody tr th:only-of-type {\n",
       "        vertical-align: middle;\n",
       "    }\n",
       "\n",
       "    .dataframe tbody tr th {\n",
       "        vertical-align: top;\n",
       "    }\n",
       "\n",
       "    .dataframe thead th {\n",
       "        text-align: right;\n",
       "    }\n",
       "</style>\n",
       "<table border=\"1\" class=\"dataframe\">\n",
       "  <thead>\n",
       "    <tr style=\"text-align: right;\">\n",
       "      <th></th>\n",
       "      <th>Content</th>\n",
       "      <th>Label</th>\n",
       "    </tr>\n",
       "  </thead>\n",
       "  <tbody>\n",
       "    <tr>\n",
       "      <th>0</th>\n",
       "      <td>仙草加蜂蜜好好吃！等下再去市場買一塊大仙草~吃吃吃好像把今天的熱量扣打吃完了-----Sen...</td>\n",
       "      <td>0</td>\n",
       "    </tr>\n",
       "    <tr>\n",
       "      <th>1</th>\n",
       "      <td>啊啊啊 邁入老女人的里程碑了今天本來想請假的但被同事搶先了然後從禮拜六開始爸爸媽媽就滿滿的情...</td>\n",
       "      <td>0</td>\n",
       "    </tr>\n",
       "    <tr>\n",
       "      <th>2</th>\n",
       "      <td>今天同事提出，覺得我有點過度依賴男友了不是第一個人說出這個問題其實早在交往的一開始我自己就察...</td>\n",
       "      <td>0</td>\n",
       "    </tr>\n",
       "    <tr>\n",
       "      <th>3</th>\n",
       "      <td>開始停速悅的這幾天我還是會吃安立平總覺得現在除了心悸手抖頭很重以外一直還有個在耳邊敲打小軍鼓...</td>\n",
       "      <td>0</td>\n",
       "    </tr>\n",
       "    <tr>\n",
       "      <th>4</th>\n",
       "      <td>我覺得有些善意的謊言是可以說的就是那些不會被揭穿的但有一些是一定會被揭穿「你狀態不好的時侯可...</td>\n",
       "      <td>0</td>\n",
       "    </tr>\n",
       "    <tr>\n",
       "      <th>...</th>\n",
       "      <td>...</td>\n",
       "      <td>...</td>\n",
       "    </tr>\n",
       "    <tr>\n",
       "      <th>298</th>\n",
       "      <td>很想一走了之。從人生這場遊戲登出。去年以前，厭食了6年去年開始暴食。或許我恨的是自己所以什麼...</td>\n",
       "      <td>1</td>\n",
       "    </tr>\n",
       "    <tr>\n",
       "      <th>299</th>\n",
       "      <td>要嘛給我愛，要嘛給我錢，要嘛給我滾。其實你連當炮友的資格都沒有，憑什麼跟我談戀愛？無法給我愛...</td>\n",
       "      <td>1</td>\n",
       "    </tr>\n",
       "    <tr>\n",
       "      <th>300</th>\n",
       "      <td>以為可以好一陣子不用上來發文了生命又再次賞我好一大巴掌我真的真的真的很努力很努力了我為甚麼總...</td>\n",
       "      <td>1</td>\n",
       "    </tr>\n",
       "    <tr>\n",
       "      <th>301</th>\n",
       "      <td>從四年前，一直都有失眠的小問題，但都是以作息不正常來解套自己的想法。前年二月到六月，我的狀況...</td>\n",
       "      <td>1</td>\n",
       "    </tr>\n",
       "    <tr>\n",
       "      <th>302</th>\n",
       "      <td>一直在碰到弄髒的疑慮中洗不停的手跟全身記不得每天要用掉多少肥皂跟沐浴乳洗髮乳每天衣服也是一直...</td>\n",
       "      <td>1</td>\n",
       "    </tr>\n",
       "  </tbody>\n",
       "</table>\n",
       "<p>303 rows × 2 columns</p>\n",
       "</div>"
      ],
      "text/plain": [
       "                                               Content  Label\n",
       "0    仙草加蜂蜜好好吃！等下再去市場買一塊大仙草~吃吃吃好像把今天的熱量扣打吃完了-----Sen...      0\n",
       "1    啊啊啊 邁入老女人的里程碑了今天本來想請假的但被同事搶先了然後從禮拜六開始爸爸媽媽就滿滿的情...      0\n",
       "2    今天同事提出，覺得我有點過度依賴男友了不是第一個人說出這個問題其實早在交往的一開始我自己就察...      0\n",
       "3    開始停速悅的這幾天我還是會吃安立平總覺得現在除了心悸手抖頭很重以外一直還有個在耳邊敲打小軍鼓...      0\n",
       "4    我覺得有些善意的謊言是可以說的就是那些不會被揭穿的但有一些是一定會被揭穿「你狀態不好的時侯可...      0\n",
       "..                                                 ...    ...\n",
       "298  很想一走了之。從人生這場遊戲登出。去年以前，厭食了6年去年開始暴食。或許我恨的是自己所以什麼...      1\n",
       "299  要嘛給我愛，要嘛給我錢，要嘛給我滾。其實你連當炮友的資格都沒有，憑什麼跟我談戀愛？無法給我愛...      1\n",
       "300  以為可以好一陣子不用上來發文了生命又再次賞我好一大巴掌我真的真的真的很努力很努力了我為甚麼總...      1\n",
       "301  從四年前，一直都有失眠的小問題，但都是以作息不正常來解套自己的想法。前年二月到六月，我的狀況...      1\n",
       "302  一直在碰到弄髒的疑慮中洗不停的手跟全身記不得每天要用掉多少肥皂跟沐浴乳洗髮乳每天衣服也是一直...      1\n",
       "\n",
       "[303 rows x 2 columns]"
      ]
     },
     "execution_count": 150,
     "metadata": {},
     "output_type": "execute_result"
    }
   ],
   "source": [
    "## 取200筆非自殺\n",
    "train_neg = train[train[\"Label\"] == 0].iloc[:200]\n",
    "train_pos = train[train[\"Label\"] == 1]\n",
    "train = pd.concat([train_neg,train_pos])\n",
    "train = train.reset_index(drop=True)\n",
    "train"
   ]
  },
  {
   "cell_type": "code",
   "execution_count": 4,
   "metadata": {},
   "outputs": [],
   "source": [
    "logging.basicConfig(format='%(asctime)s : %(levelname)s : %(message)s', level=logging.INFO)\n",
    "\n",
    "# jieba custom setting.\n",
    "jieba.set_dictionary('jieba_dict/dict.txt.big')\n",
    "\n",
    "# load stopwords set\n",
    "stopword_set = set()\n",
    "with open('jieba_dict/stopwords.txt','r', encoding='utf-8') as stopwords:\n",
    "    for stopword in stopwords:\n",
    "        stopword_set.add(stopword.strip(' \\n'))"
   ]
  },
  {
   "cell_type": "code",
   "execution_count": 5,
   "metadata": {},
   "outputs": [],
   "source": [
    "def jieba_tokenizer(content):\n",
    "    if str(content)=='nan':\n",
    "        return ''\n",
    "    words = jieba.cut(content.replace(' ',''))\n",
    "    return [word for word in words if word not in stopword_set]"
   ]
  },
  {
   "cell_type": "code",
   "execution_count": 151,
   "metadata": {},
   "outputs": [
    {
     "data": {
      "text/plain": [
       "0      [國小, 認識, 朋友, 大學, 常常, 會, 訴苦, 大多, 關於, 人際關係, 個性, ...\n",
       "1      [第一人稱, 視角, 媽媽, 爸爸, 出生, 感情, 不好, 所以, 國, 小時, 離婚, ...\n",
       "2      [前任, 自殺, 前, 一周, 突然, 幫, 慶生, 一天, 前, 找, 出門, 玩, 一聲...\n",
       "3      [身為, 亞, 斯伯格, 症, 看到, 這則, 新聞, 還蠻, 難過, 首先, 可以, 理解...\n",
       "4      [真的, 很長, 防雷, 26, 年頭, 經歷, 大小, 事情, 媽媽, 國小, 開始, 因...\n",
       "                             ...                        \n",
       "249    [1995, 年, 出生, 妹則, 1999, 年, 出生, 過去, 兩年, 家, 歷經, ...\n",
       "250    [水瓶, 男好, 朋友, 他會, 說, 相處, 自在點, 想, 怎樣, 怎樣, 隨性, 有點...\n",
       "251    [題, 小時候, 真的, 活, 陰影, ..., 印象, 第一次, 時候, 開始, 講吧, ...\n",
       "252    [標題, 現在, 已經, 滿, 20, 我家, 北部, 但是, 在外, 縣市, 讀書, 當初...\n",
       "253    [出事, 才, 徹底, 知道, 就算, 抑鬱, 憂鬱, 還是, 可能, 自殺, 念頭, 只是...\n",
       "Name: tokenized, Length: 254, dtype: object"
      ]
     },
     "execution_count": 151,
     "metadata": {},
     "output_type": "execute_result"
    }
   ],
   "source": [
    "train['tokenized'] = list(train.loc[:, 'Content'].apply(jieba_tokenizer))\n",
    "val['tokenized'] = list(val.loc[:, 'content'].apply(jieba_tokenizer))\n",
    "train['tokenized']\n",
    "val['tokenized']"
   ]
  },
  {
   "cell_type": "code",
   "execution_count": 7,
   "metadata": {},
   "outputs": [
    {
     "name": "stderr",
     "output_type": "stream",
     "text": [
      "2020-11-03 13:23:48,962 : INFO : loading Word2VecKeyedVectors object from w2v_model.wv\n",
      "2020-11-03 13:23:51,475 : INFO : loading vectors from w2v_model.wv.vectors.npy with mmap=r\n",
      "2020-11-03 13:23:51,478 : INFO : setting ignored attribute vectors_norm to None\n",
      "2020-11-03 13:23:51,478 : INFO : loaded w2v_model.wv\n"
     ]
    }
   ],
   "source": [
    "from gensim.models import KeyedVectors\n",
    "w2v_model = KeyedVectors.load(\"w2v_model.wv\", mmap='r')"
   ]
  },
  {
   "cell_type": "code",
   "execution_count": 165,
   "metadata": {},
   "outputs": [
    {
     "name": "stdout",
     "output_type": "stream",
     "text": [
      "Vocabulary Size: 883958 - Embedding Dim: 250\n"
     ]
    },
    {
     "name": "stderr",
     "output_type": "stream",
     "text": [
      "/home/ubuntu-gpu/anaconda3/envs/trainEnv/lib/python3.7/site-packages/ipykernel_launcher.py:3: DeprecationWarning: Call to deprecated `wv` (Attribute will be removed in 4.0.0, use self instead).\n",
      "  This is separate from the ipykernel package so we can avoid doing imports until\n"
     ]
    }
   ],
   "source": [
    "# Retrieve the weights from the model. This is used for initializing the weights\n",
    "# in a Keras Embedding layer later\n",
    "w2v_weights = w2v_model.wv.vectors # If use pytorch add torch.from_numpy()\n",
    "vocab_size, embedding_size = w2v_weights.shape\n",
    "print(\"Vocabulary Size: {} - Embedding Dim: {}\".format(vocab_size, embedding_size))\n",
    "\n",
    "def word2token(word):\n",
    "    try:\n",
    "        return w2v_model.wv.vocab[word].index\n",
    "    # If word is not in index return 0. I realize this means that this\n",
    "    # is the same as the word of index 0 (i.e. most frequent word), but 0s\n",
    "    # will be padded later anyway by the embedding layer (which also\n",
    "    # seems dirty but I couldn't find a better solution right now)\n",
    "    except KeyError:\n",
    "        return 0\n",
    "def token2word(token):\n",
    "    return w2v_model.wv.index2word[token]"
   ]
  },
  {
   "cell_type": "code",
   "execution_count": 152,
   "metadata": {},
   "outputs": [
    {
     "data": {
      "text/html": [
       "<div>\n",
       "<style scoped>\n",
       "    .dataframe tbody tr th:only-of-type {\n",
       "        vertical-align: middle;\n",
       "    }\n",
       "\n",
       "    .dataframe tbody tr th {\n",
       "        vertical-align: top;\n",
       "    }\n",
       "\n",
       "    .dataframe thead th {\n",
       "        text-align: right;\n",
       "    }\n",
       "</style>\n",
       "<table border=\"1\" class=\"dataframe\">\n",
       "  <thead>\n",
       "    <tr style=\"text-align: right;\">\n",
       "      <th></th>\n",
       "      <th>content</th>\n",
       "      <th>Label</th>\n",
       "      <th>tokenized</th>\n",
       "      <th>word_vec</th>\n",
       "    </tr>\n",
       "  </thead>\n",
       "  <tbody>\n",
       "    <tr>\n",
       "      <th>0</th>\n",
       "      <td>我有個國小認識的好朋友，上了大學後常常會跟我訴苦，大多是關於人際關係的他個性比較內向，不容易...</td>\n",
       "      <td>0</td>\n",
       "      <td>[國小, 認識, 朋友, 大學, 常常, 會, 訴苦, 大多, 關於, 人際關係, 個性, ...</td>\n",
       "      <td>[國小, 認識, 朋友, 大學, 常常, 會, 訴苦, 大多, 關於, 人際關係, 個性, ...</td>\n",
       "    </tr>\n",
       "    <tr>\n",
       "      <th>1</th>\n",
       "      <td>(第一人稱視角，)媽媽跟爸爸從我出生就感情不好 所以國小時離婚了我喜歡媽媽 不喜歡爸爸但我們...</td>\n",
       "      <td>1</td>\n",
       "      <td>[第一人稱, 視角, 媽媽, 爸爸, 出生, 感情, 不好, 所以, 國, 小時, 離婚, ...</td>\n",
       "      <td>[第一人稱, 視角, 媽媽, 爸爸, 出生, 感情, 不好, 所以, 國, 小時, 離婚, ...</td>\n",
       "    </tr>\n",
       "    <tr>\n",
       "      <th>2</th>\n",
       "      <td>我的前任在自殺前一周突然幫我慶生，一天前找我出門玩，再一聲不吭的自我了斷，給我很大的陰影。現...</td>\n",
       "      <td>0</td>\n",
       "      <td>[前任, 自殺, 前, 一周, 突然, 幫, 慶生, 一天, 前, 找, 出門, 玩, 一聲...</td>\n",
       "      <td>[前任, 自殺, 前, 一周, 突然, 幫, 慶生, 一天, 前, 找, 出門, 玩, 一聲...</td>\n",
       "    </tr>\n",
       "    <tr>\n",
       "      <th>3</th>\n",
       "      <td>身為一個亞斯伯格症的人看到這則新聞還蠻難過的首先我可以理解家長看到自己小孩無緣無故被攻擊而想...</td>\n",
       "      <td>0</td>\n",
       "      <td>[身為, 亞, 斯伯格, 症, 看到, 這則, 新聞, 還蠻, 難過, 首先, 可以, 理解...</td>\n",
       "      <td>[身為, 亞, 斯伯格, 症, 看到, 這則, 新聞, 還蠻, 難過, 首先, 可以, 理解...</td>\n",
       "    </tr>\n",
       "    <tr>\n",
       "      <th>4</th>\n",
       "      <td>真的很長，防雷。26個年頭來，經歷了大小事情。媽媽在國小開始因為經濟不景氣、收店的壓力、被朋...</td>\n",
       "      <td>0</td>\n",
       "      <td>[真的, 很長, 防雷, 26, 年頭, 經歷, 大小, 事情, 媽媽, 國小, 開始, 因...</td>\n",
       "      <td>[真的, 很長, 防雷, 26, 年頭, 經歷, 大小, 事情, 媽媽, 國小, 開始, 因...</td>\n",
       "    </tr>\n",
       "    <tr>\n",
       "      <th>...</th>\n",
       "      <td>...</td>\n",
       "      <td>...</td>\n",
       "      <td>...</td>\n",
       "      <td>...</td>\n",
       "    </tr>\n",
       "    <tr>\n",
       "      <th>249</th>\n",
       "      <td>我是1995年出生，我妹則是1999年出生，過去這兩年我們家歷經了非常嚴重的衝突。我和我妹都...</td>\n",
       "      <td>0</td>\n",
       "      <td>[1995, 年, 出生, 妹則, 1999, 年, 出生, 過去, 兩年, 家, 歷經, ...</td>\n",
       "      <td>[1995, 年, 出生, 妹則, 1999, 年, 出生, 過去, 兩年, 家, 歷經, ...</td>\n",
       "    </tr>\n",
       "    <tr>\n",
       "      <th>250</th>\n",
       "      <td>我有個水瓶男好朋友他會跟我說相處自在點他都是想怎樣就怎樣很隨性我也有點這樣所以我們才能成為好...</td>\n",
       "      <td>0</td>\n",
       "      <td>[水瓶, 男好, 朋友, 他會, 說, 相處, 自在點, 想, 怎樣, 怎樣, 隨性, 有點...</td>\n",
       "      <td>[水瓶, 男好, 朋友, 他會, 說, 相處, 自在點, 想, 怎樣, 怎樣, 隨性, 有點...</td>\n",
       "    </tr>\n",
       "    <tr>\n",
       "      <th>251</th>\n",
       "      <td>如題小時候我真的是活在陰影下...從我有印象第一次被打的那時候開始講吧！那時我才國中一年級 ...</td>\n",
       "      <td>0</td>\n",
       "      <td>[題, 小時候, 真的, 活, 陰影, ..., 印象, 第一次, 時候, 開始, 講吧, ...</td>\n",
       "      <td>[題, 小時候, 真的, 活, 陰影, ..., 印象, 第一次, 時候, 開始, 講吧, ...</td>\n",
       "    </tr>\n",
       "    <tr>\n",
       "      <th>252</th>\n",
       "      <td>如標題我現在已經滿20了，我家在北部但是在外縣市讀書當初高中填志願的時候就是為了逃離我媽才把...</td>\n",
       "      <td>0</td>\n",
       "      <td>[標題, 現在, 已經, 滿, 20, 我家, 北部, 但是, 在外, 縣市, 讀書, 當初...</td>\n",
       "      <td>[標題, 現在, 已經, 滿, 20, 我家, 北部, 但是, 在外, 縣市, 讀書, 當初...</td>\n",
       "    </tr>\n",
       "    <tr>\n",
       "      <th>253</th>\n",
       "      <td>到了出事我才徹底知道：就算沒有抑鬱憂鬱，還是可能有自殺的念頭只是可能不是為了脫離痛苦，而是想...</td>\n",
       "      <td>0</td>\n",
       "      <td>[出事, 才, 徹底, 知道, 就算, 抑鬱, 憂鬱, 還是, 可能, 自殺, 念頭, 只是...</td>\n",
       "      <td>[出事, 才, 徹底, 知道, 就算, 抑鬱, 憂鬱, 還是, 可能, 自殺, 念頭, 只是...</td>\n",
       "    </tr>\n",
       "  </tbody>\n",
       "</table>\n",
       "<p>254 rows × 4 columns</p>\n",
       "</div>"
      ],
      "text/plain": [
       "                                               content  Label  \\\n",
       "0    我有個國小認識的好朋友，上了大學後常常會跟我訴苦，大多是關於人際關係的他個性比較內向，不容易...      0   \n",
       "1    (第一人稱視角，)媽媽跟爸爸從我出生就感情不好 所以國小時離婚了我喜歡媽媽 不喜歡爸爸但我們...      1   \n",
       "2    我的前任在自殺前一周突然幫我慶生，一天前找我出門玩，再一聲不吭的自我了斷，給我很大的陰影。現...      0   \n",
       "3    身為一個亞斯伯格症的人看到這則新聞還蠻難過的首先我可以理解家長看到自己小孩無緣無故被攻擊而想...      0   \n",
       "4    真的很長，防雷。26個年頭來，經歷了大小事情。媽媽在國小開始因為經濟不景氣、收店的壓力、被朋...      0   \n",
       "..                                                 ...    ...   \n",
       "249  我是1995年出生，我妹則是1999年出生，過去這兩年我們家歷經了非常嚴重的衝突。我和我妹都...      0   \n",
       "250  我有個水瓶男好朋友他會跟我說相處自在點他都是想怎樣就怎樣很隨性我也有點這樣所以我們才能成為好...      0   \n",
       "251  如題小時候我真的是活在陰影下...從我有印象第一次被打的那時候開始講吧！那時我才國中一年級 ...      0   \n",
       "252  如標題我現在已經滿20了，我家在北部但是在外縣市讀書當初高中填志願的時候就是為了逃離我媽才把...      0   \n",
       "253  到了出事我才徹底知道：就算沒有抑鬱憂鬱，還是可能有自殺的念頭只是可能不是為了脫離痛苦，而是想...      0   \n",
       "\n",
       "                                             tokenized  \\\n",
       "0    [國小, 認識, 朋友, 大學, 常常, 會, 訴苦, 大多, 關於, 人際關係, 個性, ...   \n",
       "1    [第一人稱, 視角, 媽媽, 爸爸, 出生, 感情, 不好, 所以, 國, 小時, 離婚, ...   \n",
       "2    [前任, 自殺, 前, 一周, 突然, 幫, 慶生, 一天, 前, 找, 出門, 玩, 一聲...   \n",
       "3    [身為, 亞, 斯伯格, 症, 看到, 這則, 新聞, 還蠻, 難過, 首先, 可以, 理解...   \n",
       "4    [真的, 很長, 防雷, 26, 年頭, 經歷, 大小, 事情, 媽媽, 國小, 開始, 因...   \n",
       "..                                                 ...   \n",
       "249  [1995, 年, 出生, 妹則, 1999, 年, 出生, 過去, 兩年, 家, 歷經, ...   \n",
       "250  [水瓶, 男好, 朋友, 他會, 說, 相處, 自在點, 想, 怎樣, 怎樣, 隨性, 有點...   \n",
       "251  [題, 小時候, 真的, 活, 陰影, ..., 印象, 第一次, 時候, 開始, 講吧, ...   \n",
       "252  [標題, 現在, 已經, 滿, 20, 我家, 北部, 但是, 在外, 縣市, 讀書, 當初...   \n",
       "253  [出事, 才, 徹底, 知道, 就算, 抑鬱, 憂鬱, 還是, 可能, 自殺, 念頭, 只是...   \n",
       "\n",
       "                                              word_vec  \n",
       "0    [國小, 認識, 朋友, 大學, 常常, 會, 訴苦, 大多, 關於, 人際關係, 個性, ...  \n",
       "1    [第一人稱, 視角, 媽媽, 爸爸, 出生, 感情, 不好, 所以, 國, 小時, 離婚, ...  \n",
       "2    [前任, 自殺, 前, 一周, 突然, 幫, 慶生, 一天, 前, 找, 出門, 玩, 一聲...  \n",
       "3    [身為, 亞, 斯伯格, 症, 看到, 這則, 新聞, 還蠻, 難過, 首先, 可以, 理解...  \n",
       "4    [真的, 很長, 防雷, 26, 年頭, 經歷, 大小, 事情, 媽媽, 國小, 開始, 因...  \n",
       "..                                                 ...  \n",
       "249  [1995, 年, 出生, 妹則, 1999, 年, 出生, 過去, 兩年, 家, 歷經, ...  \n",
       "250  [水瓶, 男好, 朋友, 他會, 說, 相處, 自在點, 想, 怎樣, 怎樣, 隨性, 有點...  \n",
       "251  [題, 小時候, 真的, 活, 陰影, ..., 印象, 第一次, 時候, 開始, 講吧, ...  \n",
       "252  [標題, 現在, 已經, 滿, 20, 我家, 北部, 但是, 在外, 縣市, 讀書, 當初...  \n",
       "253  [出事, 才, 徹底, 知道, 就算, 抑鬱, 憂鬱, 還是, 可能, 自殺, 念頭, 只是...  \n",
       "\n",
       "[254 rows x 4 columns]"
      ]
     },
     "execution_count": 152,
     "metadata": {},
     "output_type": "execute_result"
    }
   ],
   "source": [
    "import copy\n",
    "train['word_vec'] = copy.deepcopy(train['tokenized'])\n",
    "train\n",
    "val['word_vec'] = copy.deepcopy(val['tokenized'])\n",
    "val"
   ]
  },
  {
   "cell_type": "code",
   "execution_count": 153,
   "metadata": {},
   "outputs": [
    {
     "name": "stderr",
     "output_type": "stream",
     "text": [
      "/home/ubuntu-gpu/anaconda3/envs/trainEnv/lib/python3.7/site-packages/ipykernel_launcher.py:9: DeprecationWarning: Call to deprecated `wv` (Attribute will be removed in 4.0.0, use self instead).\n",
      "  if __name__ == '__main__':\n"
     ]
    }
   ],
   "source": [
    "for i in range(len(train['word_vec'])):\n",
    "    for j in range(len(train['word_vec'][i])):\n",
    "        train['word_vec'][i][j] = word2token(train['word_vec'][i][j])\n",
    "        \n",
    "for i in range(len(val['word_vec'])):\n",
    "    for j in range(len(val['word_vec'][i])):\n",
    "        val['word_vec'][i][j] = word2token(val['word_vec'][i][j])"
   ]
  },
  {
   "cell_type": "markdown",
   "metadata": {},
   "source": [
    "# LSTM"
   ]
  },
  {
   "cell_type": "markdown",
   "metadata": {},
   "source": [
    "## Pytorch"
   ]
  },
  {
   "cell_type": "code",
   "execution_count": null,
   "metadata": {},
   "outputs": [],
   "source": [
    "def pad_samples(features, maxlen=250, PAD=0): #截長補短 讓長度一致，這裡固定文章長度為maxlen=250\n",
    "    padded_features = []\n",
    "    for feature in features:\n",
    "        if len(feature) >= maxlen:\n",
    "            padded_feature = feature[:maxlen]\n",
    "        else:\n",
    "            padded_feature = feature\n",
    "            while(len(padded_feature) < maxlen):\n",
    "                padded_feature.append(PAD)\n",
    "        padded_features.append(padded_feature)\n",
    "    return padded_features"
   ]
  },
  {
   "cell_type": "code",
   "execution_count": null,
   "metadata": {},
   "outputs": [],
   "source": [
    "train_features = torch.tensor(pad_samples(train['word_vec']))\n",
    "vali_features = torch.tensor(pad_samples(vali['word_vec']))\n",
    "vali_features"
   ]
  },
  {
   "cell_type": "code",
   "execution_count": null,
   "metadata": {},
   "outputs": [],
   "source": [
    "# label_vec_to_torch.tensor\n",
    "train_labels = torch.tensor(train['Label'])\n",
    "vali_labels = torch.tensor(vali['Label'])\n",
    "vali_labels"
   ]
  },
  {
   "cell_type": "code",
   "execution_count": null,
   "metadata": {},
   "outputs": [],
   "source": [
    "### create pytorch dataloader ###\n",
    "batch_size = 64\n",
    "train_set = torch.utils.data.TensorDataset(train_features, train_labels)\n",
    "train_iter = torch.utils.data.DataLoader(train_set, batch_size=batch_size,shuffle=True)\n",
    "\n",
    "vali_set = torch.utils.data.TensorDataset(vali_features, vali_labels)\n",
    "vali_iter = torch.utils.data.DataLoader(vali_set, batch_size=batch_size,shuffle=True)"
   ]
  },
  {
   "cell_type": "code",
   "execution_count": null,
   "metadata": {},
   "outputs": [],
   "source": [
    "### build model ###\n",
    "class RNN(nn.Module):\n",
    "    def __init__(self, vocab_size, embed_size, num_hiddens, num_layers,\n",
    "                 bidirectional, weight, labels, **kwargs):\n",
    "        super(RNN, self).__init__(**kwargs)\n",
    "        self.num_hiddens = num_hiddens\n",
    "        self.num_layers = num_layers\n",
    "        self.bidirectional = bidirectional\n",
    "        self.embedding = nn.Embedding.from_pretrained(weight)\n",
    "        self.embedding.weight.requires_grad = False\n",
    "        self.encoder = nn.LSTM(input_size=embed_size, hidden_size=self.num_hiddens,\n",
    "                               num_layers=num_layers, bidirectional=self.bidirectional,\n",
    "                               dropout=0.3)\n",
    "\n",
    "        if self.bidirectional:\n",
    "            self.linear1 = nn.Linear(num_hiddens * 4, labels)\n",
    "        else:\n",
    "            self.linear1 = nn.Linear(num_hiddens * 2, labels)\n",
    "\n",
    "\n",
    "\n",
    "    def forward(self, inputs):\n",
    "        embeddings = self.embedding(inputs)\n",
    "        states, hidden = self.encoder(embeddings.permute([1, 0, 2]))\n",
    "        encoding = torch.cat([states[0], states[-1]], dim=1) #if it's bidirectional, choose first and last output\n",
    "        outputs = self.linear1(encoding)\n",
    "\n",
    "        return outputs\n",
    "\n",
    "num_epochs = 10\n",
    "num_hiddens = 100\n",
    "num_layers = 2\n",
    "bidirectional = True\n",
    "labels = 2\n",
    "device = torch.device(\"cuda:1\" if torch.cuda.is_available() else \"cpu\")\n",
    "net = RNN(vocab_size=(vocab_size+1), embed_size=embedding_size,\n",
    "                   num_hiddens=num_hiddens, num_layers=num_layers,\n",
    "                   bidirectional=bidirectional, weight=w2v_weights,\n",
    "                   labels=labels)\n",
    "\n",
    "print(net)"
   ]
  },
  {
   "cell_type": "code",
   "execution_count": null,
   "metadata": {},
   "outputs": [],
   "source": [
    "net.to(device)\n",
    "loss_function = nn.CrossEntropyLoss() # ~ nn.LogSoftmax()+nn.NLLLoss()\n",
    "optimizer = optim.Adam(net.parameters())\n",
    "\n",
    "def train(net,num_epochs,loss_function,optimizer,train_iter,val_iter):\n",
    "    for epoch in range(num_epochs):\n",
    "        start = time.time()\n",
    "        train_loss, val_losses = 0, 0\n",
    "        train_acc, val_acc = 0, 0\n",
    "        n, m = 0, 0\n",
    "        net.train()\n",
    "        for feature, label in train_iter:\n",
    "            n += 1\n",
    "            optimizer.zero_grad()\n",
    "            feature = Variable(feature.to(device))\n",
    "            label = Variable(label.to(device))\n",
    "\n",
    "            score = net(feature)\n",
    "            loss = loss_function(score, label)\n",
    "            loss.backward()\n",
    "            optimizer.step()\n",
    "            train_acc += accuracy_score(torch.argmax(score.cpu().data,dim=1), label.cpu())\n",
    "            train_loss += loss\n",
    "\n",
    "        with torch.no_grad():\n",
    "            net.eval()\n",
    "            for val_feature, val_label in val_iter:\n",
    "                m += 1\n",
    "                val_feature = val_feature.to(device)\n",
    "                val_label = val_label.to(device)\n",
    "                val_score = net(val_feature)\n",
    "                val_loss = loss_function(val_score, val_label)\n",
    "                val_acc += accuracy_score(torch.argmax(val_score.cpu().data,dim=1), val_label.cpu())\n",
    "                val_losses += val_loss\n",
    "\n",
    "        runtime = time.time() - start\n",
    "        print('epoch: %d, train loss: %.4f, train acc: %.2f, val loss: %.4f, val acc: %.2f, time: %.2f' %\n",
    "              (epoch, train_loss.data/n, train_acc/n, val_losses.data/m, val_acc/m, runtime))\n",
    "\n",
    "    #save final model\n",
    "    state = {\n",
    "            'epoch': epoch,\n",
    "            'state_dict': net.state_dict(),\n",
    "            'optimizer': optimizer.state_dict()\n",
    "            }\n",
    "    torch.save(state, os.path.join(model_save_path,'last_model.pt'))\n",
    "\n",
    "\n",
    "def predict(net,test_iter):\n",
    "    #state = torch.load(os.path.join(cwd,'checkpoint','epoch10_maxlen300_embed200.pt'),map_location=torch.device('cpu'))\n",
    "    #net.load_state_dict(state['state_dict'])\n",
    "    pred_list = []\n",
    "    true_list = []\n",
    "    softmax = nn.Softmax(dim=1)\n",
    "    with torch.no_grad():\n",
    "        net.eval()\n",
    "        for batch,label in test_iter:\n",
    "            output = net(batch.to(device))\n",
    "            pred_list.extend(torch.argmax(softmax(output),dim=1).cpu().numpy())\n",
    "            true_list.extend(label.cpu().numpy())\n",
    "\n",
    "    acc = accuracy_score(pred_list, true_list)\n",
    "    print('test acc: %f'%acc)\n",
    "\n",
    "    return acc,pred_list,true_list\n",
    "\n",
    "\n",
    "print('start to train...')\n",
    "train(net,num_epochs,loss_function,optimizer,train_iter,vali_iter)\n",
    "\n",
    "print('start to predict test set...')\n",
    "acc,pred_list,true_list = predict(net,test_iter)\n",
    "\n",
    "print('Done')"
   ]
  },
  {
   "cell_type": "markdown",
   "metadata": {},
   "source": [
    "# Keras"
   ]
  },
  {
   "cell_type": "code",
   "execution_count": 154,
   "metadata": {},
   "outputs": [
    {
     "data": {
      "text/plain": [
       "0      [31448, 2091, 704, 40, 3049, 10, 88999, 2712, ...\n",
       "1      [12122, 11903, 1624, 2511, 652, 2717, 6851, 26...\n",
       "2      [5152, 2514, 28, 294496, 1970, 2977, 46777, 16...\n",
       "3      [5376, 1741, 31671, 6648, 1562, 66473, 436, 25...\n",
       "4      [2734, 15627, 236587, 0, 52267, 923, 2042, 226...\n",
       "                             ...                        \n",
       "249    [0, 0, 652, 757133, 0, 0, 652, 842, 1912, 396,...\n",
       "250    [48502, 569899, 704, 16088, 113, 10422, 0, 710...\n",
       "251    [9290, 6590, 2734, 7689, 10675, 0, 5233, 894, ...\n",
       "252    [984, 327, 228, 3129, 0, 9668, 1153, 176, 1128...\n",
       "253    [41770, 215, 4361, 869, 7624, 30254, 11988, 80...\n",
       "Name: word_vec, Length: 254, dtype: object"
      ]
     },
     "execution_count": 154,
     "metadata": {},
     "output_type": "execute_result"
    }
   ],
   "source": [
    "x_train = train['word_vec']\n",
    "x_train\n",
    "x_val = val['word_vec']\n",
    "x_val"
   ]
  },
  {
   "cell_type": "code",
   "execution_count": 155,
   "metadata": {},
   "outputs": [
    {
     "data": {
      "text/plain": [
       "array([0, 1, 0, 0, 0, 0, 0, 0, 0, 0, 0, 0, 0, 0, 1, 0, 0, 0, 0, 0, 0, 1,\n",
       "       0, 0, 0, 0, 0, 0, 1, 0, 0, 0, 0, 1, 1, 0, 0, 0, 0, 1, 0, 0, 1, 0,\n",
       "       0, 0, 0, 0, 0, 1, 0, 0, 0, 0, 0, 0, 0, 1, 0, 1, 0, 1, 0, 0, 0, 0,\n",
       "       0, 0, 0, 0, 0, 0, 0, 0, 1, 0, 0, 0, 0, 0, 0, 0, 0, 0, 0, 0, 0, 1,\n",
       "       0, 0, 0, 0, 0, 0, 0, 0, 1, 0, 0, 0, 0, 0, 0, 1, 0, 0, 0, 0, 0, 0,\n",
       "       0, 1, 0, 0, 0, 0, 0, 0, 0, 0, 0, 0, 0, 0, 0, 0, 0, 0, 1, 1, 1, 0,\n",
       "       0, 0, 0, 0, 0, 0, 0, 0, 0, 0, 0, 0, 0, 0, 0, 0, 0, 0, 0, 0, 0, 0,\n",
       "       0, 0, 0, 0, 0, 1, 0, 0, 0, 0, 0, 0, 0, 0, 0, 0, 0, 0, 0, 0, 0, 0,\n",
       "       0, 0, 1, 0, 0, 0, 0, 0, 0, 0, 0, 0, 0, 0, 0, 0, 0, 0, 0, 0, 0, 1,\n",
       "       0, 1, 0, 0, 0, 0, 0, 0, 0, 1, 1, 0, 0, 0, 0, 0, 0, 0, 0, 0, 0, 0,\n",
       "       0, 0, 0, 0, 0, 0, 0, 1, 1, 0, 0, 0, 0, 1, 1, 1, 0, 0, 0, 0, 0, 0,\n",
       "       0, 0, 0, 0, 1, 0, 0, 0, 0, 0, 0, 0])"
      ]
     },
     "execution_count": 155,
     "metadata": {},
     "output_type": "execute_result"
    }
   ],
   "source": [
    "# label_vec\n",
    "y_train = np.asarray(train['Label'])\n",
    "y_val = np.asarray(val['Label'])\n",
    "y_val"
   ]
  },
  {
   "cell_type": "code",
   "execution_count": 26,
   "metadata": {},
   "outputs": [],
   "source": [
    "# 建立 LSTM 架構\n",
    "from keras import Input\n",
    "from keras.layers import Embedding, LSTM, concatenate, Dense, Bidirectional\n",
    "from keras.models import Model\n",
    "from keras.models import Sequential\n",
    "from keras.preprocessing.sequence import pad_sequences\n",
    "import matplotlib.pyplot as plt"
   ]
  },
  {
   "cell_type": "code",
   "execution_count": 156,
   "metadata": {},
   "outputs": [],
   "source": [
    "# Sequences will be padded or truncated to this length\n",
    "MAX_SEQUENCE_LENGTH = 250\n",
    "\n",
    "input = Input(\n",
    "    shape=(MAX_SEQUENCE_LENGTH, ), \n",
    "    dtype='int32')"
   ]
  },
  {
   "cell_type": "code",
   "execution_count": 157,
   "metadata": {},
   "outputs": [
    {
     "data": {
      "text/plain": [
       "250"
      ]
     },
     "execution_count": 157,
     "metadata": {},
     "output_type": "execute_result"
    }
   ],
   "source": [
    "x_train = pad_sequences(x_train, maxlen=MAX_SEQUENCE_LENGTH, padding='post', value=0)\n",
    "x_val = pad_sequences(x_val, maxlen=MAX_SEQUENCE_LENGTH, padding='post', value=0)\n",
    "len(x_val[0])"
   ]
  },
  {
   "cell_type": "code",
   "execution_count": 176,
   "metadata": {},
   "outputs": [],
   "source": [
    "del model"
   ]
  },
  {
   "cell_type": "code",
   "execution_count": 178,
   "metadata": {},
   "outputs": [
    {
     "name": "stdout",
     "output_type": "stream",
     "text": [
      "Train on 303 samples, validate on 254 samples\n",
      "Epoch 1/5\n",
      "303/303 [==============================] - 18s 59ms/step - loss: 0.6959 - accuracy: 0.5578 - val_loss: 0.6880 - val_accuracy: 0.8740\n",
      "Epoch 2/5\n",
      "303/303 [==============================] - 10s 34ms/step - loss: 0.6900 - accuracy: 0.6601 - val_loss: 0.6800 - val_accuracy: 0.8740\n",
      "Epoch 3/5\n",
      "303/303 [==============================] - 10s 34ms/step - loss: 0.6854 - accuracy: 0.6601 - val_loss: 0.6640 - val_accuracy: 0.8740\n",
      "Epoch 4/5\n",
      "303/303 [==============================] - 10s 34ms/step - loss: 0.6780 - accuracy: 0.6601 - val_loss: 0.6279 - val_accuracy: 0.8740\n",
      "Epoch 5/5\n",
      "303/303 [==============================] - 10s 34ms/step - loss: 0.6613 - accuracy: 0.6601 - val_loss: 0.5727 - val_accuracy: 0.8740\n"
     ]
    }
   ],
   "source": [
    "# Keras Embedding layer with Word2Vec weights initialization\n",
    "model = Sequential()\n",
    "model.add(Embedding(input_dim=vocab_size,\n",
    "                    output_dim=embedding_size,\n",
    "                    weights=[w2v_weights],\n",
    "                    input_length=MAX_SEQUENCE_LENGTH,\n",
    "                    mask_zero=True,\n",
    "                    trainable=False))\n",
    "\n",
    "model.add(Bidirectional(LSTM(125)))\n",
    "model.add(Dense(4, input_dim=2, activation='relu'))\n",
    "model.add(Dense(4, activation='relu'))\n",
    "model.add(Dense(units=2, activation='sigmoid'))\n",
    "\n",
    "model.compile(optimizer='adam', loss='sparse_categorical_crossentropy', metrics=['accuracy'])\n",
    "\n",
    "history = model.fit(x_train, y_train, epochs=5, batch_size=64,\n",
    "                    validation_data=(x_val, y_val), verbose=1)"
   ]
  },
  {
   "cell_type": "code",
   "execution_count": 179,
   "metadata": {},
   "outputs": [
    {
     "name": "stdout",
     "output_type": "stream",
     "text": [
      "Model: \"sequential_11\"\n",
      "_________________________________________________________________\n",
      "Layer (type)                 Output Shape              Param #   \n",
      "=================================================================\n",
      "embedding_11 (Embedding)     (None, 250, 250)          220989500 \n",
      "_________________________________________________________________\n",
      "bidirectional_9 (Bidirection (None, 250)               376000    \n",
      "_________________________________________________________________\n",
      "dense_10 (Dense)             (None, 4)                 1004      \n",
      "_________________________________________________________________\n",
      "dense_11 (Dense)             (None, 4)                 20        \n",
      "_________________________________________________________________\n",
      "dense_12 (Dense)             (None, 2)                 10        \n",
      "=================================================================\n",
      "Total params: 221,366,534\n",
      "Trainable params: 377,034\n",
      "Non-trainable params: 220,989,500\n",
      "_________________________________________________________________\n"
     ]
    }
   ],
   "source": [
    "model.summary()"
   ]
  },
  {
   "cell_type": "code",
   "execution_count": 164,
   "metadata": {},
   "outputs": [],
   "source": [
    "model.save('lstm_model.h5')"
   ]
  },
  {
   "cell_type": "code",
   "execution_count": 180,
   "metadata": {},
   "outputs": [
    {
     "data": {
      "image/png": "[encoded data removed]",
      "text/plain": [
       "<Figure size 864x864 with 1 Axes>"
      ]
     },
     "metadata": {
      "needs_background": "light"
     },
     "output_type": "display_data"
    },
    {
     "data": {
      "image/png": "[encoded data removed]",
      "text/plain": [
       "<Figure size 864x864 with 1 Axes>"
      ]
     },
     "metadata": {
      "needs_background": "light"
     },
     "output_type": "display_data"
    }
   ],
   "source": [
    "# Plotting Loss and Accuracy Graphs\n",
    "plt.figure(figsize=(12, 12))\n",
    "plt.plot(history.history['loss'])\n",
    "plt.plot(history.history['val_loss'])\n",
    "plt.title('Loss')\n",
    "plt.legend(['train', 'val'], loc='upper left')\n",
    "plt.show()\n",
    "\n",
    "plt.figure(figsize=(12, 12))\n",
    "plt.plot(history.history['accuracy'])\n",
    "plt.plot(history.history['val_accuracy'])\n",
    "plt.title('Accuracy')\n",
    "plt.legend(['train', 'val'], loc='upper left')\n",
    "plt.show()"
   ]
  },
  {
   "cell_type": "code",
   "execution_count": null,
   "metadata": {},
   "outputs": [],
   "source": []
  }
 ],
 "metadata": {
  "kernelspec": {
   "display_name": "trainEnv",
   "language": "python",
   "name": "trainenv"
  },
  "language_info": {
   "codemirror_mode": {
    "name": "ipython",
    "version": 3
   },
   "file_extension": ".py",
   "mimetype": "text/x-python",
   "name": "python",
   "nbconvert_exporter": "python",
   "pygments_lexer": "ipython3",
   "version": "3.7.8"
  }
 },
 "nbformat": 4,
 "nbformat_minor": 4
}
